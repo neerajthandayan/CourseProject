{
  "nbformat": 4,
  "nbformat_minor": 0,
  "metadata": {
    "colab": {
      "name": "Project.ipynb",
      "provenance": [],
      "toc_visible": true,
      "mount_file_id": "https://github.com/neerajthandayan/CourseProject/blob/main/Project.ipynb",
      "authorship_tag": "ABX9TyOI6JVFntCqmEIVo/feeK55",
      "include_colab_link": true
    },
    "kernelspec": {
      "name": "python3",
      "display_name": "Python 3"
    },
    "language_info": {
      "name": "python"
    }
  },
  "cells": [
    {
      "cell_type": "markdown",
      "metadata": {
        "id": "view-in-github",
        "colab_type": "text"
      },
      "source": [
        "<a href=\"https://colab.research.google.com/github/neerajthandayan/CourseProject/blob/main/Project.ipynb\" target=\"_parent\"><img src=\"https://colab.research.google.com/assets/colab-badge.svg\" alt=\"Open In Colab\"/></a>"
      ]
    },
    {
      "cell_type": "code",
      "metadata": {
        "id": "W8wYHskcOVOQ"
      },
      "source": [
        "# Importing Libraries\n",
        "\n",
        "import numpy as np\n",
        "import pandas as pd"
      ],
      "execution_count": 34,
      "outputs": []
    },
    {
      "cell_type": "code",
      "metadata": {
        "id": "zFnZCfVHO0ka"
      },
      "source": [
        "# Loading Data\n",
        "\n",
        "data = pd.read_csv('/content/drive/MyDrive/Project Data/Arrest_data.csv',header=0)"
      ],
      "execution_count": 35,
      "outputs": []
    },
    {
      "cell_type": "code",
      "metadata": {
        "id": "ovMCmcvQPLpR",
        "colab": {
          "base_uri": "https://localhost:8080/"
        },
        "outputId": "db1d80f6-87d6-4782-a37a-f91c33489da2"
      },
      "source": [
        "data.columns"
      ],
      "execution_count": 36,
      "outputs": [
        {
          "output_type": "execute_result",
          "data": {
            "text/plain": [
              "Index(['Measure', 'Time', 'Time_type', 'Ethnicity', 'Ethnicity_type', 'Gender',\n",
              "       'Gender_type', 'Age_Group', 'Age_Group_type', 'Geography',\n",
              "       'Geography_type', 'Number of arrests',\n",
              "       'Population by ethnicity, gender, and PFA (based on 2011 Census)',\n",
              "       'Rate per 1,000 population by ethnicity, gender, and PFA',\n",
              "       'Proportion of arrests of this ethnicity, in this year, of this gender and in this police force area (excludes unreported)',\n",
              "       'Notes'],\n",
              "      dtype='object')"
            ]
          },
          "metadata": {
            "tags": []
          },
          "execution_count": 36
        }
      ]
    },
    {
      "cell_type": "code",
      "metadata": {
        "id": "jRctBkLoPcYf"
      },
      "source": [
        "x = data.loc[data['Time'] == '2018/19']\n",
        "x = x.loc[x['Age_Group'] == 'All']\n",
        "x = x.loc[x['Ethnicity'] != 'All']\n",
        "x = x.loc[x['Ethnicity_type'] == 'ONS 2001 16+1']\n",
        "x = x.loc[x['Geography'] != 'All']\n",
        "x = x.loc[x['Gender'] == 'All']\n",
        "x = x[['Time','Ethnicity','Geography','Population by ethnicity, gender, and PFA (based on 2011 Census)']]\n",
        "test = x.loc[x['Geography'] == 'Avon and Somerset']"
      ],
      "execution_count": 37,
      "outputs": []
    },
    {
      "cell_type": "code",
      "metadata": {
        "id": "Tixytuy13dah",
        "outputId": "08061195-f717-4b3d-88fe-e1c5de259c63",
        "colab": {
          "base_uri": "https://localhost:8080/"
        }
      },
      "source": [
        "test.head(2)\n",
        "test.rename(columns={'Population by ethnicity, gender, and PFA (based on 2011 Census)':'Population'}, inplace=True)"
      ],
      "execution_count": 38,
      "outputs": [
        {
          "output_type": "stream",
          "text": [
            "/usr/local/lib/python3.7/dist-packages/pandas/core/frame.py:4308: SettingWithCopyWarning: \n",
            "A value is trying to be set on a copy of a slice from a DataFrame\n",
            "\n",
            "See the caveats in the documentation: https://pandas.pydata.org/pandas-docs/stable/user_guide/indexing.html#returning-a-view-versus-a-copy\n",
            "  errors=errors,\n"
          ],
          "name": "stderr"
        }
      ]
    },
    {
      "cell_type": "code",
      "metadata": {
        "id": "HXgURqvV50PX",
        "outputId": "00124624-c7c7-468a-d623-9a359b82213f",
        "colab": {
          "base_uri": "https://localhost:8080/",
          "height": 35
        }
      },
      "source": [
        "  test['Population'].iloc[1]"
      ],
      "execution_count": 39,
      "outputs": [
        {
          "output_type": "execute_result",
          "data": {
            "application/vnd.google.colaboratory.intrinsic+json": {
              "type": "string"
            },
            "text/plain": [
              "'7,504'"
            ]
          },
          "metadata": {
            "tags": []
          },
          "execution_count": 39
        }
      ]
    },
    {
      "cell_type": "code",
      "metadata": {
        "id": "f_V0rNpd3xtI",
        "outputId": "b4acd6fd-f675-46be-a134-8c704fb339f9",
        "colab": {
          "base_uri": "https://localhost:8080/"
        }
      },
      "source": [
        "s = test['Population'].copy()\n",
        "t = []\n",
        "u = []\n",
        "for i in range(len(s)):\n",
        "  t.append(s.iloc[i].replace(',',''))\n",
        "  u.append(pd.to_numeric(t[i]))\n",
        "\n",
        "test['Population'] = u"
      ],
      "execution_count": 48,
      "outputs": [
        {
          "output_type": "stream",
          "text": [
            "/usr/local/lib/python3.7/dist-packages/ipykernel_launcher.py:8: SettingWithCopyWarning: \n",
            "A value is trying to be set on a copy of a slice from a DataFrame.\n",
            "Try using .loc[row_indexer,col_indexer] = value instead\n",
            "\n",
            "See the caveats in the documentation: https://pandas.pydata.org/pandas-docs/stable/user_guide/indexing.html#returning-a-view-versus-a-copy\n",
            "  \n"
          ],
          "name": "stderr"
        }
      ]
    },
    {
      "cell_type": "code",
      "metadata": {
        "id": "HVl7f7lc6piL",
        "outputId": "e4c2abd7-fc52-41a8-f755-f855ad000fb0",
        "colab": {
          "base_uri": "https://localhost:8080/"
        }
      },
      "source": [
        "test['rel_pop'] = (test['Population']/test['Population'].sum())*100"
      ],
      "execution_count": 52,
      "outputs": [
        {
          "output_type": "stream",
          "text": [
            "/usr/local/lib/python3.7/dist-packages/ipykernel_launcher.py:1: SettingWithCopyWarning: \n",
            "A value is trying to be set on a copy of a slice from a DataFrame.\n",
            "Try using .loc[row_indexer,col_indexer] = value instead\n",
            "\n",
            "See the caveats in the documentation: https://pandas.pydata.org/pandas-docs/stable/user_guide/indexing.html#returning-a-view-versus-a-copy\n",
            "  \"\"\"Entry point for launching an IPython kernel.\n"
          ],
          "name": "stderr"
        }
      ]
    },
    {
      "cell_type": "code",
      "metadata": {
        "id": "Cm3onxzn-EKJ",
        "outputId": "0b851cb4-dcfd-4ccf-d440-7ef586176417",
        "colab": {
          "base_uri": "https://localhost:8080/"
        }
      },
      "source": [
        "test['rp_sq'] = test['rel_pop']**2"
      ],
      "execution_count": 54,
      "outputs": [
        {
          "output_type": "stream",
          "text": [
            "/usr/local/lib/python3.7/dist-packages/ipykernel_launcher.py:1: SettingWithCopyWarning: \n",
            "A value is trying to be set on a copy of a slice from a DataFrame.\n",
            "Try using .loc[row_indexer,col_indexer] = value instead\n",
            "\n",
            "See the caveats in the documentation: https://pandas.pydata.org/pandas-docs/stable/user_guide/indexing.html#returning-a-view-versus-a-copy\n",
            "  \"\"\"Entry point for launching an IPython kernel.\n"
          ],
          "name": "stderr"
        }
      ]
    },
    {
      "cell_type": "code",
      "metadata": {
        "id": "lgWRj9QJ-ixA",
        "outputId": "75070fa3-f863-4d63-f3ac-b2217de1f3b8",
        "colab": {
          "base_uri": "https://localhost:8080/"
        }
      },
      "source": [
        "test['rp_sq'].sum()"
      ],
      "execution_count": 56,
      "outputs": [
        {
          "output_type": "execute_result",
          "data": {
            "text/plain": [
              "7962.255397957446"
            ]
          },
          "metadata": {
            "tags": []
          },
          "execution_count": 56
        }
      ]
    }
  ]
}