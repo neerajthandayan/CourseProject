{
  "nbformat": 4,
  "nbformat_minor": 0,
  "metadata": {
    "colab": {
      "name": "Ethnic_Diversity_Calculation.ipynb",
      "provenance": [],
      "mount_file_id": "1PU4I3syC4VMyUFaoe2v-I9vtbgYl68Y7",
      "authorship_tag": "ABX9TyPIy8mZuA4qHFP7TWJX0pHs",
      "include_colab_link": true
    },
    "kernelspec": {
      "name": "python3",
      "display_name": "Python 3"
    },
    "language_info": {
      "name": "python"
    }
  },
  "cells": [
    {
      "cell_type": "markdown",
      "metadata": {
        "id": "view-in-github",
        "colab_type": "text"
      },
      "source": [
        "<a href=\"https://colab.research.google.com/github/neerajthandayan/CourseProject/blob/main/Ethnic_Diversity_Calculation.ipynb\" target=\"_parent\"><img src=\"https://colab.research.google.com/assets/colab-badge.svg\" alt=\"Open In Colab\"/></a>"
      ]
    },
    {
      "cell_type": "markdown",
      "metadata": {
        "id": "gEp7eSswViuC"
      },
      "source": [
        "## Calculating Ethinic Diversity in Different Police Force Areas"
      ]
    },
    {
      "cell_type": "code",
      "metadata": {
        "id": "4JNFXnY6_DSx"
      },
      "source": [
        "# Importing Libraries\n",
        "\n",
        "import numpy as np\n",
        "import pandas as pd"
      ],
      "execution_count": 112,
      "outputs": []
    },
    {
      "cell_type": "code",
      "metadata": {
        "colab": {
          "base_uri": "https://localhost:8080/",
          "height": 446
        },
        "id": "TrGt5YPh_Mtp",
        "outputId": "94288082-1d00-4609-c99a-c1f7e5f0e512"
      },
      "source": [
        "# Loading Data\n",
        "\n",
        "data = pd.read_csv('/content/drive/MyDrive/Project Data/Arrest_data.csv',header=0)\n",
        "data.head(2)"
      ],
      "execution_count": 113,
      "outputs": [
        {
          "output_type": "execute_result",
          "data": {
            "text/html": [
              "<div>\n",
              "<style scoped>\n",
              "    .dataframe tbody tr th:only-of-type {\n",
              "        vertical-align: middle;\n",
              "    }\n",
              "\n",
              "    .dataframe tbody tr th {\n",
              "        vertical-align: top;\n",
              "    }\n",
              "\n",
              "    .dataframe thead th {\n",
              "        text-align: right;\n",
              "    }\n",
              "</style>\n",
              "<table border=\"1\" class=\"dataframe\">\n",
              "  <thead>\n",
              "    <tr style=\"text-align: right;\">\n",
              "      <th></th>\n",
              "      <th>Measure</th>\n",
              "      <th>Time</th>\n",
              "      <th>Time_type</th>\n",
              "      <th>Ethnicity</th>\n",
              "      <th>Ethnicity_type</th>\n",
              "      <th>Gender</th>\n",
              "      <th>Gender_type</th>\n",
              "      <th>Age_Group</th>\n",
              "      <th>Age_Group_type</th>\n",
              "      <th>Geography</th>\n",
              "      <th>Geography_type</th>\n",
              "      <th>Number of arrests</th>\n",
              "      <th>Population by ethnicity, gender, and PFA (based on 2011 Census)</th>\n",
              "      <th>Rate per 1,000 population by ethnicity, gender, and PFA</th>\n",
              "      <th>Proportion of arrests of this ethnicity, in this year, of this gender and in this police force area (excludes unreported)</th>\n",
              "      <th>Notes</th>\n",
              "    </tr>\n",
              "  </thead>\n",
              "  <tbody>\n",
              "    <tr>\n",
              "      <th>0</th>\n",
              "      <td>Number of arrests</td>\n",
              "      <td>2018/19</td>\n",
              "      <td>Financial year</td>\n",
              "      <td>All</td>\n",
              "      <td>All</td>\n",
              "      <td>All</td>\n",
              "      <td>Male/Female</td>\n",
              "      <td>10 - 17 years</td>\n",
              "      <td>Arrest age group categories</td>\n",
              "      <td>All</td>\n",
              "      <td>Police Force Area</td>\n",
              "      <td>60,208</td>\n",
              "      <td>N/A for individual age groups</td>\n",
              "      <td>N/A for individual age groups</td>\n",
              "      <td>N/A for individual age groups</td>\n",
              "      <td>Excludes Lancashire (both arrest and populatio...</td>\n",
              "    </tr>\n",
              "    <tr>\n",
              "      <th>1</th>\n",
              "      <td>Number of arrests</td>\n",
              "      <td>2018/19</td>\n",
              "      <td>Financial year</td>\n",
              "      <td>All</td>\n",
              "      <td>All</td>\n",
              "      <td>Female</td>\n",
              "      <td>Male/Female</td>\n",
              "      <td>10 - 17 years</td>\n",
              "      <td>Arrest age group categories</td>\n",
              "      <td>All</td>\n",
              "      <td>Police Force Area</td>\n",
              "      <td>9,290</td>\n",
              "      <td>N/A for individual age groups</td>\n",
              "      <td>N/A for individual age groups</td>\n",
              "      <td>N/A for individual age groups</td>\n",
              "      <td>Excludes Lancashire (both arrest and populatio...</td>\n",
              "    </tr>\n",
              "  </tbody>\n",
              "</table>\n",
              "</div>"
            ],
            "text/plain": [
              "             Measure  ...                                              Notes\n",
              "0  Number of arrests  ...  Excludes Lancashire (both arrest and populatio...\n",
              "1  Number of arrests  ...  Excludes Lancashire (both arrest and populatio...\n",
              "\n",
              "[2 rows x 16 columns]"
            ]
          },
          "metadata": {
            "tags": []
          },
          "execution_count": 113
        }
      ]
    },
    {
      "cell_type": "code",
      "metadata": {
        "colab": {
          "base_uri": "https://localhost:8080/"
        },
        "id": "ZEHAA-49_SWh",
        "outputId": "e46ce754-c424-405d-9ee0-94a2ea11246a"
      },
      "source": [
        "data.columns "
      ],
      "execution_count": 114,
      "outputs": [
        {
          "output_type": "execute_result",
          "data": {
            "text/plain": [
              "Index(['Measure', 'Time', 'Time_type', 'Ethnicity', 'Ethnicity_type', 'Gender',\n",
              "       'Gender_type', 'Age_Group', 'Age_Group_type', 'Geography',\n",
              "       'Geography_type', 'Number of arrests',\n",
              "       'Population by ethnicity, gender, and PFA (based on 2011 Census)',\n",
              "       'Rate per 1,000 population by ethnicity, gender, and PFA',\n",
              "       'Proportion of arrests of this ethnicity, in this year, of this gender and in this police force area (excludes unreported)',\n",
              "       'Notes'],\n",
              "      dtype='object')"
            ]
          },
          "metadata": {
            "tags": []
          },
          "execution_count": 114
        }
      ]
    },
    {
      "cell_type": "code",
      "metadata": {
        "id": "fib9oh-TFDmC"
      },
      "source": [
        "# Dropping unnecessary columns \n",
        "\n",
        "data.drop(columns=['Measure','Time_type','Rate per 1,000 population by ethnicity, gender, and PFA','Geography_type','Number of arrests','Gender_type','Age_Group_type',\n",
        "                   'Proportion of arrests of this ethnicity, in this year, of this gender and in this police force area (excludes unreported)',\n",
        "                   'Notes'], inplace=True)"
      ],
      "execution_count": 115,
      "outputs": []
    },
    {
      "cell_type": "code",
      "metadata": {
        "id": "R18oACULFxTb"
      },
      "source": [
        "# Slicing Data  and renaming columns\n",
        "\n",
        "ndata = data.loc[data['Age_Group'] == \"All\"]\n",
        "ndata = ndata.loc[data['Gender'] == \"All\"]\n",
        "ndata = ndata.loc[data['Ethnicity_type'] == \"ONS 2001 16+1\"]\n",
        "ndata = ndata.loc[data['Time'] == \"2018/19\"]\n",
        "ndata = ndata.loc[data['Geography'] != \"All\"]\n",
        "newdata = ndata.drop(columns=['Time','Ethnicity_type','Gender','Age_Group']).copy()\n",
        "newdata.rename(columns={'Population by ethnicity, gender, and PFA (based on 2011 Census)':'Population'},inplace=True)\n",
        "\n",
        "# Droping NaN Values\n",
        "\n",
        "newdata.dropna(inplace=True)\n",
        "\n",
        "# Resetting Index\n",
        "\n",
        "newdata.reset_index(inplace=True)"
      ],
      "execution_count": 116,
      "outputs": []
    },
    {
      "cell_type": "code",
      "metadata": {
        "id": "VC32NaeXIox2"
      },
      "source": [
        "# Cleaning Population Data\n",
        "\n",
        "c = newdata['Population'].copy()\n",
        "\n",
        "for i in range(len(c)):\n",
        "  if type(c.iloc[i]) == str:\n",
        "    c.iloc[i] = c.iloc[i].replace(',','')\n",
        "    c.iloc[i]= pd.to_numeric(c.iloc[i])\n",
        "  else:\n",
        "    continue\n",
        "\n",
        "newdata['Population'] = c"
      ],
      "execution_count": 117,
      "outputs": []
    },
    {
      "cell_type": "code",
      "metadata": {
        "colab": {
          "base_uri": "https://localhost:8080/"
        },
        "id": "pk5lGZNCGyPJ",
        "outputId": "534a0681-977f-4f82-ac2f-db8597645656"
      },
      "source": [
        "# Creating Geography Object\n",
        "\n",
        "PFA = newdata['Geography'].unique()\n",
        "PFA"
      ],
      "execution_count": 118,
      "outputs": [
        {
          "output_type": "execute_result",
          "data": {
            "text/plain": [
              "array(['Avon and Somerset', 'Bedfordshire', 'Cambridgeshire', 'Cheshire',\n",
              "       'Cleveland', 'Cumbria', 'Derbyshire', 'Devon and Cornwall',\n",
              "       'Dorset', 'Durham', 'Dyfed-Powys', 'Essex', 'Gloucestershire',\n",
              "       'Greater Manchester', 'Gwent', 'Hampshire', 'Hertfordshire',\n",
              "       'Humberside', 'Kent', 'Lancashire', 'Leicestershire',\n",
              "       'Lincolnshire', 'Merseyside', 'Metropolitan Police', 'Norfolk',\n",
              "       'North Wales', 'North Yorkshire', 'Northamptonshire',\n",
              "       'Northumbria', 'Nottinghamshire', 'South Wales', 'South Yorkshire',\n",
              "       'Staffordshire', 'Suffolk', 'Surrey', 'Sussex', 'Thames Valley',\n",
              "       'Warwickshire', 'West Mercia', 'West Midlands', 'West Yorkshire',\n",
              "       'Wiltshire'], dtype=object)"
            ]
          },
          "metadata": {
            "tags": []
          },
          "execution_count": 118
        }
      ]
    },
    {
      "cell_type": "code",
      "metadata": {
        "id": "0PUHQgKpNM4L"
      },
      "source": [
        "# Creating Columns for Relative Population Data and Squared Relative Population\n",
        "\n",
        "newdata['rel_pop'] = np.NaN\n",
        "newdata['rl_sd'] = np.NaN"
      ],
      "execution_count": 119,
      "outputs": []
    },
    {
      "cell_type": "code",
      "metadata": {
        "id": "uEQN9KKzP0dV"
      },
      "source": [
        "# Populating Relative Population Data and Squared Relative Population\n",
        "\n",
        "u = []\n",
        "\n",
        "for i in PFA:\n",
        "  a = newdata.loc[newdata['Geography'] == i].copy()\n",
        "  a['rel_pop'] = (a['Population']/a['Population'].sum())*100\n",
        "  for x in a['rel_pop']:\n",
        "    u.append(x)\n",
        "\n",
        "newdata['rel_pop'] = u\n",
        "newdata['rl_sd'] = np.square(newdata['rel_pop'].copy())"
      ],
      "execution_count": 120,
      "outputs": []
    },
    {
      "cell_type": "code",
      "metadata": {
        "id": "YkInSFuOSUEj"
      },
      "source": [
        "# Making Herfindahl-Hirschman concentration index object\n",
        "\n",
        "Ethnic_Diversity = []\n",
        "\n",
        "for q in PFA:\n",
        "  Ethnic_Diversity.append(10000 - newdata.loc[newdata['Geography'] == q]['rl_sd'].sum())"
      ],
      "execution_count": 121,
      "outputs": []
    },
    {
      "cell_type": "code",
      "metadata": {
        "colab": {
          "base_uri": "https://localhost:8080/",
          "height": 1000
        },
        "id": "umCeNJNATZPp",
        "outputId": "25e9f05c-4ce4-4c56-b97d-71b72a33fb2c"
      },
      "source": [
        "# Craeting DataFrame for Ethnic Diversity\n",
        "\n",
        "mydict = {'Geography': PFA, 'Diversity_Score': Ethnic_Diversity}\n",
        "fdata = pd.DataFrame.from_dict(mydict)\n",
        "fdata.sort_values(by='Diversity_Score', ascending=False)"
      ],
      "execution_count": 122,
      "outputs": [
        {
          "output_type": "execute_result",
          "data": {
            "text/html": [
              "<div>\n",
              "<style scoped>\n",
              "    .dataframe tbody tr th:only-of-type {\n",
              "        vertical-align: middle;\n",
              "    }\n",
              "\n",
              "    .dataframe tbody tr th {\n",
              "        vertical-align: top;\n",
              "    }\n",
              "\n",
              "    .dataframe thead th {\n",
              "        text-align: right;\n",
              "    }\n",
              "</style>\n",
              "<table border=\"1\" class=\"dataframe\">\n",
              "  <thead>\n",
              "    <tr style=\"text-align: right;\">\n",
              "      <th></th>\n",
              "      <th>Geography</th>\n",
              "      <th>Diversity_Score</th>\n",
              "    </tr>\n",
              "  </thead>\n",
              "  <tbody>\n",
              "    <tr>\n",
              "      <th>23</th>\n",
              "      <td>Metropolitan Police</td>\n",
              "      <td>7643.939281</td>\n",
              "    </tr>\n",
              "    <tr>\n",
              "      <th>39</th>\n",
              "      <td>West Midlands</td>\n",
              "      <td>5502.850490</td>\n",
              "    </tr>\n",
              "    <tr>\n",
              "      <th>1</th>\n",
              "      <td>Bedfordshire</td>\n",
              "      <td>4986.546898</td>\n",
              "    </tr>\n",
              "    <tr>\n",
              "      <th>20</th>\n",
              "      <td>Leicestershire</td>\n",
              "      <td>4226.977000</td>\n",
              "    </tr>\n",
              "    <tr>\n",
              "      <th>36</th>\n",
              "      <td>Thames Valley</td>\n",
              "      <td>3875.831242</td>\n",
              "    </tr>\n",
              "    <tr>\n",
              "      <th>40</th>\n",
              "      <td>West Yorkshire</td>\n",
              "      <td>3754.387390</td>\n",
              "    </tr>\n",
              "    <tr>\n",
              "      <th>13</th>\n",
              "      <td>Greater Manchester</td>\n",
              "      <td>3579.964301</td>\n",
              "    </tr>\n",
              "    <tr>\n",
              "      <th>16</th>\n",
              "      <td>Hertfordshire</td>\n",
              "      <td>3421.414505</td>\n",
              "    </tr>\n",
              "    <tr>\n",
              "      <th>2</th>\n",
              "      <td>Cambridgeshire</td>\n",
              "      <td>3302.841513</td>\n",
              "    </tr>\n",
              "    <tr>\n",
              "      <th>34</th>\n",
              "      <td>Surrey</td>\n",
              "      <td>2981.203065</td>\n",
              "    </tr>\n",
              "    <tr>\n",
              "      <th>29</th>\n",
              "      <td>Nottinghamshire</td>\n",
              "      <td>2748.683642</td>\n",
              "    </tr>\n",
              "    <tr>\n",
              "      <th>27</th>\n",
              "      <td>Northamptonshire</td>\n",
              "      <td>2629.404336</td>\n",
              "    </tr>\n",
              "    <tr>\n",
              "      <th>19</th>\n",
              "      <td>Lancashire</td>\n",
              "      <td>2278.061196</td>\n",
              "    </tr>\n",
              "    <tr>\n",
              "      <th>31</th>\n",
              "      <td>South Yorkshire</td>\n",
              "      <td>2229.518342</td>\n",
              "    </tr>\n",
              "    <tr>\n",
              "      <th>35</th>\n",
              "      <td>Sussex</td>\n",
              "      <td>2163.275880</td>\n",
              "    </tr>\n",
              "    <tr>\n",
              "      <th>37</th>\n",
              "      <td>Warwickshire</td>\n",
              "      <td>2149.488325</td>\n",
              "    </tr>\n",
              "    <tr>\n",
              "      <th>18</th>\n",
              "      <td>Kent</td>\n",
              "      <td>2144.481872</td>\n",
              "    </tr>\n",
              "    <tr>\n",
              "      <th>0</th>\n",
              "      <td>Avon and Somerset</td>\n",
              "      <td>2037.744602</td>\n",
              "    </tr>\n",
              "    <tr>\n",
              "      <th>15</th>\n",
              "      <td>Hampshire</td>\n",
              "      <td>1991.328768</td>\n",
              "    </tr>\n",
              "    <tr>\n",
              "      <th>11</th>\n",
              "      <td>Essex</td>\n",
              "      <td>1977.842198</td>\n",
              "    </tr>\n",
              "    <tr>\n",
              "      <th>41</th>\n",
              "      <td>Wiltshire</td>\n",
              "      <td>1762.808997</td>\n",
              "    </tr>\n",
              "    <tr>\n",
              "      <th>6</th>\n",
              "      <td>Derbyshire</td>\n",
              "      <td>1750.805359</td>\n",
              "    </tr>\n",
              "    <tr>\n",
              "      <th>30</th>\n",
              "      <td>South Wales</td>\n",
              "      <td>1738.779906</td>\n",
              "    </tr>\n",
              "    <tr>\n",
              "      <th>33</th>\n",
              "      <td>Suffolk</td>\n",
              "      <td>1731.141355</td>\n",
              "    </tr>\n",
              "    <tr>\n",
              "      <th>12</th>\n",
              "      <td>Gloucestershire</td>\n",
              "      <td>1603.650645</td>\n",
              "    </tr>\n",
              "    <tr>\n",
              "      <th>22</th>\n",
              "      <td>Merseyside</td>\n",
              "      <td>1561.342824</td>\n",
              "    </tr>\n",
              "    <tr>\n",
              "      <th>32</th>\n",
              "      <td>Staffordshire</td>\n",
              "      <td>1539.424074</td>\n",
              "    </tr>\n",
              "    <tr>\n",
              "      <th>8</th>\n",
              "      <td>Dorset</td>\n",
              "      <td>1538.872741</td>\n",
              "    </tr>\n",
              "    <tr>\n",
              "      <th>24</th>\n",
              "      <td>Norfolk</td>\n",
              "      <td>1439.043039</td>\n",
              "    </tr>\n",
              "    <tr>\n",
              "      <th>28</th>\n",
              "      <td>Northumbria</td>\n",
              "      <td>1390.780886</td>\n",
              "    </tr>\n",
              "    <tr>\n",
              "      <th>38</th>\n",
              "      <td>West Mercia</td>\n",
              "      <td>1354.464729</td>\n",
              "    </tr>\n",
              "    <tr>\n",
              "      <th>21</th>\n",
              "      <td>Lincolnshire</td>\n",
              "      <td>1332.044824</td>\n",
              "    </tr>\n",
              "    <tr>\n",
              "      <th>4</th>\n",
              "      <td>Cleveland</td>\n",
              "      <td>1321.355500</td>\n",
              "    </tr>\n",
              "    <tr>\n",
              "      <th>26</th>\n",
              "      <td>North Yorkshire</td>\n",
              "      <td>1271.911833</td>\n",
              "    </tr>\n",
              "    <tr>\n",
              "      <th>17</th>\n",
              "      <td>Humberside</td>\n",
              "      <td>1249.382740</td>\n",
              "    </tr>\n",
              "    <tr>\n",
              "      <th>3</th>\n",
              "      <td>Cheshire</td>\n",
              "      <td>1132.303645</td>\n",
              "    </tr>\n",
              "    <tr>\n",
              "      <th>14</th>\n",
              "      <td>Gwent</td>\n",
              "      <td>1081.211152</td>\n",
              "    </tr>\n",
              "    <tr>\n",
              "      <th>7</th>\n",
              "      <td>Devon and Cornwall</td>\n",
              "      <td>992.760565</td>\n",
              "    </tr>\n",
              "    <tr>\n",
              "      <th>25</th>\n",
              "      <td>North Wales</td>\n",
              "      <td>969.257113</td>\n",
              "    </tr>\n",
              "    <tr>\n",
              "      <th>10</th>\n",
              "      <td>Dyfed-Powys</td>\n",
              "      <td>902.692587</td>\n",
              "    </tr>\n",
              "    <tr>\n",
              "      <th>9</th>\n",
              "      <td>Durham</td>\n",
              "      <td>765.439134</td>\n",
              "    </tr>\n",
              "    <tr>\n",
              "      <th>5</th>\n",
              "      <td>Cumbria</td>\n",
              "      <td>693.688430</td>\n",
              "    </tr>\n",
              "  </tbody>\n",
              "</table>\n",
              "</div>"
            ],
            "text/plain": [
              "              Geography  Diversity_Score\n",
              "23  Metropolitan Police      7643.939281\n",
              "39        West Midlands      5502.850490\n",
              "1          Bedfordshire      4986.546898\n",
              "20       Leicestershire      4226.977000\n",
              "36        Thames Valley      3875.831242\n",
              "40       West Yorkshire      3754.387390\n",
              "13   Greater Manchester      3579.964301\n",
              "16        Hertfordshire      3421.414505\n",
              "2        Cambridgeshire      3302.841513\n",
              "34               Surrey      2981.203065\n",
              "29      Nottinghamshire      2748.683642\n",
              "27     Northamptonshire      2629.404336\n",
              "19           Lancashire      2278.061196\n",
              "31      South Yorkshire      2229.518342\n",
              "35               Sussex      2163.275880\n",
              "37         Warwickshire      2149.488325\n",
              "18                 Kent      2144.481872\n",
              "0     Avon and Somerset      2037.744602\n",
              "15            Hampshire      1991.328768\n",
              "11                Essex      1977.842198\n",
              "41            Wiltshire      1762.808997\n",
              "6            Derbyshire      1750.805359\n",
              "30          South Wales      1738.779906\n",
              "33              Suffolk      1731.141355\n",
              "12      Gloucestershire      1603.650645\n",
              "22           Merseyside      1561.342824\n",
              "32        Staffordshire      1539.424074\n",
              "8                Dorset      1538.872741\n",
              "24              Norfolk      1439.043039\n",
              "28          Northumbria      1390.780886\n",
              "38          West Mercia      1354.464729\n",
              "21         Lincolnshire      1332.044824\n",
              "4             Cleveland      1321.355500\n",
              "26      North Yorkshire      1271.911833\n",
              "17           Humberside      1249.382740\n",
              "3              Cheshire      1132.303645\n",
              "14                Gwent      1081.211152\n",
              "7    Devon and Cornwall       992.760565\n",
              "25          North Wales       969.257113\n",
              "10          Dyfed-Powys       902.692587\n",
              "9                Durham       765.439134\n",
              "5               Cumbria       693.688430"
            ]
          },
          "metadata": {
            "tags": []
          },
          "execution_count": 122
        }
      ]
    },
    {
      "cell_type": "code",
      "metadata": {
        "id": "Rk9N1ZYpXwLh"
      },
      "source": [
        "# Saving Ethinic Diversity CSV\n",
        "\n",
        "fdata.to_csv('ethnicdiversity.csv')"
      ],
      "execution_count": 123,
      "outputs": []
    }
  ]
}