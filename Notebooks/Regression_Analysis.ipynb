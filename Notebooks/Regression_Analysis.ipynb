{
  "nbformat": 4,
  "nbformat_minor": 0,
  "metadata": {
    "colab": {
      "name": "Regression_Analysis.ipynb",
      "provenance": [],
      "toc_visible": true,
      "authorship_tag": "ABX9TyMxSt8C7AuvhN0agOOIqEYT",
      "include_colab_link": true
    },
    "kernelspec": {
      "name": "python3",
      "display_name": "Python 3"
    },
    "language_info": {
      "name": "python"
    }
  },
  "cells": [
    {
      "cell_type": "markdown",
      "metadata": {
        "id": "view-in-github",
        "colab_type": "text"
      },
      "source": [
        "<a href=\"https://colab.research.google.com/github/neerajthandayan/CourseProject/blob/main/Notebooks/Regression_Analysis.ipynb\" target=\"_parent\"><img src=\"https://colab.research.google.com/assets/colab-badge.svg\" alt=\"Open In Colab\"/></a>"
      ]
    },
    {
      "cell_type": "markdown",
      "metadata": {
        "id": "ah5z-JfDRHZy"
      },
      "source": [
        "## Performing Regressions Analysis to Estimate Best Socio-political Predictor(s) of Police Bias"
      ]
    },
    {
      "cell_type": "code",
      "metadata": {
        "id": "5dK3TVwSKJjq"
      },
      "source": [
        "## Importing Libraries\n",
        "\n",
        "import pandas as pd\n",
        "import numpy as np\n",
        "from sklearn.model_selection import train_test_split\n",
        "from sklearn.feature_selection import SelectKBest\n",
        "from sklearn.feature_selection import f_regression\n",
        "from sklearn.preprocessing import StandardScaler\n",
        "from scipy.stats import linregress\n",
        "from plotnine import *"
      ],
      "execution_count": 1,
      "outputs": []
    },
    {
      "cell_type": "code",
      "metadata": {
        "id": "x9SB9D7HSA14"
      },
      "source": [
        "## Fetching Data from Repo\n",
        "\n",
        "pol = pd.read_csv('https://raw.githubusercontent.com/neerajthandayan/CourseProject/main/Data/cpc_party.csv', index_col=0)\n",
        "ed = pd.read_csv('https://raw.githubusercontent.com/neerajthandayan/CourseProject/main/Data/ethnic_diversity.csv', index_col=0)\n",
        "pld = pd.read_csv('https://raw.githubusercontent.com/neerajthandayan/CourseProject/main/Data/police_diversity.csv', index_col=0)\n",
        "ri = pd.read_csv('https://raw.githubusercontent.com/neerajthandayan/CourseProject/main/Data/racist_incidents.csv', index_col=0)\n",
        "bais = pd.read_csv('https://raw.githubusercontent.com/neerajthandayan/CourseProject/main/Data/Police_Bias_1.csv', index_col=0)"
      ],
      "execution_count": 2,
      "outputs": []
    },
    {
      "cell_type": "code",
      "metadata": {
        "colab": {
          "base_uri": "https://localhost:8080/",
          "height": 195
        },
        "id": "nKuphDv6Tc4J",
        "outputId": "dd653634-1b97-428f-9703-b8a39eb2e26d"
      },
      "source": [
        "# Merging DataFrames\n",
        "\n",
        "m_data = pol.merge(ed.merge(pld.merge(ri.merge(bais,on='Geography'),on='Geography'),on='Geography'),on='Geography')\n",
        "m_data.head()"
      ],
      "execution_count": 3,
      "outputs": [
        {
          "output_type": "execute_result",
          "data": {
            "text/html": [
              "<div>\n",
              "<style scoped>\n",
              "    .dataframe tbody tr th:only-of-type {\n",
              "        vertical-align: middle;\n",
              "    }\n",
              "\n",
              "    .dataframe tbody tr th {\n",
              "        vertical-align: top;\n",
              "    }\n",
              "\n",
              "    .dataframe thead th {\n",
              "        text-align: right;\n",
              "    }\n",
              "</style>\n",
              "<table border=\"1\" class=\"dataframe\">\n",
              "  <thead>\n",
              "    <tr style=\"text-align: right;\">\n",
              "      <th></th>\n",
              "      <th>Geography</th>\n",
              "      <th>Con</th>\n",
              "      <th>Ind</th>\n",
              "      <th>Lab</th>\n",
              "      <th>Diversity_Score</th>\n",
              "      <th>PD_Diversity</th>\n",
              "      <th>RI_Rate</th>\n",
              "      <th>Bias</th>\n",
              "    </tr>\n",
              "  </thead>\n",
              "  <tbody>\n",
              "    <tr>\n",
              "      <th>0</th>\n",
              "      <td>Bedfordshire</td>\n",
              "      <td>0</td>\n",
              "      <td>0</td>\n",
              "      <td>1</td>\n",
              "      <td>0.378451</td>\n",
              "      <td>0.115899</td>\n",
              "      <td>0.011177</td>\n",
              "      <td>0.000098</td>\n",
              "    </tr>\n",
              "    <tr>\n",
              "      <th>1</th>\n",
              "      <td>Cambridgeshire</td>\n",
              "      <td>1</td>\n",
              "      <td>0</td>\n",
              "      <td>0</td>\n",
              "      <td>0.181917</td>\n",
              "      <td>0.047769</td>\n",
              "      <td>0.007211</td>\n",
              "      <td>0.000161</td>\n",
              "    </tr>\n",
              "    <tr>\n",
              "      <th>2</th>\n",
              "      <td>Cheshire</td>\n",
              "      <td>1</td>\n",
              "      <td>0</td>\n",
              "      <td>0</td>\n",
              "      <td>0.060466</td>\n",
              "      <td>0.021843</td>\n",
              "      <td>0.006625</td>\n",
              "      <td>0.000037</td>\n",
              "    </tr>\n",
              "    <tr>\n",
              "      <th>3</th>\n",
              "      <td>Cleveland</td>\n",
              "      <td>0</td>\n",
              "      <td>0</td>\n",
              "      <td>1</td>\n",
              "      <td>0.106214</td>\n",
              "      <td>0.035654</td>\n",
              "      <td>0.013326</td>\n",
              "      <td>0.000300</td>\n",
              "    </tr>\n",
              "    <tr>\n",
              "      <th>4</th>\n",
              "      <td>Cumbria</td>\n",
              "      <td>1</td>\n",
              "      <td>0</td>\n",
              "      <td>0</td>\n",
              "      <td>0.030111</td>\n",
              "      <td>0.021202</td>\n",
              "      <td>0.008032</td>\n",
              "      <td>0.000225</td>\n",
              "    </tr>\n",
              "  </tbody>\n",
              "</table>\n",
              "</div>"
            ],
            "text/plain": [
              "        Geography  Con  Ind  ...  PD_Diversity   RI_Rate      Bias\n",
              "0    Bedfordshire    0    0  ...      0.115899  0.011177  0.000098\n",
              "1  Cambridgeshire    1    0  ...      0.047769  0.007211  0.000161\n",
              "2        Cheshire    1    0  ...      0.021843  0.006625  0.000037\n",
              "3       Cleveland    0    0  ...      0.035654  0.013326  0.000300\n",
              "4         Cumbria    1    0  ...      0.021202  0.008032  0.000225\n",
              "\n",
              "[5 rows x 8 columns]"
            ]
          },
          "metadata": {
            "tags": []
          },
          "execution_count": 3
        }
      ]
    },
    {
      "cell_type": "code",
      "metadata": {
        "id": "yAKPnnUuUDPJ"
      },
      "source": [
        "# Creating X (Indenpendent Feture Space) and y (dependent variable)\n",
        "\n",
        "X = m_data.iloc[:,1:-1].values\n",
        "sc = StandardScaler()\n",
        "X_scaled = sc.fit_transform(X)\n",
        "y = m_data.iloc[:,-1].values"
      ],
      "execution_count": 4,
      "outputs": []
    },
    {
      "cell_type": "code",
      "metadata": {
        "colab": {
          "base_uri": "https://localhost:8080/",
          "height": 225
        },
        "id": "7um2WUl0UpCV",
        "outputId": "db8fcb06-7c8d-4afc-baf9-2cf0d4ac1f34"
      },
      "source": [
        "# Running SelectKBest to identify the features that are best predictors of the Police Bias.\n",
        "\n",
        "fs = SelectKBest(score_func=f_regression, k='all')\n",
        "fs.fit(X_scaled,y)\n",
        "bf = pd.DataFrame({\"Fetures\":m_data.columns[1:-1],\"Score\":fs.scores_,'P-Value':fs.pvalues_})\n",
        "bf.sort_values(by='Score', ascending=False)\n",
        "\n",
        "# Based on p-value shown below we assert that ethnic diversity and Police force diversity can be good predictors for police bias in locality."
      ],
      "execution_count": 5,
      "outputs": [
        {
          "output_type": "execute_result",
          "data": {
            "text/html": [
              "<div>\n",
              "<style scoped>\n",
              "    .dataframe tbody tr th:only-of-type {\n",
              "        vertical-align: middle;\n",
              "    }\n",
              "\n",
              "    .dataframe tbody tr th {\n",
              "        vertical-align: top;\n",
              "    }\n",
              "\n",
              "    .dataframe thead th {\n",
              "        text-align: right;\n",
              "    }\n",
              "</style>\n",
              "<table border=\"1\" class=\"dataframe\">\n",
              "  <thead>\n",
              "    <tr style=\"text-align: right;\">\n",
              "      <th></th>\n",
              "      <th>Fetures</th>\n",
              "      <th>Score</th>\n",
              "      <th>P-Value</th>\n",
              "    </tr>\n",
              "  </thead>\n",
              "  <tbody>\n",
              "    <tr>\n",
              "      <th>3</th>\n",
              "      <td>Diversity_Score</td>\n",
              "      <td>8.189350</td>\n",
              "      <td>0.006816</td>\n",
              "    </tr>\n",
              "    <tr>\n",
              "      <th>4</th>\n",
              "      <td>PD_Diversity</td>\n",
              "      <td>6.594149</td>\n",
              "      <td>0.014288</td>\n",
              "    </tr>\n",
              "    <tr>\n",
              "      <th>2</th>\n",
              "      <td>Lab</td>\n",
              "      <td>1.795469</td>\n",
              "      <td>0.188219</td>\n",
              "    </tr>\n",
              "    <tr>\n",
              "      <th>0</th>\n",
              "      <td>Con</td>\n",
              "      <td>0.498299</td>\n",
              "      <td>0.484554</td>\n",
              "    </tr>\n",
              "    <tr>\n",
              "      <th>1</th>\n",
              "      <td>Ind</td>\n",
              "      <td>0.368376</td>\n",
              "      <td>0.547501</td>\n",
              "    </tr>\n",
              "    <tr>\n",
              "      <th>5</th>\n",
              "      <td>RI_Rate</td>\n",
              "      <td>0.064115</td>\n",
              "      <td>0.801471</td>\n",
              "    </tr>\n",
              "  </tbody>\n",
              "</table>\n",
              "</div>"
            ],
            "text/plain": [
              "           Fetures     Score   P-Value\n",
              "3  Diversity_Score  8.189350  0.006816\n",
              "4     PD_Diversity  6.594149  0.014288\n",
              "2              Lab  1.795469  0.188219\n",
              "0              Con  0.498299  0.484554\n",
              "1              Ind  0.368376  0.547501\n",
              "5          RI_Rate  0.064115  0.801471"
            ]
          },
          "metadata": {
            "tags": []
          },
          "execution_count": 5
        }
      ]
    },
    {
      "cell_type": "markdown",
      "metadata": {
        "id": "P6m6UEJDiilV"
      },
      "source": [
        "#### Running Regression to estimate relation between:\n",
        "* A. Ethinic Diversity & Bias\n",
        "* B. Police Dept. Diversity & Bais"
      ]
    },
    {
      "cell_type": "code",
      "metadata": {
        "id": "u3mG38pyihx9"
      },
      "source": [
        "cr = m_data[['Diversity_Score','PD_Diversity','Bias']].copy()\n",
        "\n",
        "# Function for c\n",
        "\n",
        "def reg(x,y):\n",
        "  a = x.values\n",
        "  b = y.values\n",
        "  regval = linregress(a, b)\n",
        "  return regval"
      ],
      "execution_count": 6,
      "outputs": []
    },
    {
      "cell_type": "code",
      "metadata": {
        "id": "KgqSYvFKCk59",
        "outputId": "2520e2ba-3217-48dd-bf3a-897370281f99",
        "colab": {
          "base_uri": "https://localhost:8080/"
        }
      },
      "source": [
        "# Correlation between the ethinic diversity and bias\n",
        "\n",
        "reg(cr['Diversity_Score'],cr['Bias'])\n",
        "# Give that the slope of the regression is potiv we see a positive relationship between Ethnic diversity & Bias"
      ],
      "execution_count": 7,
      "outputs": [
        {
          "output_type": "execute_result",
          "data": {
            "text/plain": [
              "LinregressResult(slope=0.0012961470495583044, intercept=2.6771840592910225e-05, rvalue=0.4210695063197018, pvalue=0.006815909974257355, stderr=0.0004529284062137283)"
            ]
          },
          "metadata": {
            "tags": []
          },
          "execution_count": 7
        }
      ]
    },
    {
      "cell_type": "code",
      "metadata": {
        "id": "fHLaNwy0Kfdw",
        "outputId": "ecd6b4d3-dc7f-4878-ff1c-1e402745d498",
        "colab": {
          "base_uri": "https://localhost:8080/",
          "height": 465
        }
      },
      "source": [
        "ggplot(cr, aes('Diversity_Score','Bias')) + \\\n",
        "geom_point(stat='identity') + \\\n",
        "geom_abline(slope=reg(cr['Diversity_Score'],cr['Bias'])[0], intercept=reg(cr['Diversity_Score'],cr['Bias'])[1])"
      ],
      "execution_count": 8,
      "outputs": [
        {
          "output_type": "display_data",
          "data": {
            "image/png": "[encoded data removed]",
            "text/plain": [
              "<Figure size 640x480 with 1 Axes>"
            ]
          },
          "metadata": {
            "tags": []
          }
        },
        {
          "output_type": "execute_result",
          "data": {
            "text/plain": [
              "<ggplot: (8789674027577)>"
            ]
          },
          "metadata": {
            "tags": []
          },
          "execution_count": 8
        }
      ]
    },
    {
      "cell_type": "code",
      "metadata": {
        "id": "D7MQNgj0Debc",
        "outputId": "21b19d73-af21-4ded-9073-fd26b8748603",
        "colab": {
          "base_uri": "https://localhost:8080/"
        }
      },
      "source": [
        "# Correlation between the ethinic diversity and bias\n",
        "\n",
        "reg(cr['PD_Diversity'],cr['Bias'])\n",
        "# Give that the slope of the regression is potiv we see a positive relationship between PD diversity & Bias"
      ],
      "execution_count": 9,
      "outputs": [
        {
          "output_type": "execute_result",
          "data": {
            "text/plain": [
              "LinregressResult(slope=0.0036766799279616055, intercept=1.7250138167522954e-05, rvalue=0.3845390463087501, pvalue=0.014287902630051034, stderr=0.0014317804817424317)"
            ]
          },
          "metadata": {
            "tags": []
          },
          "execution_count": 9
        }
      ]
    },
    {
      "cell_type": "code",
      "metadata": {
        "id": "2UHIcRV1IDyU",
        "outputId": "85b039b5-8eab-48e0-9e65-0ca39d0007cf",
        "colab": {
          "base_uri": "https://localhost:8080/",
          "height": 465
        }
      },
      "source": [
        "ggplot(cr, aes('PD_Diversity','Bias')) + \\\n",
        "geom_point(stat='identity') + \\\n",
        "geom_abline(slope=reg(cr['PD_Diversity'],cr['Bias'])[0], intercept=reg(cr['PD_Diversity'],cr['Bias'])[1])"
      ],
      "execution_count": 10,
      "outputs": [
        {
          "output_type": "display_data",
          "data": {
            "image/png": "[encoded data removed]",
            "text/plain": [
              "<Figure size 640x480 with 1 Axes>"
            ]
          },
          "metadata": {
            "tags": []
          }
        },
        {
          "output_type": "execute_result",
          "data": {
            "text/plain": [
              "<ggplot: (8789663531589)>"
            ]
          },
          "metadata": {
            "tags": []
          },
          "execution_count": 10
        }
      ]
    }
  ]
}