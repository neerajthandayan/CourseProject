{
  "nbformat": 4,
  "nbformat_minor": 0,
  "metadata": {
    "colab": {
      "name": "Hate_Crime_Data.ipynb",
      "provenance": [],
      "toc_visible": true,
      "authorship_tag": "ABX9TyOycjjozk0VYI85Ilq7cMCj",
      "include_colab_link": true
    },
    "kernelspec": {
      "name": "python3",
      "display_name": "Python 3"
    },
    "language_info": {
      "name": "python"
    }
  },
  "cells": [
    {
      "cell_type": "markdown",
      "metadata": {
        "id": "view-in-github",
        "colab_type": "text"
      },
      "source": [
        "<a href=\"https://colab.research.google.com/github/neerajthandayan/CourseProject/blob/main/Notebooks/Hate_Crime_Data.ipynb\" target=\"_parent\"><img src=\"https://colab.research.google.com/assets/colab-badge.svg\" alt=\"Open In Colab\"/></a>"
      ]
    },
    {
      "cell_type": "code",
      "metadata": {
        "id": "SlicT9525l5E"
      },
      "source": [
        "# Libraries\n",
        "\n",
        "import pandas as pd\n",
        "import numpy as np"
      ],
      "execution_count": null,
      "outputs": []
    },
    {
      "cell_type": "code",
      "metadata": {
        "colab": {
          "base_uri": "https://localhost:8080/"
        },
        "id": "XINly5L85vR3",
        "outputId": "5ceb057e-1527-4ae5-93b2-837386a143b3"
      },
      "source": [
        "# Data Retrieved From: https://www.gov.uk/government/statistics/hate-crimes-england-and-wales-2011-to-2012--2\n",
        "\n",
        "!wget 'https://assets.publishing.service.gov.uk/government/uploads/system/uploads/attachment_data/file/173000/hatecrimes1112tabs.xls'"
      ],
      "execution_count": null,
      "outputs": [
        {
          "output_type": "stream",
          "text": [
            "--2021-04-19 18:09:52--  https://assets.publishing.service.gov.uk/government/uploads/system/uploads/attachment_data/file/173000/hatecrimes1112tabs.xls\n",
            "Resolving assets.publishing.service.gov.uk (assets.publishing.service.gov.uk)... 151.101.0.144, 151.101.64.144, 151.101.128.144, ...\n",
            "Connecting to assets.publishing.service.gov.uk (assets.publishing.service.gov.uk)|151.101.0.144|:443... connected.\n",
            "HTTP request sent, awaiting response... 200 OK\n",
            "Length: 41984 (41K) [application/vnd.ms-excel]\n",
            "Saving to: ‘hatecrimes1112tabs.xls.3’\n",
            "\n",
            "hatecrimes1112tabs. 100%[===================>]  41.00K  --.-KB/s    in 0.01s   \n",
            "\n",
            "2021-04-19 18:09:53 (3.34 MB/s) - ‘hatecrimes1112tabs.xls.3’ saved [41984/41984]\n",
            "\n"
          ],
          "name": "stdout"
        }
      ]
    },
    {
      "cell_type": "code",
      "metadata": {
        "id": "3YmlOmsf5xa2"
      },
      "source": [
        "hc = pd.read_excel('hatecrimes1112tabs.xls',sheet_name='HC.01', header=4)\n",
        "hc = hc.iloc[:53,:3]\n",
        "hc.dropna(inplace=True)\n",
        "hc.rename(columns={'Unnamed: 0':'Geography','Race4':'Race'}, inplace=True)\n",
        "hc.reset_index(inplace=True, drop=True)"
      ],
      "execution_count": null,
      "outputs": []
    },
    {
      "cell_type": "code",
      "metadata": {
        "colab": {
          "base_uri": "https://localhost:8080/"
        },
        "id": "KG2J8YDr6hmQ",
        "outputId": "7d1aa8d9-2e4a-482a-908c-cedd900c9986"
      },
      "source": [
        "for i in range(len(hc)):\n",
        "  hc['Geography'][i] = hc['Geography'][i].replace('5','')"
      ],
      "execution_count": null,
      "outputs": [
        {
          "output_type": "stream",
          "text": [
            "/usr/local/lib/python3.7/dist-packages/ipykernel_launcher.py:2: SettingWithCopyWarning: \n",
            "A value is trying to be set on a copy of a slice from a DataFrame\n",
            "\n",
            "See the caveats in the documentation: https://pandas.pydata.org/pandas-docs/stable/user_guide/indexing.html#returning-a-view-versus-a-copy\n",
            "  \n"
          ],
          "name": "stderr"
        }
      ]
    },
    {
      "cell_type": "code",
      "metadata": {
        "colab": {
          "base_uri": "https://localhost:8080/",
          "height": 195
        },
        "id": "YXB_m3TX8ZtX",
        "outputId": "424a0037-616a-4819-bebf-a767264c9403"
      },
      "source": [
        "hc['Ethnic_HC'] = hc.iloc[:,1:].sum(axis=1)\n",
        "hc = hc[['Geography','Ethnic_HC']]\n",
        "hc.head()"
      ],
      "execution_count": null,
      "outputs": [
        {
          "output_type": "execute_result",
          "data": {
            "text/html": [
              "<div>\n",
              "<style scoped>\n",
              "    .dataframe tbody tr th:only-of-type {\n",
              "        vertical-align: middle;\n",
              "    }\n",
              "\n",
              "    .dataframe tbody tr th {\n",
              "        vertical-align: top;\n",
              "    }\n",
              "\n",
              "    .dataframe thead th {\n",
              "        text-align: right;\n",
              "    }\n",
              "</style>\n",
              "<table border=\"1\" class=\"dataframe\">\n",
              "  <thead>\n",
              "    <tr style=\"text-align: right;\">\n",
              "      <th></th>\n",
              "      <th>Geography</th>\n",
              "      <th>Ethnic_HC</th>\n",
              "    </tr>\n",
              "  </thead>\n",
              "  <tbody>\n",
              "    <tr>\n",
              "      <th>0</th>\n",
              "      <td>Cleveland</td>\n",
              "      <td>308.0</td>\n",
              "    </tr>\n",
              "    <tr>\n",
              "      <th>1</th>\n",
              "      <td>Durham</td>\n",
              "      <td>250.0</td>\n",
              "    </tr>\n",
              "    <tr>\n",
              "      <th>2</th>\n",
              "      <td>Northumbria</td>\n",
              "      <td>570.0</td>\n",
              "    </tr>\n",
              "    <tr>\n",
              "      <th>3</th>\n",
              "      <td>Cheshire</td>\n",
              "      <td>290.0</td>\n",
              "    </tr>\n",
              "    <tr>\n",
              "      <th>4</th>\n",
              "      <td>Cumbria</td>\n",
              "      <td>211.0</td>\n",
              "    </tr>\n",
              "  </tbody>\n",
              "</table>\n",
              "</div>"
            ],
            "text/plain": [
              "     Geography  Ethnic_HC\n",
              "0    Cleveland      308.0\n",
              "1       Durham      250.0\n",
              "2  Northumbria      570.0\n",
              "3     Cheshire      290.0\n",
              "4      Cumbria      211.0"
            ]
          },
          "metadata": {
            "tags": []
          },
          "execution_count": 11
        }
      ]
    },
    {
      "cell_type": "markdown",
      "metadata": {
        "id": "pNlaKUqA9lff"
      },
      "source": [
        "#### Total Offences Data"
      ]
    },
    {
      "cell_type": "code",
      "metadata": {
        "colab": {
          "base_uri": "https://localhost:8080/"
        },
        "id": "QPT9xu2T9kpX",
        "outputId": "a2d2cf67-6c3c-4e09-aa0d-fffe5b2534a9"
      },
      "source": [
        "# Total Offence Data Retrieved From: https://www.gov.uk/government/statistics/crimes-detected-in-england-and-wales-2011-to-2012\n",
        "\n",
        "!wget 'https://assets.publishing.service.gov.uk/government/uploads/system/uploads/attachment_data/file/116437/hosb0812-pfatabs.xls'"
      ],
      "execution_count": null,
      "outputs": [
        {
          "output_type": "stream",
          "text": [
            "--2021-04-19 18:09:54--  https://assets.publishing.service.gov.uk/government/uploads/system/uploads/attachment_data/file/116437/hosb0812-pfatabs.xls\n",
            "Resolving assets.publishing.service.gov.uk (assets.publishing.service.gov.uk)... 151.101.0.144, 151.101.64.144, 151.101.128.144, ...\n",
            "Connecting to assets.publishing.service.gov.uk (assets.publishing.service.gov.uk)|151.101.0.144|:443... connected.\n",
            "HTTP request sent, awaiting response... 200 OK\n",
            "Length: 98304 (96K) [application/vnd.ms-excel]\n",
            "Saving to: ‘hosb0812-pfatabs.xls.1’\n",
            "\n",
            "hosb0812-pfatabs.xl 100%[===================>]  96.00K  --.-KB/s    in 0.02s   \n",
            "\n",
            "2021-04-19 18:09:54 (5.29 MB/s) - ‘hosb0812-pfatabs.xls.1’ saved [98304/98304]\n",
            "\n"
          ],
          "name": "stdout"
        }
      ]
    },
    {
      "cell_type": "code",
      "metadata": {
        "colab": {
          "base_uri": "https://localhost:8080/",
          "height": 195
        },
        "id": "W975r5tC9sLw",
        "outputId": "186bdcc0-b6bd-4253-b682-c09694ab6184"
      },
      "source": [
        "off = pd.read_excel('hosb0812-pfatabs.xls', sheet_name='Table 1', header=6)\n",
        "off = off.iloc[:63,:2].dropna().reset_index(drop=True)\n",
        "off.columns = ['Geography','Total_Offences']\n",
        "off.head()"
      ],
      "execution_count": null,
      "outputs": [
        {
          "output_type": "execute_result",
          "data": {
            "text/html": [
              "<div>\n",
              "<style scoped>\n",
              "    .dataframe tbody tr th:only-of-type {\n",
              "        vertical-align: middle;\n",
              "    }\n",
              "\n",
              "    .dataframe tbody tr th {\n",
              "        vertical-align: top;\n",
              "    }\n",
              "\n",
              "    .dataframe thead th {\n",
              "        text-align: right;\n",
              "    }\n",
              "</style>\n",
              "<table border=\"1\" class=\"dataframe\">\n",
              "  <thead>\n",
              "    <tr style=\"text-align: right;\">\n",
              "      <th></th>\n",
              "      <th>Geography</th>\n",
              "      <th>Total_Offences</th>\n",
              "    </tr>\n",
              "  </thead>\n",
              "  <tbody>\n",
              "    <tr>\n",
              "      <th>0</th>\n",
              "      <td>Cleveland</td>\n",
              "      <td>43535.0</td>\n",
              "    </tr>\n",
              "    <tr>\n",
              "      <th>1</th>\n",
              "      <td>Durham</td>\n",
              "      <td>35331.0</td>\n",
              "    </tr>\n",
              "    <tr>\n",
              "      <th>2</th>\n",
              "      <td>Northumbria</td>\n",
              "      <td>75396.0</td>\n",
              "    </tr>\n",
              "    <tr>\n",
              "      <th>3</th>\n",
              "      <td>North East Region</td>\n",
              "      <td>154262.0</td>\n",
              "    </tr>\n",
              "    <tr>\n",
              "      <th>4</th>\n",
              "      <td>Cheshire</td>\n",
              "      <td>59829.0</td>\n",
              "    </tr>\n",
              "  </tbody>\n",
              "</table>\n",
              "</div>"
            ],
            "text/plain": [
              "           Geography  Total_Offences\n",
              "0          Cleveland         43535.0\n",
              "1             Durham         35331.0\n",
              "2        Northumbria         75396.0\n",
              "3  North East Region        154262.0\n",
              "4           Cheshire         59829.0"
            ]
          },
          "metadata": {
            "tags": []
          },
          "execution_count": 20
        }
      ]
    },
    {
      "cell_type": "markdown",
      "metadata": {
        "id": "BwdDdlsg-jF6"
      },
      "source": [
        "#### Merging DataFrames to estimate Ethnic Hate Crime Rate"
      ]
    },
    {
      "cell_type": "code",
      "metadata": {
        "colab": {
          "base_uri": "https://localhost:8080/",
          "height": 343
        },
        "id": "Wsjwhhjf-iOP",
        "outputId": "64c194b6-bec1-413f-fe2e-12e8b057da87"
      },
      "source": [
        "ecr = hc.merge(off, on='Geography')\n",
        "ecr['EHC_Rate'] = ecr['Ethnic_HC']/ecr['Total_Offences']\n",
        "ecr.sort_values(by='EHC_Rate', ascending=False).head(10)"
      ],
      "execution_count": null,
      "outputs": [
        {
          "output_type": "execute_result",
          "data": {
            "text/html": [
              "<div>\n",
              "<style scoped>\n",
              "    .dataframe tbody tr th:only-of-type {\n",
              "        vertical-align: middle;\n",
              "    }\n",
              "\n",
              "    .dataframe tbody tr th {\n",
              "        vertical-align: top;\n",
              "    }\n",
              "\n",
              "    .dataframe thead th {\n",
              "        text-align: right;\n",
              "    }\n",
              "</style>\n",
              "<table border=\"1\" class=\"dataframe\">\n",
              "  <thead>\n",
              "    <tr style=\"text-align: right;\">\n",
              "      <th></th>\n",
              "      <th>Geography</th>\n",
              "      <th>Ethnic_HC</th>\n",
              "      <th>Total_Offences</th>\n",
              "      <th>EHC_Rate</th>\n",
              "    </tr>\n",
              "  </thead>\n",
              "  <tbody>\n",
              "    <tr>\n",
              "      <th>5</th>\n",
              "      <td>Greater Manchester</td>\n",
              "      <td>3154.0</td>\n",
              "      <td>207523.0</td>\n",
              "      <td>0.015198</td>\n",
              "    </tr>\n",
              "    <tr>\n",
              "      <th>13</th>\n",
              "      <td>Leicestershire</td>\n",
              "      <td>957.0</td>\n",
              "      <td>68242.0</td>\n",
              "      <td>0.014024</td>\n",
              "    </tr>\n",
              "    <tr>\n",
              "      <th>20</th>\n",
              "      <td>West Midlands</td>\n",
              "      <td>2583.0</td>\n",
              "      <td>193532.0</td>\n",
              "      <td>0.013347</td>\n",
              "    </tr>\n",
              "    <tr>\n",
              "      <th>7</th>\n",
              "      <td>Merseyside</td>\n",
              "      <td>1137.0</td>\n",
              "      <td>96561.0</td>\n",
              "      <td>0.011775</td>\n",
              "    </tr>\n",
              "    <tr>\n",
              "      <th>34</th>\n",
              "      <td>Avon and Somerset</td>\n",
              "      <td>1289.0</td>\n",
              "      <td>115186.0</td>\n",
              "      <td>0.011191</td>\n",
              "    </tr>\n",
              "    <tr>\n",
              "      <th>28</th>\n",
              "      <td>Metropolitan Police</td>\n",
              "      <td>8590.0</td>\n",
              "      <td>814625.0</td>\n",
              "      <td>0.010545</td>\n",
              "    </tr>\n",
              "    <tr>\n",
              "      <th>24</th>\n",
              "      <td>Hertfordshire</td>\n",
              "      <td>653.0</td>\n",
              "      <td>62251.0</td>\n",
              "      <td>0.010490</td>\n",
              "    </tr>\n",
              "    <tr>\n",
              "      <th>11</th>\n",
              "      <td>West Yorkshire</td>\n",
              "      <td>1885.0</td>\n",
              "      <td>184085.0</td>\n",
              "      <td>0.010240</td>\n",
              "    </tr>\n",
              "    <tr>\n",
              "      <th>17</th>\n",
              "      <td>Staffordshire</td>\n",
              "      <td>652.0</td>\n",
              "      <td>65680.0</td>\n",
              "      <td>0.009927</td>\n",
              "    </tr>\n",
              "    <tr>\n",
              "      <th>27</th>\n",
              "      <td>London, City of</td>\n",
              "      <td>59.0</td>\n",
              "      <td>6119.0</td>\n",
              "      <td>0.009642</td>\n",
              "    </tr>\n",
              "  </tbody>\n",
              "</table>\n",
              "</div>"
            ],
            "text/plain": [
              "              Geography  Ethnic_HC  Total_Offences  EHC_Rate\n",
              "5    Greater Manchester     3154.0        207523.0  0.015198\n",
              "13       Leicestershire      957.0         68242.0  0.014024\n",
              "20        West Midlands     2583.0        193532.0  0.013347\n",
              "7            Merseyside     1137.0         96561.0  0.011775\n",
              "34    Avon and Somerset     1289.0        115186.0  0.011191\n",
              "28  Metropolitan Police     8590.0        814625.0  0.010545\n",
              "24        Hertfordshire      653.0         62251.0  0.010490\n",
              "11       West Yorkshire     1885.0        184085.0  0.010240\n",
              "17        Staffordshire      652.0         65680.0  0.009927\n",
              "27      London, City of       59.0          6119.0  0.009642"
            ]
          },
          "metadata": {
            "tags": []
          },
          "execution_count": 23
        }
      ]
    },
    {
      "cell_type": "code",
      "metadata": {
        "id": "-ps7BnpL_ebB"
      },
      "source": [
        "ecr[['Geography','EHC_Rate']].to_csv('ethnichatecrime_rate.csv')"
      ],
      "execution_count": null,
      "outputs": []
    }
  ]
}