{
  "nbformat": 4,
  "nbformat_minor": 0,
  "metadata": {
    "colab": {
      "name": "Police_Strength_Data.ipynb",
      "provenance": [],
      "authorship_tag": "ABX9TyM7wFJrSijqZeSYmOM3q0mO",
      "include_colab_link": true
    },
    "kernelspec": {
      "name": "python3",
      "display_name": "Python 3"
    },
    "language_info": {
      "name": "python"
    }
  },
  "cells": [
    {
      "cell_type": "markdown",
      "metadata": {
        "id": "view-in-github",
        "colab_type": "text"
      },
      "source": [
        "<a href=\"https://colab.research.google.com/github/neerajthandayan/CourseProject/blob/main/Police_Strength_Data.ipynb\" target=\"_parent\"><img src=\"https://colab.research.google.com/assets/colab-badge.svg\" alt=\"Open In Colab\"/></a>"
      ]
    },
    {
      "cell_type": "code",
      "metadata": {
        "id": "R01o7QvK-tUM"
      },
      "source": [
        "# Loading Libraries\n",
        "\n",
        "import pandas as pd\n",
        "import numpy as np"
      ],
      "execution_count": 1,
      "outputs": []
    },
    {
      "cell_type": "code",
      "metadata": {
        "colab": {
          "base_uri": "https://localhost:8080/",
          "height": 262
        },
        "id": "Cl9pNnnR-5_Z",
        "outputId": "1a39507b-44ea-4a63-bdb5-2c085ab06390"
      },
      "source": [
        "df = pd.read_excel('https://assets.publishing.service.gov.uk/government/uploads/system/uploads/attachment_data/file/115758/hosb1311-tabs.xls', sheet_name='Table 8', header=4)\n",
        "df = df.iloc[:43,:-6]\n",
        "df.head(5)"
      ],
      "execution_count": 2,
      "outputs": [
        {
          "output_type": "execute_result",
          "data": {
            "text/html": [
              "<div>\n",
              "<style scoped>\n",
              "    .dataframe tbody tr th:only-of-type {\n",
              "        vertical-align: middle;\n",
              "    }\n",
              "\n",
              "    .dataframe tbody tr th {\n",
              "        vertical-align: top;\n",
              "    }\n",
              "\n",
              "    .dataframe thead th {\n",
              "        text-align: right;\n",
              "    }\n",
              "</style>\n",
              "<table border=\"1\" class=\"dataframe\">\n",
              "  <thead>\n",
              "    <tr style=\"text-align: right;\">\n",
              "      <th></th>\n",
              "      <th>Unnamed: 0</th>\n",
              "      <th>White</th>\n",
              "      <th>Mixed</th>\n",
              "      <th>Black or Black British</th>\n",
              "      <th>Asian or Asian British</th>\n",
              "      <th>Chinese or Other ethnic group</th>\n",
              "      <th>Not stated</th>\n",
              "      <th>Total male</th>\n",
              "      <th>White.1</th>\n",
              "      <th>Mixed.1</th>\n",
              "      <th>Black or Black British.1</th>\n",
              "      <th>Asian or Asian British.1</th>\n",
              "      <th>Chinese or Other ethnic group.1</th>\n",
              "    </tr>\n",
              "  </thead>\n",
              "  <tbody>\n",
              "    <tr>\n",
              "      <th>0</th>\n",
              "      <td>Avon and Somerset</td>\n",
              "      <td>2361.41</td>\n",
              "      <td>13.0</td>\n",
              "      <td>11.0</td>\n",
              "      <td>7.00</td>\n",
              "      <td>9.0</td>\n",
              "      <td>2.0</td>\n",
              "      <td>2403.41</td>\n",
              "      <td>788.99</td>\n",
              "      <td>6.08</td>\n",
              "      <td>7.35</td>\n",
              "      <td>1.73</td>\n",
              "      <td>2.0</td>\n",
              "    </tr>\n",
              "    <tr>\n",
              "      <th>1</th>\n",
              "      <td>Bedfordshire</td>\n",
              "      <td>786.75</td>\n",
              "      <td>13.0</td>\n",
              "      <td>8.0</td>\n",
              "      <td>32.00</td>\n",
              "      <td>0.0</td>\n",
              "      <td>18.0</td>\n",
              "      <td>857.75</td>\n",
              "      <td>337.29</td>\n",
              "      <td>4.55</td>\n",
              "      <td>6.00</td>\n",
              "      <td>5.71</td>\n",
              "      <td>0.0</td>\n",
              "    </tr>\n",
              "    <tr>\n",
              "      <th>2</th>\n",
              "      <td>Cambridgeshire</td>\n",
              "      <td>993.35</td>\n",
              "      <td>7.0</td>\n",
              "      <td>4.8</td>\n",
              "      <td>9.50</td>\n",
              "      <td>3.0</td>\n",
              "      <td>10.0</td>\n",
              "      <td>1027.65</td>\n",
              "      <td>358.85</td>\n",
              "      <td>5.00</td>\n",
              "      <td>1.00</td>\n",
              "      <td>1.00</td>\n",
              "      <td>0.0</td>\n",
              "    </tr>\n",
              "    <tr>\n",
              "      <th>3</th>\n",
              "      <td>Cheshire</td>\n",
              "      <td>1504.45</td>\n",
              "      <td>9.0</td>\n",
              "      <td>2.0</td>\n",
              "      <td>3.00</td>\n",
              "      <td>2.0</td>\n",
              "      <td>7.0</td>\n",
              "      <td>1527.45</td>\n",
              "      <td>539.89</td>\n",
              "      <td>5.00</td>\n",
              "      <td>0.00</td>\n",
              "      <td>2.00</td>\n",
              "      <td>0.0</td>\n",
              "    </tr>\n",
              "    <tr>\n",
              "      <th>4</th>\n",
              "      <td>Cleveland</td>\n",
              "      <td>1229.70</td>\n",
              "      <td>6.0</td>\n",
              "      <td>1.0</td>\n",
              "      <td>14.73</td>\n",
              "      <td>1.0</td>\n",
              "      <td>44.0</td>\n",
              "      <td>1296.43</td>\n",
              "      <td>336.99</td>\n",
              "      <td>0.00</td>\n",
              "      <td>0.00</td>\n",
              "      <td>4.00</td>\n",
              "      <td>1.0</td>\n",
              "    </tr>\n",
              "  </tbody>\n",
              "</table>\n",
              "</div>"
            ],
            "text/plain": [
              "          Unnamed: 0  ...  Chinese or Other ethnic group.1\n",
              "0  Avon and Somerset  ...                              2.0\n",
              "1       Bedfordshire  ...                              0.0\n",
              "2     Cambridgeshire  ...                              0.0\n",
              "3           Cheshire  ...                              0.0\n",
              "4          Cleveland  ...                              1.0\n",
              "\n",
              "[5 rows x 13 columns]"
            ]
          },
          "metadata": {
            "tags": []
          },
          "execution_count": 2
        }
      ]
    },
    {
      "cell_type": "code",
      "metadata": {
        "colab": {
          "base_uri": "https://localhost:8080/",
          "height": 195
        },
        "id": "19JEz-ZCLvxD",
        "outputId": "4e6884d0-098d-4f4e-ac63-ba23bbbf245d"
      },
      "source": [
        "sum = pd.DataFrame(df.iloc[:,1:6].values + df.iloc[:,8:].values)\n",
        "pdiv = pd.concat([df['Unnamed: 0'],sum], axis=1)\n",
        "pdiv.columns = ['Geography','White','Mixed','Asian','Black','Other']\n",
        "pdiv = pdiv[['Geography','White', 'Black', 'Asian', 'Other', 'Mixed']]\n",
        "pdiv.iloc[:,1:] = round(pdiv.iloc[:,1:],0)\n",
        "pdiv.head()"
      ],
      "execution_count": 3,
      "outputs": [
        {
          "output_type": "execute_result",
          "data": {
            "text/html": [
              "<div>\n",
              "<style scoped>\n",
              "    .dataframe tbody tr th:only-of-type {\n",
              "        vertical-align: middle;\n",
              "    }\n",
              "\n",
              "    .dataframe tbody tr th {\n",
              "        vertical-align: top;\n",
              "    }\n",
              "\n",
              "    .dataframe thead th {\n",
              "        text-align: right;\n",
              "    }\n",
              "</style>\n",
              "<table border=\"1\" class=\"dataframe\">\n",
              "  <thead>\n",
              "    <tr style=\"text-align: right;\">\n",
              "      <th></th>\n",
              "      <th>Geography</th>\n",
              "      <th>White</th>\n",
              "      <th>Black</th>\n",
              "      <th>Asian</th>\n",
              "      <th>Other</th>\n",
              "      <th>Mixed</th>\n",
              "    </tr>\n",
              "  </thead>\n",
              "  <tbody>\n",
              "    <tr>\n",
              "      <th>0</th>\n",
              "      <td>Avon and Somerset</td>\n",
              "      <td>3150.0</td>\n",
              "      <td>9.0</td>\n",
              "      <td>18.0</td>\n",
              "      <td>11.0</td>\n",
              "      <td>19.0</td>\n",
              "    </tr>\n",
              "    <tr>\n",
              "      <th>1</th>\n",
              "      <td>Bedfordshire</td>\n",
              "      <td>1124.0</td>\n",
              "      <td>38.0</td>\n",
              "      <td>14.0</td>\n",
              "      <td>0.0</td>\n",
              "      <td>18.0</td>\n",
              "    </tr>\n",
              "    <tr>\n",
              "      <th>2</th>\n",
              "      <td>Cambridgeshire</td>\n",
              "      <td>1352.0</td>\n",
              "      <td>10.0</td>\n",
              "      <td>6.0</td>\n",
              "      <td>3.0</td>\n",
              "      <td>12.0</td>\n",
              "    </tr>\n",
              "    <tr>\n",
              "      <th>3</th>\n",
              "      <td>Cheshire</td>\n",
              "      <td>2044.0</td>\n",
              "      <td>5.0</td>\n",
              "      <td>2.0</td>\n",
              "      <td>2.0</td>\n",
              "      <td>14.0</td>\n",
              "    </tr>\n",
              "    <tr>\n",
              "      <th>4</th>\n",
              "      <td>Cleveland</td>\n",
              "      <td>1567.0</td>\n",
              "      <td>19.0</td>\n",
              "      <td>1.0</td>\n",
              "      <td>2.0</td>\n",
              "      <td>6.0</td>\n",
              "    </tr>\n",
              "  </tbody>\n",
              "</table>\n",
              "</div>"
            ],
            "text/plain": [
              "           Geography   White  Black  Asian  Other  Mixed\n",
              "0  Avon and Somerset  3150.0    9.0   18.0   11.0   19.0\n",
              "1       Bedfordshire  1124.0   38.0   14.0    0.0   18.0\n",
              "2     Cambridgeshire  1352.0   10.0    6.0    3.0   12.0\n",
              "3           Cheshire  2044.0    5.0    2.0    2.0   14.0\n",
              "4          Cleveland  1567.0   19.0    1.0    2.0    6.0"
            ]
          },
          "metadata": {
            "tags": []
          },
          "execution_count": 3
        }
      ]
    },
    {
      "cell_type": "code",
      "metadata": {
        "colab": {
          "base_uri": "https://localhost:8080/",
          "height": 195
        },
        "id": "xrdgXGWvRJ1S",
        "outputId": "bbf71fe7-4424-48fa-cf34-ddd781e80e48"
      },
      "source": [
        "total = pdiv.iloc[:,1:].sum(axis=1)\n",
        "\n",
        "for i in pdiv.columns[1:]:\n",
        "  pdiv[i] = pdiv[i].copy() / total\n",
        "\n",
        "pdiv.head()"
      ],
      "execution_count": 4,
      "outputs": [
        {
          "output_type": "execute_result",
          "data": {
            "text/html": [
              "<div>\n",
              "<style scoped>\n",
              "    .dataframe tbody tr th:only-of-type {\n",
              "        vertical-align: middle;\n",
              "    }\n",
              "\n",
              "    .dataframe tbody tr th {\n",
              "        vertical-align: top;\n",
              "    }\n",
              "\n",
              "    .dataframe thead th {\n",
              "        text-align: right;\n",
              "    }\n",
              "</style>\n",
              "<table border=\"1\" class=\"dataframe\">\n",
              "  <thead>\n",
              "    <tr style=\"text-align: right;\">\n",
              "      <th></th>\n",
              "      <th>Geography</th>\n",
              "      <th>White</th>\n",
              "      <th>Black</th>\n",
              "      <th>Asian</th>\n",
              "      <th>Other</th>\n",
              "      <th>Mixed</th>\n",
              "    </tr>\n",
              "  </thead>\n",
              "  <tbody>\n",
              "    <tr>\n",
              "      <th>0</th>\n",
              "      <td>Avon and Somerset</td>\n",
              "      <td>0.982226</td>\n",
              "      <td>0.002806</td>\n",
              "      <td>0.005613</td>\n",
              "      <td>0.003430</td>\n",
              "      <td>0.005925</td>\n",
              "    </tr>\n",
              "    <tr>\n",
              "      <th>1</th>\n",
              "      <td>Bedfordshire</td>\n",
              "      <td>0.941374</td>\n",
              "      <td>0.031826</td>\n",
              "      <td>0.011725</td>\n",
              "      <td>0.000000</td>\n",
              "      <td>0.015075</td>\n",
              "    </tr>\n",
              "    <tr>\n",
              "      <th>2</th>\n",
              "      <td>Cambridgeshire</td>\n",
              "      <td>0.977585</td>\n",
              "      <td>0.007231</td>\n",
              "      <td>0.004338</td>\n",
              "      <td>0.002169</td>\n",
              "      <td>0.008677</td>\n",
              "    </tr>\n",
              "    <tr>\n",
              "      <th>3</th>\n",
              "      <td>Cheshire</td>\n",
              "      <td>0.988873</td>\n",
              "      <td>0.002419</td>\n",
              "      <td>0.000968</td>\n",
              "      <td>0.000968</td>\n",
              "      <td>0.006773</td>\n",
              "    </tr>\n",
              "    <tr>\n",
              "      <th>4</th>\n",
              "      <td>Cleveland</td>\n",
              "      <td>0.982445</td>\n",
              "      <td>0.011912</td>\n",
              "      <td>0.000627</td>\n",
              "      <td>0.001254</td>\n",
              "      <td>0.003762</td>\n",
              "    </tr>\n",
              "  </tbody>\n",
              "</table>\n",
              "</div>"
            ],
            "text/plain": [
              "           Geography     White     Black     Asian     Other     Mixed\n",
              "0  Avon and Somerset  0.982226  0.002806  0.005613  0.003430  0.005925\n",
              "1       Bedfordshire  0.941374  0.031826  0.011725  0.000000  0.015075\n",
              "2     Cambridgeshire  0.977585  0.007231  0.004338  0.002169  0.008677\n",
              "3           Cheshire  0.988873  0.002419  0.000968  0.000968  0.006773\n",
              "4          Cleveland  0.982445  0.011912  0.000627  0.001254  0.003762"
            ]
          },
          "metadata": {
            "tags": []
          },
          "execution_count": 4
        }
      ]
    },
    {
      "cell_type": "code",
      "metadata": {
        "colab": {
          "base_uri": "https://localhost:8080/",
          "height": 195
        },
        "id": "o50cpy4-XCQE",
        "outputId": "c2da02dd-c83d-432d-cf54-fc759c0f2898"
      },
      "source": [
        "pdiv.iloc[:,1:] = np.square((0.5-pdiv.iloc[:,1:].copy().values)/0.5)*pdiv.iloc[:,1:].copy()\n",
        "pdiv.head()"
      ],
      "execution_count": 5,
      "outputs": [
        {
          "output_type": "execute_result",
          "data": {
            "text/html": [
              "<div>\n",
              "<style scoped>\n",
              "    .dataframe tbody tr th:only-of-type {\n",
              "        vertical-align: middle;\n",
              "    }\n",
              "\n",
              "    .dataframe tbody tr th {\n",
              "        vertical-align: top;\n",
              "    }\n",
              "\n",
              "    .dataframe thead th {\n",
              "        text-align: right;\n",
              "    }\n",
              "</style>\n",
              "<table border=\"1\" class=\"dataframe\">\n",
              "  <thead>\n",
              "    <tr style=\"text-align: right;\">\n",
              "      <th></th>\n",
              "      <th>Geography</th>\n",
              "      <th>White</th>\n",
              "      <th>Black</th>\n",
              "      <th>Asian</th>\n",
              "      <th>Other</th>\n",
              "      <th>Mixed</th>\n",
              "    </tr>\n",
              "  </thead>\n",
              "  <tbody>\n",
              "    <tr>\n",
              "      <th>0</th>\n",
              "      <td>Avon and Somerset</td>\n",
              "      <td>0.913637</td>\n",
              "      <td>0.002775</td>\n",
              "      <td>0.005487</td>\n",
              "      <td>0.003383</td>\n",
              "      <td>0.005785</td>\n",
              "    </tr>\n",
              "    <tr>\n",
              "      <th>1</th>\n",
              "      <td>Bedfordshire</td>\n",
              "      <td>0.733558</td>\n",
              "      <td>0.027903</td>\n",
              "      <td>0.011182</td>\n",
              "      <td>0.000000</td>\n",
              "      <td>0.014180</td>\n",
              "    </tr>\n",
              "    <tr>\n",
              "      <th>2</th>\n",
              "      <td>Cambridgeshire</td>\n",
              "      <td>0.891899</td>\n",
              "      <td>0.007023</td>\n",
              "      <td>0.004263</td>\n",
              "      <td>0.002150</td>\n",
              "      <td>0.008378</td>\n",
              "    </tr>\n",
              "    <tr>\n",
              "      <th>3</th>\n",
              "      <td>Cheshire</td>\n",
              "      <td>0.945349</td>\n",
              "      <td>0.002396</td>\n",
              "      <td>0.000964</td>\n",
              "      <td>0.000964</td>\n",
              "      <td>0.006591</td>\n",
              "    </tr>\n",
              "    <tr>\n",
              "      <th>4</th>\n",
              "      <td>Cleveland</td>\n",
              "      <td>0.914669</td>\n",
              "      <td>0.011351</td>\n",
              "      <td>0.000625</td>\n",
              "      <td>0.001248</td>\n",
              "      <td>0.003705</td>\n",
              "    </tr>\n",
              "  </tbody>\n",
              "</table>\n",
              "</div>"
            ],
            "text/plain": [
              "           Geography     White     Black     Asian     Other     Mixed\n",
              "0  Avon and Somerset  0.913637  0.002775  0.005487  0.003383  0.005785\n",
              "1       Bedfordshire  0.733558  0.027903  0.011182  0.000000  0.014180\n",
              "2     Cambridgeshire  0.891899  0.007023  0.004263  0.002150  0.008378\n",
              "3           Cheshire  0.945349  0.002396  0.000964  0.000964  0.006591\n",
              "4          Cleveland  0.914669  0.011351  0.000625  0.001248  0.003705"
            ]
          },
          "metadata": {
            "tags": []
          },
          "execution_count": 5
        }
      ]
    },
    {
      "cell_type": "code",
      "metadata": {
        "colab": {
          "base_uri": "https://localhost:8080/",
          "height": 195
        },
        "id": "oFg1klzDTgKj",
        "outputId": "8bc5bb33-dae6-448b-dbdb-95df2abdb976"
      },
      "source": [
        "# Using Polarity Index to Measure Diversity\n",
        "\n",
        "pdiv['PD_Diversity'] = 1 - pdiv.iloc[:,1:].sum(axis=1)\n",
        "police_div = pdiv[['Geography','PD_Diversity']]\n",
        "police_div.sort_values(by='PD_Diversity',ascending=False).head()"
      ],
      "execution_count": 6,
      "outputs": [
        {
          "output_type": "execute_result",
          "data": {
            "text/html": [
              "<div>\n",
              "<style scoped>\n",
              "    .dataframe tbody tr th:only-of-type {\n",
              "        vertical-align: middle;\n",
              "    }\n",
              "\n",
              "    .dataframe tbody tr th {\n",
              "        vertical-align: top;\n",
              "    }\n",
              "\n",
              "    .dataframe thead th {\n",
              "        text-align: right;\n",
              "    }\n",
              "</style>\n",
              "<table border=\"1\" class=\"dataframe\">\n",
              "  <thead>\n",
              "    <tr style=\"text-align: right;\">\n",
              "      <th></th>\n",
              "      <th>Geography</th>\n",
              "      <th>PD_Diversity</th>\n",
              "    </tr>\n",
              "  </thead>\n",
              "  <tbody>\n",
              "    <tr>\n",
              "      <th>22</th>\n",
              "      <td>Metropolitan Police</td>\n",
              "      <td>0.324189</td>\n",
              "    </tr>\n",
              "    <tr>\n",
              "      <th>36</th>\n",
              "      <td>West Midlands</td>\n",
              "      <td>0.288414</td>\n",
              "    </tr>\n",
              "    <tr>\n",
              "      <th>18</th>\n",
              "      <td>Leicestershire</td>\n",
              "      <td>0.245159</td>\n",
              "    </tr>\n",
              "    <tr>\n",
              "      <th>1</th>\n",
              "      <td>Bedfordshire</td>\n",
              "      <td>0.213177</td>\n",
              "    </tr>\n",
              "    <tr>\n",
              "      <th>20</th>\n",
              "      <td>London, City of</td>\n",
              "      <td>0.210564</td>\n",
              "    </tr>\n",
              "  </tbody>\n",
              "</table>\n",
              "</div>"
            ],
            "text/plain": [
              "              Geography  PD_Diversity\n",
              "22  Metropolitan Police      0.324189\n",
              "36        West Midlands      0.288414\n",
              "18       Leicestershire      0.245159\n",
              "1          Bedfordshire      0.213177\n",
              "20      London, City of      0.210564"
            ]
          },
          "metadata": {
            "tags": []
          },
          "execution_count": 6
        }
      ]
    },
    {
      "cell_type": "code",
      "metadata": {
        "id": "LKfbK2a6bro-"
      },
      "source": [
        "# Creating Csv file for Police Diversity\n",
        "\n",
        "police_div.to_csv('police_diversity.csv')"
      ],
      "execution_count": 7,
      "outputs": []
    }
  ]
}
