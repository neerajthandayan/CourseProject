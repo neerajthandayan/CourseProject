{
  "nbformat": 4,
  "nbformat_minor": 0,
  "metadata": {
    "colab": {
      "name": "Police_Strength_Data.ipynb",
      "provenance": [],
      "authorship_tag": "ABX9TyOBQFUiPNig9Vm+B8M2wUm/",
      "include_colab_link": true
    },
    "kernelspec": {
      "name": "python3",
      "display_name": "Python 3"
    },
    "language_info": {
      "name": "python"
    }
  },
  "cells": [
    {
      "cell_type": "markdown",
      "metadata": {
        "id": "view-in-github",
        "colab_type": "text"
      },
      "source": [
        "<a href=\"https://colab.research.google.com/github/neerajthandayan/CourseProject/blob/main/Notebooks/Police_Strength_Data.ipynb\" target=\"_parent\"><img src=\"https://colab.research.google.com/assets/colab-badge.svg\" alt=\"Open In Colab\"/></a>"
      ]
    },
    {
      "cell_type": "code",
      "metadata": {
        "id": "R01o7QvK-tUM"
      },
      "source": [
        "# Loading Libraries\n",
        "\n",
        "import pandas as pd\n",
        "import numpy as np"
      ],
      "execution_count": 1,
      "outputs": []
    },
    {
      "cell_type": "code",
      "metadata": {
        "colab": {
          "base_uri": "https://localhost:8080/",
          "height": 246
        },
        "id": "Cl9pNnnR-5_Z",
        "outputId": "fb9c3103-2379-42a5-ddee-408599e7f5d5"
      },
      "source": [
        "# Data Retrieved From: https://www.gov.uk/government/statistics/police-service-strength-england-and-wales-31-march-2012\n",
        "\n",
        "df = pd.read_excel('https://assets.publishing.service.gov.uk/government/uploads/system/uploads/attachment_data/file/115784/hosb0912-tabs.xls', sheet_name='Table 8', header=4)\n",
        "df = df.iloc[:43,:-3]\n",
        "df = df.drop(columns=['Not stated','Total male'])\n",
        "df.head(5)"
      ],
      "execution_count": 2,
      "outputs": [
        {
          "output_type": "execute_result",
          "data": {
            "text/html": [
              "<div>\n",
              "<style scoped>\n",
              "    .dataframe tbody tr th:only-of-type {\n",
              "        vertical-align: middle;\n",
              "    }\n",
              "\n",
              "    .dataframe tbody tr th {\n",
              "        vertical-align: top;\n",
              "    }\n",
              "\n",
              "    .dataframe thead th {\n",
              "        text-align: right;\n",
              "    }\n",
              "</style>\n",
              "<table border=\"1\" class=\"dataframe\">\n",
              "  <thead>\n",
              "    <tr style=\"text-align: right;\">\n",
              "      <th></th>\n",
              "      <th>Unnamed: 0</th>\n",
              "      <th>White</th>\n",
              "      <th>Mixed</th>\n",
              "      <th>Black or Black British</th>\n",
              "      <th>Asian or Asian British</th>\n",
              "      <th>Chinese or Other ethnic group</th>\n",
              "      <th>White.1</th>\n",
              "      <th>Mixed.1</th>\n",
              "      <th>Black or Black British.1</th>\n",
              "      <th>Asian or Asian British.1</th>\n",
              "      <th>Chinese or Other ethnic group.1</th>\n",
              "    </tr>\n",
              "  </thead>\n",
              "  <tbody>\n",
              "    <tr>\n",
              "      <th>0</th>\n",
              "      <td>Avon and Somerset</td>\n",
              "      <td>1942.32</td>\n",
              "      <td>25.60</td>\n",
              "      <td>11.00</td>\n",
              "      <td>10.00</td>\n",
              "      <td>9.0</td>\n",
              "      <td>734.99</td>\n",
              "      <td>11.48</td>\n",
              "      <td>4.6</td>\n",
              "      <td>0.73</td>\n",
              "      <td>1.0</td>\n",
              "    </tr>\n",
              "    <tr>\n",
              "      <th>1</th>\n",
              "      <td>Bedfordshire</td>\n",
              "      <td>740.00</td>\n",
              "      <td>13.00</td>\n",
              "      <td>7.00</td>\n",
              "      <td>32.00</td>\n",
              "      <td>0.0</td>\n",
              "      <td>330.85</td>\n",
              "      <td>4.53</td>\n",
              "      <td>6.0</td>\n",
              "      <td>5.68</td>\n",
              "      <td>0.0</td>\n",
              "    </tr>\n",
              "    <tr>\n",
              "      <th>2</th>\n",
              "      <td>Cambridgeshire</td>\n",
              "      <td>967.93</td>\n",
              "      <td>5.81</td>\n",
              "      <td>4.81</td>\n",
              "      <td>11.50</td>\n",
              "      <td>3.0</td>\n",
              "      <td>359.40</td>\n",
              "      <td>5.00</td>\n",
              "      <td>1.0</td>\n",
              "      <td>1.00</td>\n",
              "      <td>1.0</td>\n",
              "    </tr>\n",
              "    <tr>\n",
              "      <th>3</th>\n",
              "      <td>Cheshire</td>\n",
              "      <td>1443.96</td>\n",
              "      <td>8.00</td>\n",
              "      <td>2.00</td>\n",
              "      <td>4.00</td>\n",
              "      <td>2.0</td>\n",
              "      <td>532.67</td>\n",
              "      <td>4.00</td>\n",
              "      <td>0.0</td>\n",
              "      <td>2.00</td>\n",
              "      <td>0.0</td>\n",
              "    </tr>\n",
              "    <tr>\n",
              "      <th>4</th>\n",
              "      <td>Cleveland</td>\n",
              "      <td>1136.30</td>\n",
              "      <td>6.00</td>\n",
              "      <td>1.00</td>\n",
              "      <td>13.73</td>\n",
              "      <td>1.0</td>\n",
              "      <td>330.83</td>\n",
              "      <td>0.00</td>\n",
              "      <td>0.0</td>\n",
              "      <td>4.00</td>\n",
              "      <td>1.0</td>\n",
              "    </tr>\n",
              "  </tbody>\n",
              "</table>\n",
              "</div>"
            ],
            "text/plain": [
              "          Unnamed: 0  ...  Chinese or Other ethnic group.1\n",
              "0  Avon and Somerset  ...                              1.0\n",
              "1       Bedfordshire  ...                              0.0\n",
              "2     Cambridgeshire  ...                              1.0\n",
              "3           Cheshire  ...                              0.0\n",
              "4          Cleveland  ...                              1.0\n",
              "\n",
              "[5 rows x 11 columns]"
            ]
          },
          "metadata": {
            "tags": []
          },
          "execution_count": 2
        }
      ]
    },
    {
      "cell_type": "code",
      "metadata": {
        "colab": {
          "base_uri": "https://localhost:8080/",
          "height": 195
        },
        "id": "19JEz-ZCLvxD",
        "outputId": "15921a05-1e29-427f-dfa6-2105a546b0b5"
      },
      "source": [
        "sum = pd.DataFrame(df.iloc[:,1:6].values + df.iloc[:,6:].values)\n",
        "pdiv = pd.concat([df['Unnamed: 0'],sum], axis=1)\n",
        "pdiv.columns = ['Geography','White','Mixed','Asian','Black','Other']\n",
        "pdiv = pdiv[['Geography','White', 'Black', 'Asian', 'Other', 'Mixed']]\n",
        "pdiv.iloc[:,1:] = round(pdiv.iloc[:,1:],0)\n",
        "pdiv.head()"
      ],
      "execution_count": 3,
      "outputs": [
        {
          "output_type": "execute_result",
          "data": {
            "text/html": [
              "<div>\n",
              "<style scoped>\n",
              "    .dataframe tbody tr th:only-of-type {\n",
              "        vertical-align: middle;\n",
              "    }\n",
              "\n",
              "    .dataframe tbody tr th {\n",
              "        vertical-align: top;\n",
              "    }\n",
              "\n",
              "    .dataframe thead th {\n",
              "        text-align: right;\n",
              "    }\n",
              "</style>\n",
              "<table border=\"1\" class=\"dataframe\">\n",
              "  <thead>\n",
              "    <tr style=\"text-align: right;\">\n",
              "      <th></th>\n",
              "      <th>Geography</th>\n",
              "      <th>White</th>\n",
              "      <th>Black</th>\n",
              "      <th>Asian</th>\n",
              "      <th>Other</th>\n",
              "      <th>Mixed</th>\n",
              "    </tr>\n",
              "  </thead>\n",
              "  <tbody>\n",
              "    <tr>\n",
              "      <th>0</th>\n",
              "      <td>Avon and Somerset</td>\n",
              "      <td>2677.0</td>\n",
              "      <td>11.0</td>\n",
              "      <td>16.0</td>\n",
              "      <td>10.0</td>\n",
              "      <td>37.0</td>\n",
              "    </tr>\n",
              "    <tr>\n",
              "      <th>1</th>\n",
              "      <td>Bedfordshire</td>\n",
              "      <td>1071.0</td>\n",
              "      <td>38.0</td>\n",
              "      <td>13.0</td>\n",
              "      <td>0.0</td>\n",
              "      <td>18.0</td>\n",
              "    </tr>\n",
              "    <tr>\n",
              "      <th>2</th>\n",
              "      <td>Cambridgeshire</td>\n",
              "      <td>1327.0</td>\n",
              "      <td>12.0</td>\n",
              "      <td>6.0</td>\n",
              "      <td>4.0</td>\n",
              "      <td>11.0</td>\n",
              "    </tr>\n",
              "    <tr>\n",
              "      <th>3</th>\n",
              "      <td>Cheshire</td>\n",
              "      <td>1977.0</td>\n",
              "      <td>6.0</td>\n",
              "      <td>2.0</td>\n",
              "      <td>2.0</td>\n",
              "      <td>12.0</td>\n",
              "    </tr>\n",
              "    <tr>\n",
              "      <th>4</th>\n",
              "      <td>Cleveland</td>\n",
              "      <td>1467.0</td>\n",
              "      <td>18.0</td>\n",
              "      <td>1.0</td>\n",
              "      <td>2.0</td>\n",
              "      <td>6.0</td>\n",
              "    </tr>\n",
              "  </tbody>\n",
              "</table>\n",
              "</div>"
            ],
            "text/plain": [
              "           Geography   White  Black  Asian  Other  Mixed\n",
              "0  Avon and Somerset  2677.0   11.0   16.0   10.0   37.0\n",
              "1       Bedfordshire  1071.0   38.0   13.0    0.0   18.0\n",
              "2     Cambridgeshire  1327.0   12.0    6.0    4.0   11.0\n",
              "3           Cheshire  1977.0    6.0    2.0    2.0   12.0\n",
              "4          Cleveland  1467.0   18.0    1.0    2.0    6.0"
            ]
          },
          "metadata": {
            "tags": []
          },
          "execution_count": 3
        }
      ]
    },
    {
      "cell_type": "code",
      "metadata": {
        "colab": {
          "base_uri": "https://localhost:8080/",
          "height": 195
        },
        "id": "xrdgXGWvRJ1S",
        "outputId": "d61a5291-beb0-4364-bfbb-cc1c10e72ec9"
      },
      "source": [
        "total = pdiv.iloc[:,1:].sum(axis=1)\n",
        "\n",
        "for i in pdiv.columns[1:]:\n",
        "  pdiv[i] = pdiv[i].copy() / total\n",
        "\n",
        "pdiv.head()"
      ],
      "execution_count": 4,
      "outputs": [
        {
          "output_type": "execute_result",
          "data": {
            "text/html": [
              "<div>\n",
              "<style scoped>\n",
              "    .dataframe tbody tr th:only-of-type {\n",
              "        vertical-align: middle;\n",
              "    }\n",
              "\n",
              "    .dataframe tbody tr th {\n",
              "        vertical-align: top;\n",
              "    }\n",
              "\n",
              "    .dataframe thead th {\n",
              "        text-align: right;\n",
              "    }\n",
              "</style>\n",
              "<table border=\"1\" class=\"dataframe\">\n",
              "  <thead>\n",
              "    <tr style=\"text-align: right;\">\n",
              "      <th></th>\n",
              "      <th>Geography</th>\n",
              "      <th>White</th>\n",
              "      <th>Black</th>\n",
              "      <th>Asian</th>\n",
              "      <th>Other</th>\n",
              "      <th>Mixed</th>\n",
              "    </tr>\n",
              "  </thead>\n",
              "  <tbody>\n",
              "    <tr>\n",
              "      <th>0</th>\n",
              "      <td>Avon and Somerset</td>\n",
              "      <td>0.973101</td>\n",
              "      <td>0.003999</td>\n",
              "      <td>0.005816</td>\n",
              "      <td>0.003635</td>\n",
              "      <td>0.013450</td>\n",
              "    </tr>\n",
              "    <tr>\n",
              "      <th>1</th>\n",
              "      <td>Bedfordshire</td>\n",
              "      <td>0.939474</td>\n",
              "      <td>0.033333</td>\n",
              "      <td>0.011404</td>\n",
              "      <td>0.000000</td>\n",
              "      <td>0.015789</td>\n",
              "    </tr>\n",
              "    <tr>\n",
              "      <th>2</th>\n",
              "      <td>Cambridgeshire</td>\n",
              "      <td>0.975735</td>\n",
              "      <td>0.008824</td>\n",
              "      <td>0.004412</td>\n",
              "      <td>0.002941</td>\n",
              "      <td>0.008088</td>\n",
              "    </tr>\n",
              "    <tr>\n",
              "      <th>3</th>\n",
              "      <td>Cheshire</td>\n",
              "      <td>0.988994</td>\n",
              "      <td>0.003002</td>\n",
              "      <td>0.001001</td>\n",
              "      <td>0.001001</td>\n",
              "      <td>0.006003</td>\n",
              "    </tr>\n",
              "    <tr>\n",
              "      <th>4</th>\n",
              "      <td>Cleveland</td>\n",
              "      <td>0.981928</td>\n",
              "      <td>0.012048</td>\n",
              "      <td>0.000669</td>\n",
              "      <td>0.001339</td>\n",
              "      <td>0.004016</td>\n",
              "    </tr>\n",
              "  </tbody>\n",
              "</table>\n",
              "</div>"
            ],
            "text/plain": [
              "           Geography     White     Black     Asian     Other     Mixed\n",
              "0  Avon and Somerset  0.973101  0.003999  0.005816  0.003635  0.013450\n",
              "1       Bedfordshire  0.939474  0.033333  0.011404  0.000000  0.015789\n",
              "2     Cambridgeshire  0.975735  0.008824  0.004412  0.002941  0.008088\n",
              "3           Cheshire  0.988994  0.003002  0.001001  0.001001  0.006003\n",
              "4          Cleveland  0.981928  0.012048  0.000669  0.001339  0.004016"
            ]
          },
          "metadata": {
            "tags": []
          },
          "execution_count": 4
        }
      ]
    },
    {
      "cell_type": "code",
      "metadata": {
        "colab": {
          "base_uri": "https://localhost:8080/",
          "height": 195
        },
        "id": "o50cpy4-XCQE",
        "outputId": "14a59eeb-24d8-47ba-99ae-3107b173d84f"
      },
      "source": [
        "pdiv.iloc[:,1:] = np.square((0.5-pdiv.iloc[:,1:].copy().values)/0.5)*pdiv.iloc[:,1:].copy()\n",
        "pdiv.head()"
      ],
      "execution_count": 5,
      "outputs": [
        {
          "output_type": "execute_result",
          "data": {
            "text/html": [
              "<div>\n",
              "<style scoped>\n",
              "    .dataframe tbody tr th:only-of-type {\n",
              "        vertical-align: middle;\n",
              "    }\n",
              "\n",
              "    .dataframe tbody tr th {\n",
              "        vertical-align: top;\n",
              "    }\n",
              "\n",
              "    .dataframe thead th {\n",
              "        text-align: right;\n",
              "    }\n",
              "</style>\n",
              "<table border=\"1\" class=\"dataframe\">\n",
              "  <thead>\n",
              "    <tr style=\"text-align: right;\">\n",
              "      <th></th>\n",
              "      <th>Geography</th>\n",
              "      <th>White</th>\n",
              "      <th>Black</th>\n",
              "      <th>Asian</th>\n",
              "      <th>Other</th>\n",
              "      <th>Mixed</th>\n",
              "    </tr>\n",
              "  </thead>\n",
              "  <tbody>\n",
              "    <tr>\n",
              "      <th>0</th>\n",
              "      <td>Avon and Somerset</td>\n",
              "      <td>0.871214</td>\n",
              "      <td>0.003935</td>\n",
              "      <td>0.005682</td>\n",
              "      <td>0.003582</td>\n",
              "      <td>0.012736</td>\n",
              "    </tr>\n",
              "    <tr>\n",
              "      <th>1</th>\n",
              "      <td>Bedfordshire</td>\n",
              "      <td>0.725789</td>\n",
              "      <td>0.029037</td>\n",
              "      <td>0.010889</td>\n",
              "      <td>0.000000</td>\n",
              "      <td>0.014808</td>\n",
              "    </tr>\n",
              "    <tr>\n",
              "      <th>2</th>\n",
              "      <td>Cambridgeshire</td>\n",
              "      <td>0.883330</td>\n",
              "      <td>0.008515</td>\n",
              "      <td>0.004334</td>\n",
              "      <td>0.002907</td>\n",
              "      <td>0.007829</td>\n",
              "    </tr>\n",
              "    <tr>\n",
              "      <th>3</th>\n",
              "      <td>Cheshire</td>\n",
              "      <td>0.945936</td>\n",
              "      <td>0.002966</td>\n",
              "      <td>0.000997</td>\n",
              "      <td>0.000997</td>\n",
              "      <td>0.005860</td>\n",
              "    </tr>\n",
              "    <tr>\n",
              "      <th>4</th>\n",
              "      <td>Cleveland</td>\n",
              "      <td>0.912228</td>\n",
              "      <td>0.011475</td>\n",
              "      <td>0.000668</td>\n",
              "      <td>0.001332</td>\n",
              "      <td>0.003952</td>\n",
              "    </tr>\n",
              "  </tbody>\n",
              "</table>\n",
              "</div>"
            ],
            "text/plain": [
              "           Geography     White     Black     Asian     Other     Mixed\n",
              "0  Avon and Somerset  0.871214  0.003935  0.005682  0.003582  0.012736\n",
              "1       Bedfordshire  0.725789  0.029037  0.010889  0.000000  0.014808\n",
              "2     Cambridgeshire  0.883330  0.008515  0.004334  0.002907  0.007829\n",
              "3           Cheshire  0.945936  0.002966  0.000997  0.000997  0.005860\n",
              "4          Cleveland  0.912228  0.011475  0.000668  0.001332  0.003952"
            ]
          },
          "metadata": {
            "tags": []
          },
          "execution_count": 5
        }
      ]
    },
    {
      "cell_type": "code",
      "metadata": {
        "colab": {
          "base_uri": "https://localhost:8080/",
          "height": 195
        },
        "id": "oFg1klzDTgKj",
        "outputId": "38d8f1cb-6db9-4753-d4b9-91fde5eb5dff"
      },
      "source": [
        "# Using Polarity Index to Measure Diversity\n",
        "\n",
        "pdiv['PD_Diversity'] = 1 - pdiv.iloc[:,1:].sum(axis=1)\n",
        "police_div = pdiv[['Geography','PD_Diversity']]\n",
        "police_div.sort_values(by='PD_Diversity',ascending=False).head()"
      ],
      "execution_count": 6,
      "outputs": [
        {
          "output_type": "execute_result",
          "data": {
            "text/html": [
              "<div>\n",
              "<style scoped>\n",
              "    .dataframe tbody tr th:only-of-type {\n",
              "        vertical-align: middle;\n",
              "    }\n",
              "\n",
              "    .dataframe tbody tr th {\n",
              "        vertical-align: top;\n",
              "    }\n",
              "\n",
              "    .dataframe thead th {\n",
              "        text-align: right;\n",
              "    }\n",
              "</style>\n",
              "<table border=\"1\" class=\"dataframe\">\n",
              "  <thead>\n",
              "    <tr style=\"text-align: right;\">\n",
              "      <th></th>\n",
              "      <th>Geography</th>\n",
              "      <th>PD_Diversity</th>\n",
              "    </tr>\n",
              "  </thead>\n",
              "  <tbody>\n",
              "    <tr>\n",
              "      <th>22</th>\n",
              "      <td>Metropolitan Police</td>\n",
              "      <td>0.339262</td>\n",
              "    </tr>\n",
              "    <tr>\n",
              "      <th>36</th>\n",
              "      <td>West Midlands</td>\n",
              "      <td>0.292718</td>\n",
              "    </tr>\n",
              "    <tr>\n",
              "      <th>18</th>\n",
              "      <td>Leicestershire</td>\n",
              "      <td>0.246178</td>\n",
              "    </tr>\n",
              "    <tr>\n",
              "      <th>1</th>\n",
              "      <td>Bedfordshire</td>\n",
              "      <td>0.219477</td>\n",
              "    </tr>\n",
              "    <tr>\n",
              "      <th>20</th>\n",
              "      <td>London, City of</td>\n",
              "      <td>0.209701</td>\n",
              "    </tr>\n",
              "  </tbody>\n",
              "</table>\n",
              "</div>"
            ],
            "text/plain": [
              "              Geography  PD_Diversity\n",
              "22  Metropolitan Police      0.339262\n",
              "36        West Midlands      0.292718\n",
              "18       Leicestershire      0.246178\n",
              "1          Bedfordshire      0.219477\n",
              "20      London, City of      0.209701"
            ]
          },
          "metadata": {
            "tags": []
          },
          "execution_count": 6
        }
      ]
    },
    {
      "cell_type": "code",
      "metadata": {
        "id": "LKfbK2a6bro-"
      },
      "source": [
        "# Creating Csv file for Police Diversity\n",
        "\n",
        "police_div.to_csv('police_diversity.csv')"
      ],
      "execution_count": 7,
      "outputs": []
    }
  ]
}