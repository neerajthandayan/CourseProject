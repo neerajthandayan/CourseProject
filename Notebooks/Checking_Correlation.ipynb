{
  "nbformat": 4,
  "nbformat_minor": 0,
  "metadata": {
    "colab": {
      "name": "Checking_Correlation.ipynb",
      "provenance": [],
      "authorship_tag": "ABX9TyOvt6AcE16Obzvss1JZvQvE",
      "include_colab_link": true
    },
    "kernelspec": {
      "name": "python3",
      "display_name": "Python 3"
    },
    "language_info": {
      "name": "python"
    }
  },
  "cells": [
    {
      "cell_type": "markdown",
      "metadata": {
        "id": "view-in-github",
        "colab_type": "text"
      },
      "source": [
        "<a href=\"https://colab.research.google.com/github/neerajthandayan/CourseProject/blob/main/Checking_Correlation.ipynb\" target=\"_parent\"><img src=\"https://colab.research.google.com/assets/colab-badge.svg\" alt=\"Open In Colab\"/></a>"
      ]
    },
    {
      "cell_type": "code",
      "metadata": {
        "id": "QD86d24tc-uJ"
      },
      "source": [
        "# Libraries\n",
        "\n",
        "import pandas as pd\n",
        "import numpy as np\n",
        "from sklearn.preprocessing import StandardScaler\n",
        "from plotnine import *"
      ],
      "execution_count": 1,
      "outputs": []
    },
    {
      "cell_type": "code",
      "metadata": {
        "id": "2XJOgDFytI8D"
      },
      "source": [
        "# Fetching Data\n",
        "\n",
        "ed = pd.read_csv('https://raw.githubusercontent.com/neerajthandayan/CourseProject/main/ethnicdiversity.csv', index_col=0)\n",
        "pdiv = pd.read_csv('https://raw.githubusercontent.com/neerajthandayan/CourseProject/main/police_diversity.csv', index_col=0)\n",
        "ehcr = pd.read_csv('https://raw.githubusercontent.com/neerajthandayan/CourseProject/main/ethnichatecrime_rate.csv', index_col=0)\n",
        "bias = pd.read_csv('https://raw.githubusercontent.com/neerajthandayan/CourseProject/main/Police_Bias.csv', index_col=0)"
      ],
      "execution_count": 2,
      "outputs": []
    },
    {
      "cell_type": "code",
      "metadata": {
        "colab": {
          "base_uri": "https://localhost:8080/",
          "height": 166
        },
        "id": "wlYUFFgdzlvZ",
        "outputId": "a32e9cdd-c0d9-4d20-ed00-eaffb323c983"
      },
      "source": [
        "mrg = ed.merge(pdiv.merge(ehcr.merge(bias, on='Geography'), on='Geography'), on='Geography')\n",
        "scaler = StandardScaler()\n",
        "ms = pd.DataFrame(scaler.fit_transform(mrg.iloc[:,1:]))\n",
        "mrg_scl = pd.concat([mrg['Geography'],ms], axis=1)\n",
        "mrg_scl.columns = mrg.columns\n",
        "mrg_scl.corr()"
      ],
      "execution_count": 3,
      "outputs": [
        {
          "output_type": "execute_result",
          "data": {
            "text/html": [
              "<div>\n",
              "<style scoped>\n",
              "    .dataframe tbody tr th:only-of-type {\n",
              "        vertical-align: middle;\n",
              "    }\n",
              "\n",
              "    .dataframe tbody tr th {\n",
              "        vertical-align: top;\n",
              "    }\n",
              "\n",
              "    .dataframe thead th {\n",
              "        text-align: right;\n",
              "    }\n",
              "</style>\n",
              "<table border=\"1\" class=\"dataframe\">\n",
              "  <thead>\n",
              "    <tr style=\"text-align: right;\">\n",
              "      <th></th>\n",
              "      <th>Diversity_Score</th>\n",
              "      <th>PD_Diversity</th>\n",
              "      <th>EHC_Rate</th>\n",
              "      <th>Bias</th>\n",
              "    </tr>\n",
              "  </thead>\n",
              "  <tbody>\n",
              "    <tr>\n",
              "      <th>Diversity_Score</th>\n",
              "      <td>1.000000</td>\n",
              "      <td>0.943600</td>\n",
              "      <td>0.597982</td>\n",
              "      <td>-0.177582</td>\n",
              "    </tr>\n",
              "    <tr>\n",
              "      <th>PD_Diversity</th>\n",
              "      <td>0.943600</td>\n",
              "      <td>1.000000</td>\n",
              "      <td>0.622691</td>\n",
              "      <td>-0.202722</td>\n",
              "    </tr>\n",
              "    <tr>\n",
              "      <th>EHC_Rate</th>\n",
              "      <td>0.597982</td>\n",
              "      <td>0.622691</td>\n",
              "      <td>1.000000</td>\n",
              "      <td>-0.232556</td>\n",
              "    </tr>\n",
              "    <tr>\n",
              "      <th>Bias</th>\n",
              "      <td>-0.177582</td>\n",
              "      <td>-0.202722</td>\n",
              "      <td>-0.232556</td>\n",
              "      <td>1.000000</td>\n",
              "    </tr>\n",
              "  </tbody>\n",
              "</table>\n",
              "</div>"
            ],
            "text/plain": [
              "                 Diversity_Score  PD_Diversity  EHC_Rate      Bias\n",
              "Diversity_Score         1.000000      0.943600  0.597982 -0.177582\n",
              "PD_Diversity            0.943600      1.000000  0.622691 -0.202722\n",
              "EHC_Rate                0.597982      0.622691  1.000000 -0.232556\n",
              "Bias                   -0.177582     -0.202722 -0.232556  1.000000"
            ]
          },
          "metadata": {
            "tags": []
          },
          "execution_count": 3
        }
      ]
    },
    {
      "cell_type": "code",
      "metadata": {
        "colab": {
          "base_uri": "https://localhost:8080/",
          "height": 1000
        },
        "id": "RyktlhMCWdx2",
        "outputId": "c8ccf6fb-5780-4f79-ac4e-10692f95391d"
      },
      "source": [
        "mrg_scl"
      ],
      "execution_count": 4,
      "outputs": [
        {
          "output_type": "execute_result",
          "data": {
            "text/html": [
              "<div>\n",
              "<style scoped>\n",
              "    .dataframe tbody tr th:only-of-type {\n",
              "        vertical-align: middle;\n",
              "    }\n",
              "\n",
              "    .dataframe tbody tr th {\n",
              "        vertical-align: top;\n",
              "    }\n",
              "\n",
              "    .dataframe thead th {\n",
              "        text-align: right;\n",
              "    }\n",
              "</style>\n",
              "<table border=\"1\" class=\"dataframe\">\n",
              "  <thead>\n",
              "    <tr style=\"text-align: right;\">\n",
              "      <th></th>\n",
              "      <th>Geography</th>\n",
              "      <th>Diversity_Score</th>\n",
              "      <th>PD_Diversity</th>\n",
              "      <th>EHC_Rate</th>\n",
              "      <th>Bias</th>\n",
              "    </tr>\n",
              "  </thead>\n",
              "  <tbody>\n",
              "    <tr>\n",
              "      <th>0</th>\n",
              "      <td>Avon and Somerset</td>\n",
              "      <td>-0.176190</td>\n",
              "      <td>-0.578563</td>\n",
              "      <td>1.234721</td>\n",
              "      <td>-0.002436</td>\n",
              "    </tr>\n",
              "    <tr>\n",
              "      <th>1</th>\n",
              "      <td>Bedfordshire</td>\n",
              "      <td>1.992068</td>\n",
              "      <td>1.525730</td>\n",
              "      <td>-0.441800</td>\n",
              "      <td>-0.376232</td>\n",
              "    </tr>\n",
              "    <tr>\n",
              "      <th>2</th>\n",
              "      <td>Cambridgeshire</td>\n",
              "      <td>0.346851</td>\n",
              "      <td>-0.325414</td>\n",
              "      <td>-0.490996</td>\n",
              "      <td>-0.314373</td>\n",
              "    </tr>\n",
              "    <tr>\n",
              "      <th>3</th>\n",
              "      <td>Cheshire</td>\n",
              "      <td>-0.878215</td>\n",
              "      <td>-0.946132</td>\n",
              "      <td>-1.223078</td>\n",
              "      <td>-0.088492</td>\n",
              "    </tr>\n",
              "    <tr>\n",
              "      <th>4</th>\n",
              "      <td>Cleveland</td>\n",
              "      <td>-0.389838</td>\n",
              "      <td>-0.586326</td>\n",
              "      <td>-0.359977</td>\n",
              "      <td>-0.546193</td>\n",
              "    </tr>\n",
              "    <tr>\n",
              "      <th>5</th>\n",
              "      <td>Cumbria</td>\n",
              "      <td>-1.211717</td>\n",
              "      <td>-0.905432</td>\n",
              "      <td>0.034652</td>\n",
              "      <td>-0.321362</td>\n",
              "    </tr>\n",
              "    <tr>\n",
              "      <th>6</th>\n",
              "      <td>Derbyshire</td>\n",
              "      <td>-0.164809</td>\n",
              "      <td>0.383990</td>\n",
              "      <td>-0.322027</td>\n",
              "      <td>-0.325465</td>\n",
              "    </tr>\n",
              "    <tr>\n",
              "      <th>7</th>\n",
              "      <td>Devon and Cornwall</td>\n",
              "      <td>-1.011154</td>\n",
              "      <td>-0.900740</td>\n",
              "      <td>0.055635</td>\n",
              "      <td>-0.015503</td>\n",
              "    </tr>\n",
              "    <tr>\n",
              "      <th>8</th>\n",
              "      <td>Dorset</td>\n",
              "      <td>-0.702091</td>\n",
              "      <td>-0.911669</td>\n",
              "      <td>-1.153042</td>\n",
              "      <td>5.868551</td>\n",
              "    </tr>\n",
              "    <tr>\n",
              "      <th>9</th>\n",
              "      <td>Durham</td>\n",
              "      <td>-1.070685</td>\n",
              "      <td>-0.554410</td>\n",
              "      <td>-0.359523</td>\n",
              "      <td>-0.455169</td>\n",
              "    </tr>\n",
              "    <tr>\n",
              "      <th>10</th>\n",
              "      <td>Dyfed-Powys</td>\n",
              "      <td>-1.103482</td>\n",
              "      <td>-1.162617</td>\n",
              "      <td>-1.563247</td>\n",
              "      <td>-0.396417</td>\n",
              "    </tr>\n",
              "    <tr>\n",
              "      <th>11</th>\n",
              "      <td>Essex</td>\n",
              "      <td>-0.168981</td>\n",
              "      <td>-0.155989</td>\n",
              "      <td>-0.317186</td>\n",
              "      <td>-0.303477</td>\n",
              "    </tr>\n",
              "    <tr>\n",
              "      <th>12</th>\n",
              "      <td>Gloucestershire</td>\n",
              "      <td>-0.577485</td>\n",
              "      <td>-0.450624</td>\n",
              "      <td>-0.581699</td>\n",
              "      <td>0.382550</td>\n",
              "    </tr>\n",
              "    <tr>\n",
              "      <th>13</th>\n",
              "      <td>Greater Manchester</td>\n",
              "      <td>1.284696</td>\n",
              "      <td>0.907558</td>\n",
              "      <td>2.787530</td>\n",
              "      <td>-0.399339</td>\n",
              "    </tr>\n",
              "    <tr>\n",
              "      <th>14</th>\n",
              "      <td>Gwent</td>\n",
              "      <td>-0.715919</td>\n",
              "      <td>-0.812273</td>\n",
              "      <td>-1.207654</td>\n",
              "      <td>-0.063275</td>\n",
              "    </tr>\n",
              "    <tr>\n",
              "      <th>15</th>\n",
              "      <td>Hampshire</td>\n",
              "      <td>-0.181780</td>\n",
              "      <td>-0.198553</td>\n",
              "      <td>-0.208758</td>\n",
              "      <td>0.054798</td>\n",
              "    </tr>\n",
              "    <tr>\n",
              "      <th>16</th>\n",
              "      <td>Hertfordshire</td>\n",
              "      <td>0.751506</td>\n",
              "      <td>0.481264</td>\n",
              "      <td>0.963190</td>\n",
              "      <td>-0.510877</td>\n",
              "    </tr>\n",
              "    <tr>\n",
              "      <th>17</th>\n",
              "      <td>Humberside</td>\n",
              "      <td>-0.788241</td>\n",
              "      <td>-1.083255</td>\n",
              "      <td>-0.836129</td>\n",
              "      <td>-0.490644</td>\n",
              "    </tr>\n",
              "    <tr>\n",
              "      <th>18</th>\n",
              "      <td>Kent</td>\n",
              "      <td>-0.132539</td>\n",
              "      <td>0.114983</td>\n",
              "      <td>-0.200728</td>\n",
              "      <td>-0.249563</td>\n",
              "    </tr>\n",
              "    <tr>\n",
              "      <th>19</th>\n",
              "      <td>Lancashire</td>\n",
              "      <td>0.385480</td>\n",
              "      <td>0.419030</td>\n",
              "      <td>0.129127</td>\n",
              "      <td>-0.273907</td>\n",
              "    </tr>\n",
              "    <tr>\n",
              "      <th>20</th>\n",
              "      <td>Leicestershire</td>\n",
              "      <td>1.998781</td>\n",
              "      <td>1.992302</td>\n",
              "      <td>2.332390</td>\n",
              "      <td>-0.113008</td>\n",
              "    </tr>\n",
              "    <tr>\n",
              "      <th>21</th>\n",
              "      <td>Lincolnshire</td>\n",
              "      <td>-1.021125</td>\n",
              "      <td>-0.732374</td>\n",
              "      <td>-1.135956</td>\n",
              "      <td>-0.348415</td>\n",
              "    </tr>\n",
              "    <tr>\n",
              "      <th>22</th>\n",
              "      <td>Merseyside</td>\n",
              "      <td>-0.403865</td>\n",
              "      <td>0.255640</td>\n",
              "      <td>1.461127</td>\n",
              "      <td>-0.490537</td>\n",
              "    </tr>\n",
              "    <tr>\n",
              "      <th>23</th>\n",
              "      <td>Metropolitan Police</td>\n",
              "      <td>2.777928</td>\n",
              "      <td>3.145221</td>\n",
              "      <td>0.984476</td>\n",
              "      <td>-0.380803</td>\n",
              "    </tr>\n",
              "    <tr>\n",
              "      <th>24</th>\n",
              "      <td>Norfolk</td>\n",
              "      <td>-0.797540</td>\n",
              "      <td>-0.790347</td>\n",
              "      <td>0.253736</td>\n",
              "      <td>0.325376</td>\n",
              "    </tr>\n",
              "    <tr>\n",
              "      <th>25</th>\n",
              "      <td>North Wales</td>\n",
              "      <td>-1.000022</td>\n",
              "      <td>-1.131930</td>\n",
              "      <td>0.162478</td>\n",
              "      <td>-0.505301</td>\n",
              "    </tr>\n",
              "    <tr>\n",
              "      <th>26</th>\n",
              "      <td>North Yorkshire</td>\n",
              "      <td>-0.810571</td>\n",
              "      <td>-0.954084</td>\n",
              "      <td>-1.670040</td>\n",
              "      <td>-0.399770</td>\n",
              "    </tr>\n",
              "    <tr>\n",
              "      <th>27</th>\n",
              "      <td>Northamptonshire</td>\n",
              "      <td>0.143644</td>\n",
              "      <td>0.632774</td>\n",
              "      <td>0.509936</td>\n",
              "      <td>-0.470859</td>\n",
              "    </tr>\n",
              "    <tr>\n",
              "      <th>28</th>\n",
              "      <td>Northumbria</td>\n",
              "      <td>-0.411540</td>\n",
              "      <td>-0.708152</td>\n",
              "      <td>-0.171939</td>\n",
              "      <td>-0.542644</td>\n",
              "    </tr>\n",
              "    <tr>\n",
              "      <th>29</th>\n",
              "      <td>Nottinghamshire</td>\n",
              "      <td>0.560612</td>\n",
              "      <td>0.522487</td>\n",
              "      <td>-0.298599</td>\n",
              "      <td>0.377551</td>\n",
              "    </tr>\n",
              "    <tr>\n",
              "      <th>30</th>\n",
              "      <td>South Wales</td>\n",
              "      <td>-0.189834</td>\n",
              "      <td>-0.330760</td>\n",
              "      <td>0.376427</td>\n",
              "      <td>-0.250194</td>\n",
              "    </tr>\n",
              "    <tr>\n",
              "      <th>31</th>\n",
              "      <td>South Yorkshire</td>\n",
              "      <td>0.280829</td>\n",
              "      <td>0.130997</td>\n",
              "      <td>-1.376154</td>\n",
              "      <td>-0.342091</td>\n",
              "    </tr>\n",
              "    <tr>\n",
              "      <th>32</th>\n",
              "      <td>Staffordshire</td>\n",
              "      <td>-0.312308</td>\n",
              "      <td>-0.364038</td>\n",
              "      <td>0.745103</td>\n",
              "      <td>-0.243036</td>\n",
              "    </tr>\n",
              "    <tr>\n",
              "      <th>33</th>\n",
              "      <td>Suffolk</td>\n",
              "      <td>-0.534670</td>\n",
              "      <td>-0.302557</td>\n",
              "      <td>0.133249</td>\n",
              "      <td>0.192454</td>\n",
              "    </tr>\n",
              "    <tr>\n",
              "      <th>34</th>\n",
              "      <td>Surrey</td>\n",
              "      <td>0.325259</td>\n",
              "      <td>0.583529</td>\n",
              "      <td>0.443602</td>\n",
              "      <td>0.227964</td>\n",
              "    </tr>\n",
              "    <tr>\n",
              "      <th>35</th>\n",
              "      <td>Sussex</td>\n",
              "      <td>-0.247912</td>\n",
              "      <td>-0.447573</td>\n",
              "      <td>-0.921982</td>\n",
              "      <td>0.603963</td>\n",
              "    </tr>\n",
              "    <tr>\n",
              "      <th>36</th>\n",
              "      <td>Thames Valley</td>\n",
              "      <td>1.183209</td>\n",
              "      <td>1.099737</td>\n",
              "      <td>0.300865</td>\n",
              "      <td>-0.344099</td>\n",
              "    </tr>\n",
              "    <tr>\n",
              "      <th>37</th>\n",
              "      <td>Warwickshire</td>\n",
              "      <td>-0.060780</td>\n",
              "      <td>0.934439</td>\n",
              "      <td>-0.045979</td>\n",
              "      <td>0.227644</td>\n",
              "    </tr>\n",
              "    <tr>\n",
              "      <th>38</th>\n",
              "      <td>West Mercia</td>\n",
              "      <td>-0.740279</td>\n",
              "      <td>-0.628152</td>\n",
              "      <td>0.100654</td>\n",
              "      <td>1.062757</td>\n",
              "    </tr>\n",
              "    <tr>\n",
              "      <th>39</th>\n",
              "      <td>West Midlands</td>\n",
              "      <td>2.568777</td>\n",
              "      <td>2.623322</td>\n",
              "      <td>2.070086</td>\n",
              "      <td>-0.400070</td>\n",
              "    </tr>\n",
              "    <tr>\n",
              "      <th>40</th>\n",
              "      <td>West Yorkshire</td>\n",
              "      <td>1.605987</td>\n",
              "      <td>1.013578</td>\n",
              "      <td>0.866344</td>\n",
              "      <td>-0.498365</td>\n",
              "    </tr>\n",
              "    <tr>\n",
              "      <th>41</th>\n",
              "      <td>Wiltshire</td>\n",
              "      <td>-0.402054</td>\n",
              "      <td>-0.804619</td>\n",
              "      <td>-1.058838</td>\n",
              "      <td>1.138305</td>\n",
              "    </tr>\n",
              "  </tbody>\n",
              "</table>\n",
              "</div>"
            ],
            "text/plain": [
              "              Geography  Diversity_Score  PD_Diversity  EHC_Rate      Bias\n",
              "0     Avon and Somerset        -0.176190     -0.578563  1.234721 -0.002436\n",
              "1          Bedfordshire         1.992068      1.525730 -0.441800 -0.376232\n",
              "2        Cambridgeshire         0.346851     -0.325414 -0.490996 -0.314373\n",
              "3              Cheshire        -0.878215     -0.946132 -1.223078 -0.088492\n",
              "4             Cleveland        -0.389838     -0.586326 -0.359977 -0.546193\n",
              "5               Cumbria        -1.211717     -0.905432  0.034652 -0.321362\n",
              "6            Derbyshire        -0.164809      0.383990 -0.322027 -0.325465\n",
              "7    Devon and Cornwall        -1.011154     -0.900740  0.055635 -0.015503\n",
              "8                Dorset        -0.702091     -0.911669 -1.153042  5.868551\n",
              "9                Durham        -1.070685     -0.554410 -0.359523 -0.455169\n",
              "10          Dyfed-Powys        -1.103482     -1.162617 -1.563247 -0.396417\n",
              "11                Essex        -0.168981     -0.155989 -0.317186 -0.303477\n",
              "12      Gloucestershire        -0.577485     -0.450624 -0.581699  0.382550\n",
              "13   Greater Manchester         1.284696      0.907558  2.787530 -0.399339\n",
              "14                Gwent        -0.715919     -0.812273 -1.207654 -0.063275\n",
              "15            Hampshire        -0.181780     -0.198553 -0.208758  0.054798\n",
              "16        Hertfordshire         0.751506      0.481264  0.963190 -0.510877\n",
              "17           Humberside        -0.788241     -1.083255 -0.836129 -0.490644\n",
              "18                 Kent        -0.132539      0.114983 -0.200728 -0.249563\n",
              "19           Lancashire         0.385480      0.419030  0.129127 -0.273907\n",
              "20       Leicestershire         1.998781      1.992302  2.332390 -0.113008\n",
              "21         Lincolnshire        -1.021125     -0.732374 -1.135956 -0.348415\n",
              "22           Merseyside        -0.403865      0.255640  1.461127 -0.490537\n",
              "23  Metropolitan Police         2.777928      3.145221  0.984476 -0.380803\n",
              "24              Norfolk        -0.797540     -0.790347  0.253736  0.325376\n",
              "25          North Wales        -1.000022     -1.131930  0.162478 -0.505301\n",
              "26      North Yorkshire        -0.810571     -0.954084 -1.670040 -0.399770\n",
              "27     Northamptonshire         0.143644      0.632774  0.509936 -0.470859\n",
              "28          Northumbria        -0.411540     -0.708152 -0.171939 -0.542644\n",
              "29      Nottinghamshire         0.560612      0.522487 -0.298599  0.377551\n",
              "30          South Wales        -0.189834     -0.330760  0.376427 -0.250194\n",
              "31      South Yorkshire         0.280829      0.130997 -1.376154 -0.342091\n",
              "32        Staffordshire        -0.312308     -0.364038  0.745103 -0.243036\n",
              "33              Suffolk        -0.534670     -0.302557  0.133249  0.192454\n",
              "34               Surrey         0.325259      0.583529  0.443602  0.227964\n",
              "35               Sussex        -0.247912     -0.447573 -0.921982  0.603963\n",
              "36        Thames Valley         1.183209      1.099737  0.300865 -0.344099\n",
              "37         Warwickshire        -0.060780      0.934439 -0.045979  0.227644\n",
              "38          West Mercia        -0.740279     -0.628152  0.100654  1.062757\n",
              "39        West Midlands         2.568777      2.623322  2.070086 -0.400070\n",
              "40       West Yorkshire         1.605987      1.013578  0.866344 -0.498365\n",
              "41            Wiltshire        -0.402054     -0.804619 -1.058838  1.138305"
            ]
          },
          "metadata": {
            "tags": []
          },
          "execution_count": 4
        }
      ]
    },
    {
      "cell_type": "markdown",
      "metadata": {
        "id": "oDOqK09rBd4Q"
      },
      "source": [
        "## Region-wise Check for Correlation"
      ]
    },
    {
      "cell_type": "markdown",
      "metadata": {
        "id": "rEZOx-fwBllM"
      },
      "source": [
        "#### Northeast Region"
      ]
    },
    {
      "cell_type": "code",
      "metadata": {
        "colab": {
          "base_uri": "https://localhost:8080/",
          "height": 166
        },
        "id": "I7pCF6rHBOv5",
        "outputId": "6278712d-49b5-43e2-8d1d-ca67646c3cad"
      },
      "source": [
        "ner = mrg.loc[mrg['Geography'].isin(['Durham',\n",
        "                                     'Cleveland',\n",
        "                                     'Northumbria'])].copy()\n",
        "scaler_ner = StandardScaler()\n",
        "ner.iloc[:,1:] = scaler_ner.fit_transform(ner.iloc[:,1:])\n",
        "ner.corr()"
      ],
      "execution_count": 5,
      "outputs": [
        {
          "output_type": "execute_result",
          "data": {
            "text/html": [
              "<div>\n",
              "<style scoped>\n",
              "    .dataframe tbody tr th:only-of-type {\n",
              "        vertical-align: middle;\n",
              "    }\n",
              "\n",
              "    .dataframe tbody tr th {\n",
              "        vertical-align: top;\n",
              "    }\n",
              "\n",
              "    .dataframe thead th {\n",
              "        text-align: right;\n",
              "    }\n",
              "</style>\n",
              "<table border=\"1\" class=\"dataframe\">\n",
              "  <thead>\n",
              "    <tr style=\"text-align: right;\">\n",
              "      <th></th>\n",
              "      <th>Diversity_Score</th>\n",
              "      <th>PD_Diversity</th>\n",
              "      <th>EHC_Rate</th>\n",
              "      <th>Bias</th>\n",
              "    </tr>\n",
              "  </thead>\n",
              "  <tbody>\n",
              "    <tr>\n",
              "      <th>Diversity_Score</th>\n",
              "      <td>1.000000</td>\n",
              "      <td>-0.639259</td>\n",
              "      <td>0.473677</td>\n",
              "      <td>-0.999980</td>\n",
              "    </tr>\n",
              "    <tr>\n",
              "      <th>PD_Diversity</th>\n",
              "      <td>-0.639259</td>\n",
              "      <td>1.000000</td>\n",
              "      <td>-0.980052</td>\n",
              "      <td>0.634346</td>\n",
              "    </tr>\n",
              "    <tr>\n",
              "      <th>EHC_Rate</th>\n",
              "      <td>0.473677</td>\n",
              "      <td>-0.980052</td>\n",
              "      <td>1.000000</td>\n",
              "      <td>-0.468056</td>\n",
              "    </tr>\n",
              "    <tr>\n",
              "      <th>Bias</th>\n",
              "      <td>-0.999980</td>\n",
              "      <td>0.634346</td>\n",
              "      <td>-0.468056</td>\n",
              "      <td>1.000000</td>\n",
              "    </tr>\n",
              "  </tbody>\n",
              "</table>\n",
              "</div>"
            ],
            "text/plain": [
              "                 Diversity_Score  PD_Diversity  EHC_Rate      Bias\n",
              "Diversity_Score         1.000000     -0.639259  0.473677 -0.999980\n",
              "PD_Diversity           -0.639259      1.000000 -0.980052  0.634346\n",
              "EHC_Rate                0.473677     -0.980052  1.000000 -0.468056\n",
              "Bias                   -0.999980      0.634346 -0.468056  1.000000"
            ]
          },
          "metadata": {
            "tags": []
          },
          "execution_count": 5
        }
      ]
    },
    {
      "cell_type": "markdown",
      "metadata": {
        "id": "CsN-5lFdD4hD"
      },
      "source": [
        "#### Northwest Region"
      ]
    },
    {
      "cell_type": "code",
      "metadata": {
        "colab": {
          "base_uri": "https://localhost:8080/",
          "height": 166
        },
        "id": "V9B6VJDaD30q",
        "outputId": "93deb2c1-2ff7-413a-dc3f-a1f1d6dfdcd1"
      },
      "source": [
        "nwr = mrg.loc[mrg['Geography'].isin(['Cheshire',\n",
        "                                     'Cumbria',\n",
        "                                     'Greater Manchester',\n",
        "                                     'Lancashire',\n",
        "                                     'Merseyside'])].copy()\n",
        "scaler_nwr = StandardScaler()\n",
        "nwr.iloc[:,1:] = scaler_nwr.fit_transform(nwr.iloc[:,1:])\n",
        "nwr.corr()"
      ],
      "execution_count": 6,
      "outputs": [
        {
          "output_type": "execute_result",
          "data": {
            "text/html": [
              "<div>\n",
              "<style scoped>\n",
              "    .dataframe tbody tr th:only-of-type {\n",
              "        vertical-align: middle;\n",
              "    }\n",
              "\n",
              "    .dataframe tbody tr th {\n",
              "        vertical-align: top;\n",
              "    }\n",
              "\n",
              "    .dataframe thead th {\n",
              "        text-align: right;\n",
              "    }\n",
              "</style>\n",
              "<table border=\"1\" class=\"dataframe\">\n",
              "  <thead>\n",
              "    <tr style=\"text-align: right;\">\n",
              "      <th></th>\n",
              "      <th>Diversity_Score</th>\n",
              "      <th>PD_Diversity</th>\n",
              "      <th>EHC_Rate</th>\n",
              "      <th>Bias</th>\n",
              "    </tr>\n",
              "  </thead>\n",
              "  <tbody>\n",
              "    <tr>\n",
              "      <th>Diversity_Score</th>\n",
              "      <td>1.000000</td>\n",
              "      <td>0.926892</td>\n",
              "      <td>0.744400</td>\n",
              "      <td>-0.349594</td>\n",
              "    </tr>\n",
              "    <tr>\n",
              "      <th>PD_Diversity</th>\n",
              "      <td>0.926892</td>\n",
              "      <td>1.000000</td>\n",
              "      <td>0.835312</td>\n",
              "      <td>-0.623458</td>\n",
              "    </tr>\n",
              "    <tr>\n",
              "      <th>EHC_Rate</th>\n",
              "      <td>0.744400</td>\n",
              "      <td>0.835312</td>\n",
              "      <td>1.000000</td>\n",
              "      <td>-0.827343</td>\n",
              "    </tr>\n",
              "    <tr>\n",
              "      <th>Bias</th>\n",
              "      <td>-0.349594</td>\n",
              "      <td>-0.623458</td>\n",
              "      <td>-0.827343</td>\n",
              "      <td>1.000000</td>\n",
              "    </tr>\n",
              "  </tbody>\n",
              "</table>\n",
              "</div>"
            ],
            "text/plain": [
              "                 Diversity_Score  PD_Diversity  EHC_Rate      Bias\n",
              "Diversity_Score         1.000000      0.926892  0.744400 -0.349594\n",
              "PD_Diversity            0.926892      1.000000  0.835312 -0.623458\n",
              "EHC_Rate                0.744400      0.835312  1.000000 -0.827343\n",
              "Bias                   -0.349594     -0.623458 -0.827343  1.000000"
            ]
          },
          "metadata": {
            "tags": []
          },
          "execution_count": 6
        }
      ]
    },
    {
      "cell_type": "markdown",
      "metadata": {
        "id": "v7s37fB6FWJr"
      },
      "source": [
        "#### Yorkshire and the Humber Region"
      ]
    },
    {
      "cell_type": "code",
      "metadata": {
        "colab": {
          "base_uri": "https://localhost:8080/",
          "height": 166
        },
        "id": "Gui2RUJyFcs1",
        "outputId": "947a682c-a833-4708-d08d-03374dd54b33"
      },
      "source": [
        "york = mrg.loc[mrg['Geography'].isin(['Humberside',\n",
        "                                      'North Yorkshire',\n",
        "                                      'South Yorkshire',\n",
        "                                      'West Yorkshire'])].copy()\n",
        "scaler_york = StandardScaler()\n",
        "york.iloc[:,1:] = scaler_york.fit_transform(york.iloc[:,1:])\n",
        "york.corr()"
      ],
      "execution_count": 7,
      "outputs": [
        {
          "output_type": "execute_result",
          "data": {
            "text/html": [
              "<div>\n",
              "<style scoped>\n",
              "    .dataframe tbody tr th:only-of-type {\n",
              "        vertical-align: middle;\n",
              "    }\n",
              "\n",
              "    .dataframe tbody tr th {\n",
              "        vertical-align: top;\n",
              "    }\n",
              "\n",
              "    .dataframe thead th {\n",
              "        text-align: right;\n",
              "    }\n",
              "</style>\n",
              "<table border=\"1\" class=\"dataframe\">\n",
              "  <thead>\n",
              "    <tr style=\"text-align: right;\">\n",
              "      <th></th>\n",
              "      <th>Diversity_Score</th>\n",
              "      <th>PD_Diversity</th>\n",
              "      <th>EHC_Rate</th>\n",
              "      <th>Bias</th>\n",
              "    </tr>\n",
              "  </thead>\n",
              "  <tbody>\n",
              "    <tr>\n",
              "      <th>Diversity_Score</th>\n",
              "      <td>1.000000</td>\n",
              "      <td>0.990997</td>\n",
              "      <td>0.832214</td>\n",
              "      <td>-0.236778</td>\n",
              "    </tr>\n",
              "    <tr>\n",
              "      <th>PD_Diversity</th>\n",
              "      <td>0.990997</td>\n",
              "      <td>1.000000</td>\n",
              "      <td>0.750741</td>\n",
              "      <td>-0.104764</td>\n",
              "    </tr>\n",
              "    <tr>\n",
              "      <th>EHC_Rate</th>\n",
              "      <td>0.832214</td>\n",
              "      <td>0.750741</td>\n",
              "      <td>1.000000</td>\n",
              "      <td>-0.735533</td>\n",
              "    </tr>\n",
              "    <tr>\n",
              "      <th>Bias</th>\n",
              "      <td>-0.236778</td>\n",
              "      <td>-0.104764</td>\n",
              "      <td>-0.735533</td>\n",
              "      <td>1.000000</td>\n",
              "    </tr>\n",
              "  </tbody>\n",
              "</table>\n",
              "</div>"
            ],
            "text/plain": [
              "                 Diversity_Score  PD_Diversity  EHC_Rate      Bias\n",
              "Diversity_Score         1.000000      0.990997  0.832214 -0.236778\n",
              "PD_Diversity            0.990997      1.000000  0.750741 -0.104764\n",
              "EHC_Rate                0.832214      0.750741  1.000000 -0.735533\n",
              "Bias                   -0.236778     -0.104764 -0.735533  1.000000"
            ]
          },
          "metadata": {
            "tags": []
          },
          "execution_count": 7
        }
      ]
    },
    {
      "cell_type": "markdown",
      "metadata": {
        "id": "35PExTMsH5do"
      },
      "source": [
        "#### East Midlands Region"
      ]
    },
    {
      "cell_type": "code",
      "metadata": {
        "colab": {
          "base_uri": "https://localhost:8080/",
          "height": 166
        },
        "id": "b722_MlaHzR9",
        "outputId": "5c008930-1e1b-48f5-d837-2a22c54f149b"
      },
      "source": [
        "emr = mrg.loc[mrg['Geography'].isin(['Derbyshire',\n",
        "                                     'Leicestershire',\n",
        "                                     'Lincolnshire',\n",
        "                                     'Northamptonshire',\n",
        "                                     'Nottinghamshire'])].copy()\n",
        "scaler_emr = StandardScaler()\n",
        "emr.iloc[:,1:] = scaler_emr.fit_transform(emr.iloc[:,1:])\n",
        "emr.corr()"
      ],
      "execution_count": 8,
      "outputs": [
        {
          "output_type": "execute_result",
          "data": {
            "text/html": [
              "<div>\n",
              "<style scoped>\n",
              "    .dataframe tbody tr th:only-of-type {\n",
              "        vertical-align: middle;\n",
              "    }\n",
              "\n",
              "    .dataframe tbody tr th {\n",
              "        vertical-align: top;\n",
              "    }\n",
              "\n",
              "    .dataframe thead th {\n",
              "        text-align: right;\n",
              "    }\n",
              "</style>\n",
              "<table border=\"1\" class=\"dataframe\">\n",
              "  <thead>\n",
              "    <tr style=\"text-align: right;\">\n",
              "      <th></th>\n",
              "      <th>Diversity_Score</th>\n",
              "      <th>PD_Diversity</th>\n",
              "      <th>EHC_Rate</th>\n",
              "      <th>Bias</th>\n",
              "    </tr>\n",
              "  </thead>\n",
              "  <tbody>\n",
              "    <tr>\n",
              "      <th>Diversity_Score</th>\n",
              "      <td>1.000000</td>\n",
              "      <td>0.974923</td>\n",
              "      <td>0.930561</td>\n",
              "      <td>0.399105</td>\n",
              "    </tr>\n",
              "    <tr>\n",
              "      <th>PD_Diversity</th>\n",
              "      <td>0.974923</td>\n",
              "      <td>1.000000</td>\n",
              "      <td>0.961510</td>\n",
              "      <td>0.228600</td>\n",
              "    </tr>\n",
              "    <tr>\n",
              "      <th>EHC_Rate</th>\n",
              "      <td>0.930561</td>\n",
              "      <td>0.961510</td>\n",
              "      <td>1.000000</td>\n",
              "      <td>0.042617</td>\n",
              "    </tr>\n",
              "    <tr>\n",
              "      <th>Bias</th>\n",
              "      <td>0.399105</td>\n",
              "      <td>0.228600</td>\n",
              "      <td>0.042617</td>\n",
              "      <td>1.000000</td>\n",
              "    </tr>\n",
              "  </tbody>\n",
              "</table>\n",
              "</div>"
            ],
            "text/plain": [
              "                 Diversity_Score  PD_Diversity  EHC_Rate      Bias\n",
              "Diversity_Score         1.000000      0.974923  0.930561  0.399105\n",
              "PD_Diversity            0.974923      1.000000  0.961510  0.228600\n",
              "EHC_Rate                0.930561      0.961510  1.000000  0.042617\n",
              "Bias                    0.399105      0.228600  0.042617  1.000000"
            ]
          },
          "metadata": {
            "tags": []
          },
          "execution_count": 8
        }
      ]
    },
    {
      "cell_type": "markdown",
      "metadata": {
        "id": "gbtvG5_cJOoI"
      },
      "source": [
        "#### West Midlands Region"
      ]
    },
    {
      "cell_type": "code",
      "metadata": {
        "colab": {
          "base_uri": "https://localhost:8080/",
          "height": 166
        },
        "id": "tKCw-r0kJfXi",
        "outputId": "87beda61-6e51-4e12-cb1c-f5e01e1d3d40"
      },
      "source": [
        "wmr = mrg.loc[mrg['Geography'].isin(['Staffordshire',\n",
        "                                     'Warwickshire',\n",
        "                                     'West Mercia',\n",
        "                                     'West Midlands'])].copy()\n",
        "scaler_wmr = StandardScaler()\n",
        "wmr.iloc[:,1:] = scaler_wmr.fit_transform(wmr.iloc[:,1:])\n",
        "wmr.corr()"
      ],
      "execution_count": 9,
      "outputs": [
        {
          "output_type": "execute_result",
          "data": {
            "text/html": [
              "<div>\n",
              "<style scoped>\n",
              "    .dataframe tbody tr th:only-of-type {\n",
              "        vertical-align: middle;\n",
              "    }\n",
              "\n",
              "    .dataframe tbody tr th {\n",
              "        vertical-align: top;\n",
              "    }\n",
              "\n",
              "    .dataframe thead th {\n",
              "        text-align: right;\n",
              "    }\n",
              "</style>\n",
              "<table border=\"1\" class=\"dataframe\">\n",
              "  <thead>\n",
              "    <tr style=\"text-align: right;\">\n",
              "      <th></th>\n",
              "      <th>Diversity_Score</th>\n",
              "      <th>PD_Diversity</th>\n",
              "      <th>EHC_Rate</th>\n",
              "      <th>Bias</th>\n",
              "    </tr>\n",
              "  </thead>\n",
              "  <tbody>\n",
              "    <tr>\n",
              "      <th>Diversity_Score</th>\n",
              "      <td>1.000000</td>\n",
              "      <td>0.947560</td>\n",
              "      <td>0.916139</td>\n",
              "      <td>-0.673778</td>\n",
              "    </tr>\n",
              "    <tr>\n",
              "      <th>PD_Diversity</th>\n",
              "      <td>0.947560</td>\n",
              "      <td>1.000000</td>\n",
              "      <td>0.746047</td>\n",
              "      <td>-0.624436</td>\n",
              "    </tr>\n",
              "    <tr>\n",
              "      <th>EHC_Rate</th>\n",
              "      <td>0.916139</td>\n",
              "      <td>0.746047</td>\n",
              "      <td>1.000000</td>\n",
              "      <td>-0.723868</td>\n",
              "    </tr>\n",
              "    <tr>\n",
              "      <th>Bias</th>\n",
              "      <td>-0.673778</td>\n",
              "      <td>-0.624436</td>\n",
              "      <td>-0.723868</td>\n",
              "      <td>1.000000</td>\n",
              "    </tr>\n",
              "  </tbody>\n",
              "</table>\n",
              "</div>"
            ],
            "text/plain": [
              "                 Diversity_Score  PD_Diversity  EHC_Rate      Bias\n",
              "Diversity_Score         1.000000      0.947560  0.916139 -0.673778\n",
              "PD_Diversity            0.947560      1.000000  0.746047 -0.624436\n",
              "EHC_Rate                0.916139      0.746047  1.000000 -0.723868\n",
              "Bias                   -0.673778     -0.624436 -0.723868  1.000000"
            ]
          },
          "metadata": {
            "tags": []
          },
          "execution_count": 9
        }
      ]
    },
    {
      "cell_type": "markdown",
      "metadata": {
        "id": "Gix7K78SKd14"
      },
      "source": [
        "#### East of England Region"
      ]
    },
    {
      "cell_type": "code",
      "metadata": {
        "colab": {
          "base_uri": "https://localhost:8080/",
          "height": 166
        },
        "id": "VzpgI8ZKKfB2",
        "outputId": "1d84d955-3f16-4ef7-a536-772c0b7ec1f0"
      },
      "source": [
        "eer = mrg.loc[mrg['Geography'].isin(['Bedfordshire',\n",
        "                                     'Cambridgeshire',\n",
        "                                     'Essex',\n",
        "                                     'Hertfordshire',\n",
        "                                     'Norfolk',\n",
        "                                     'Suffolk'])].copy()\n",
        "scaler_eer = StandardScaler()\n",
        "eer.iloc[:,1:] = scaler_eer.fit_transform(eer.iloc[:,1:])\n",
        "eer.corr()"
      ],
      "execution_count": 10,
      "outputs": [
        {
          "output_type": "execute_result",
          "data": {
            "text/html": [
              "<div>\n",
              "<style scoped>\n",
              "    .dataframe tbody tr th:only-of-type {\n",
              "        vertical-align: middle;\n",
              "    }\n",
              "\n",
              "    .dataframe tbody tr th {\n",
              "        vertical-align: top;\n",
              "    }\n",
              "\n",
              "    .dataframe thead th {\n",
              "        text-align: right;\n",
              "    }\n",
              "</style>\n",
              "<table border=\"1\" class=\"dataframe\">\n",
              "  <thead>\n",
              "    <tr style=\"text-align: right;\">\n",
              "      <th></th>\n",
              "      <th>Diversity_Score</th>\n",
              "      <th>PD_Diversity</th>\n",
              "      <th>EHC_Rate</th>\n",
              "      <th>Bias</th>\n",
              "    </tr>\n",
              "  </thead>\n",
              "  <tbody>\n",
              "    <tr>\n",
              "      <th>Diversity_Score</th>\n",
              "      <td>1.000000</td>\n",
              "      <td>0.954525</td>\n",
              "      <td>-0.202521</td>\n",
              "      <td>-0.749136</td>\n",
              "    </tr>\n",
              "    <tr>\n",
              "      <th>PD_Diversity</th>\n",
              "      <td>0.954525</td>\n",
              "      <td>1.000000</td>\n",
              "      <td>-0.109196</td>\n",
              "      <td>-0.657051</td>\n",
              "    </tr>\n",
              "    <tr>\n",
              "      <th>EHC_Rate</th>\n",
              "      <td>-0.202521</td>\n",
              "      <td>-0.109196</td>\n",
              "      <td>1.000000</td>\n",
              "      <td>0.052511</td>\n",
              "    </tr>\n",
              "    <tr>\n",
              "      <th>Bias</th>\n",
              "      <td>-0.749136</td>\n",
              "      <td>-0.657051</td>\n",
              "      <td>0.052511</td>\n",
              "      <td>1.000000</td>\n",
              "    </tr>\n",
              "  </tbody>\n",
              "</table>\n",
              "</div>"
            ],
            "text/plain": [
              "                 Diversity_Score  PD_Diversity  EHC_Rate      Bias\n",
              "Diversity_Score         1.000000      0.954525 -0.202521 -0.749136\n",
              "PD_Diversity            0.954525      1.000000 -0.109196 -0.657051\n",
              "EHC_Rate               -0.202521     -0.109196  1.000000  0.052511\n",
              "Bias                   -0.749136     -0.657051  0.052511  1.000000"
            ]
          },
          "metadata": {
            "tags": []
          },
          "execution_count": 10
        }
      ]
    },
    {
      "cell_type": "markdown",
      "metadata": {
        "id": "bAWBmfjPPM5G"
      },
      "source": [
        "#### London Region\n"
      ]
    },
    {
      "cell_type": "code",
      "metadata": {
        "colab": {
          "base_uri": "https://localhost:8080/",
          "height": 77
        },
        "id": "rsBLeBDAOray",
        "outputId": "31811d68-7343-4f65-c191-0d9461e23e0b"
      },
      "source": [
        "lon = mrg.loc[mrg['Geography'].isin(['Metropolitan Police'])].copy()\n",
        "lon"
      ],
      "execution_count": 11,
      "outputs": [
        {
          "output_type": "execute_result",
          "data": {
            "text/html": [
              "<div>\n",
              "<style scoped>\n",
              "    .dataframe tbody tr th:only-of-type {\n",
              "        vertical-align: middle;\n",
              "    }\n",
              "\n",
              "    .dataframe tbody tr th {\n",
              "        vertical-align: top;\n",
              "    }\n",
              "\n",
              "    .dataframe thead th {\n",
              "        text-align: right;\n",
              "    }\n",
              "</style>\n",
              "<table border=\"1\" class=\"dataframe\">\n",
              "  <thead>\n",
              "    <tr style=\"text-align: right;\">\n",
              "      <th></th>\n",
              "      <th>Geography</th>\n",
              "      <th>Diversity_Score</th>\n",
              "      <th>PD_Diversity</th>\n",
              "      <th>EHC_Rate</th>\n",
              "      <th>Bias</th>\n",
              "    </tr>\n",
              "  </thead>\n",
              "  <tbody>\n",
              "    <tr>\n",
              "      <th>23</th>\n",
              "      <td>Metropolitan Police</td>\n",
              "      <td>0.750924</td>\n",
              "      <td>0.324189</td>\n",
              "      <td>0.010545</td>\n",
              "      <td>0.57625</td>\n",
              "    </tr>\n",
              "  </tbody>\n",
              "</table>\n",
              "</div>"
            ],
            "text/plain": [
              "              Geography  Diversity_Score  PD_Diversity  EHC_Rate     Bias\n",
              "23  Metropolitan Police         0.750924      0.324189  0.010545  0.57625"
            ]
          },
          "metadata": {
            "tags": []
          },
          "execution_count": 11
        }
      ]
    },
    {
      "cell_type": "markdown",
      "metadata": {
        "id": "5wYnj5BdPlvK"
      },
      "source": [
        "#### South East Region"
      ]
    },
    {
      "cell_type": "code",
      "metadata": {
        "colab": {
          "base_uri": "https://localhost:8080/",
          "height": 166
        },
        "id": "Y483AqoWPnCK",
        "outputId": "ce43f716-a28f-42d0-edec-05618e635a1c"
      },
      "source": [
        "ser = mrg.loc[mrg['Geography'].isin(['Hampshire',\n",
        "                                     'Kent',\n",
        "                                     'Surrey',\n",
        "                                     'Sussex',\n",
        "                                     'Thames Valley'])].copy()\n",
        "scaler_ser = StandardScaler()\n",
        "ser.iloc[:,1:] = scaler_ser.fit_transform(ser.iloc[:,1:])\n",
        "ser.corr()"
      ],
      "execution_count": 12,
      "outputs": [
        {
          "output_type": "execute_result",
          "data": {
            "text/html": [
              "<div>\n",
              "<style scoped>\n",
              "    .dataframe tbody tr th:only-of-type {\n",
              "        vertical-align: middle;\n",
              "    }\n",
              "\n",
              "    .dataframe tbody tr th {\n",
              "        vertical-align: top;\n",
              "    }\n",
              "\n",
              "    .dataframe thead th {\n",
              "        text-align: right;\n",
              "    }\n",
              "</style>\n",
              "<table border=\"1\" class=\"dataframe\">\n",
              "  <thead>\n",
              "    <tr style=\"text-align: right;\">\n",
              "      <th></th>\n",
              "      <th>Diversity_Score</th>\n",
              "      <th>PD_Diversity</th>\n",
              "      <th>EHC_Rate</th>\n",
              "      <th>Bias</th>\n",
              "    </tr>\n",
              "  </thead>\n",
              "  <tbody>\n",
              "    <tr>\n",
              "      <th>Diversity_Score</th>\n",
              "      <td>1.000000</td>\n",
              "      <td>0.944539</td>\n",
              "      <td>0.702456</td>\n",
              "      <td>-0.562266</td>\n",
              "    </tr>\n",
              "    <tr>\n",
              "      <th>PD_Diversity</th>\n",
              "      <td>0.944539</td>\n",
              "      <td>1.000000</td>\n",
              "      <td>0.868522</td>\n",
              "      <td>-0.657714</td>\n",
              "    </tr>\n",
              "    <tr>\n",
              "      <th>EHC_Rate</th>\n",
              "      <td>0.702456</td>\n",
              "      <td>0.868522</td>\n",
              "      <td>1.000000</td>\n",
              "      <td>-0.593047</td>\n",
              "    </tr>\n",
              "    <tr>\n",
              "      <th>Bias</th>\n",
              "      <td>-0.562266</td>\n",
              "      <td>-0.657714</td>\n",
              "      <td>-0.593047</td>\n",
              "      <td>1.000000</td>\n",
              "    </tr>\n",
              "  </tbody>\n",
              "</table>\n",
              "</div>"
            ],
            "text/plain": [
              "                 Diversity_Score  PD_Diversity  EHC_Rate      Bias\n",
              "Diversity_Score         1.000000      0.944539  0.702456 -0.562266\n",
              "PD_Diversity            0.944539      1.000000  0.868522 -0.657714\n",
              "EHC_Rate                0.702456      0.868522  1.000000 -0.593047\n",
              "Bias                   -0.562266     -0.657714 -0.593047  1.000000"
            ]
          },
          "metadata": {
            "tags": []
          },
          "execution_count": 12
        }
      ]
    },
    {
      "cell_type": "markdown",
      "metadata": {
        "id": "2RDqPMLkS_K2"
      },
      "source": [
        "#### South West Region"
      ]
    },
    {
      "cell_type": "code",
      "metadata": {
        "colab": {
          "base_uri": "https://localhost:8080/",
          "height": 166
        },
        "id": "gJ4BTHMqTAcL",
        "outputId": "0daf43a1-3df8-46b1-9bd5-39214fa9327e"
      },
      "source": [
        "swr = mrg.loc[mrg['Geography'].isin(['Avon and Somerset',\n",
        "                                     'Devon and Cornwall',\n",
        "                                     'Dorset',\n",
        "                                     'Gloucestershire',\n",
        "                                     'Wiltshire'])].copy()\n",
        "scaler_swr = StandardScaler()\n",
        "swr.iloc[:,1:] = scaler_swr.fit_transform(swr.iloc[:,1:])\n",
        "swr.corr()"
      ],
      "execution_count": 13,
      "outputs": [
        {
          "output_type": "execute_result",
          "data": {
            "text/html": [
              "<div>\n",
              "<style scoped>\n",
              "    .dataframe tbody tr th:only-of-type {\n",
              "        vertical-align: middle;\n",
              "    }\n",
              "\n",
              "    .dataframe tbody tr th {\n",
              "        vertical-align: top;\n",
              "    }\n",
              "\n",
              "    .dataframe thead th {\n",
              "        text-align: right;\n",
              "    }\n",
              "</style>\n",
              "<table border=\"1\" class=\"dataframe\">\n",
              "  <thead>\n",
              "    <tr style=\"text-align: right;\">\n",
              "      <th></th>\n",
              "      <th>Diversity_Score</th>\n",
              "      <th>PD_Diversity</th>\n",
              "      <th>EHC_Rate</th>\n",
              "      <th>Bias</th>\n",
              "    </tr>\n",
              "  </thead>\n",
              "  <tbody>\n",
              "    <tr>\n",
              "      <th>Diversity_Score</th>\n",
              "      <td>1.000000</td>\n",
              "      <td>0.558934</td>\n",
              "      <td>0.351783</td>\n",
              "      <td>-0.175856</td>\n",
              "    </tr>\n",
              "    <tr>\n",
              "      <th>PD_Diversity</th>\n",
              "      <td>0.558934</td>\n",
              "      <td>1.000000</td>\n",
              "      <td>0.377219</td>\n",
              "      <td>-0.509911</td>\n",
              "    </tr>\n",
              "    <tr>\n",
              "      <th>EHC_Rate</th>\n",
              "      <td>0.351783</td>\n",
              "      <td>0.377219</td>\n",
              "      <td>1.000000</td>\n",
              "      <td>-0.608421</td>\n",
              "    </tr>\n",
              "    <tr>\n",
              "      <th>Bias</th>\n",
              "      <td>-0.175856</td>\n",
              "      <td>-0.509911</td>\n",
              "      <td>-0.608421</td>\n",
              "      <td>1.000000</td>\n",
              "    </tr>\n",
              "  </tbody>\n",
              "</table>\n",
              "</div>"
            ],
            "text/plain": [
              "                 Diversity_Score  PD_Diversity  EHC_Rate      Bias\n",
              "Diversity_Score         1.000000      0.558934  0.351783 -0.175856\n",
              "PD_Diversity            0.558934      1.000000  0.377219 -0.509911\n",
              "EHC_Rate                0.351783      0.377219  1.000000 -0.608421\n",
              "Bias                   -0.175856     -0.509911 -0.608421  1.000000"
            ]
          },
          "metadata": {
            "tags": []
          },
          "execution_count": 13
        }
      ]
    },
    {
      "cell_type": "markdown",
      "metadata": {
        "id": "sVAxnsdKTxdt"
      },
      "source": [
        "#### Country of Wales"
      ]
    },
    {
      "cell_type": "code",
      "metadata": {
        "colab": {
          "base_uri": "https://localhost:8080/",
          "height": 166
        },
        "id": "3J3yjjqkTq2C",
        "outputId": "cba521b6-8626-4e84-d830-de280395a8df"
      },
      "source": [
        "wales = mrg.loc[mrg['Geography'].isin(['Dyfed-Powys',\n",
        "                                       'Gwent',\n",
        "                                       'North Wales',\n",
        "                                       'South Wales'])].copy()\n",
        "scaler_wales = StandardScaler()\n",
        "wales.iloc[:,1:] = scaler_wales.fit_transform(wales.iloc[:,1:])\n",
        "wales.corr()"
      ],
      "execution_count": 14,
      "outputs": [
        {
          "output_type": "execute_result",
          "data": {
            "text/html": [
              "<div>\n",
              "<style scoped>\n",
              "    .dataframe tbody tr th:only-of-type {\n",
              "        vertical-align: middle;\n",
              "    }\n",
              "\n",
              "    .dataframe tbody tr th {\n",
              "        vertical-align: top;\n",
              "    }\n",
              "\n",
              "    .dataframe thead th {\n",
              "        text-align: right;\n",
              "    }\n",
              "</style>\n",
              "<table border=\"1\" class=\"dataframe\">\n",
              "  <thead>\n",
              "    <tr style=\"text-align: right;\">\n",
              "      <th></th>\n",
              "      <th>Diversity_Score</th>\n",
              "      <th>PD_Diversity</th>\n",
              "      <th>EHC_Rate</th>\n",
              "      <th>Bias</th>\n",
              "    </tr>\n",
              "  </thead>\n",
              "  <tbody>\n",
              "    <tr>\n",
              "      <th>Diversity_Score</th>\n",
              "      <td>1.000000</td>\n",
              "      <td>0.997247</td>\n",
              "      <td>0.567872</td>\n",
              "      <td>0.516401</td>\n",
              "    </tr>\n",
              "    <tr>\n",
              "      <th>PD_Diversity</th>\n",
              "      <td>0.997247</td>\n",
              "      <td>1.000000</td>\n",
              "      <td>0.508362</td>\n",
              "      <td>0.552898</td>\n",
              "    </tr>\n",
              "    <tr>\n",
              "      <th>EHC_Rate</th>\n",
              "      <td>0.567872</td>\n",
              "      <td>0.508362</td>\n",
              "      <td>1.000000</td>\n",
              "      <td>-0.283996</td>\n",
              "    </tr>\n",
              "    <tr>\n",
              "      <th>Bias</th>\n",
              "      <td>0.516401</td>\n",
              "      <td>0.552898</td>\n",
              "      <td>-0.283996</td>\n",
              "      <td>1.000000</td>\n",
              "    </tr>\n",
              "  </tbody>\n",
              "</table>\n",
              "</div>"
            ],
            "text/plain": [
              "                 Diversity_Score  PD_Diversity  EHC_Rate      Bias\n",
              "Diversity_Score         1.000000      0.997247  0.567872  0.516401\n",
              "PD_Diversity            0.997247      1.000000  0.508362  0.552898\n",
              "EHC_Rate                0.567872      0.508362  1.000000 -0.283996\n",
              "Bias                    0.516401      0.552898 -0.283996  1.000000"
            ]
          },
          "metadata": {
            "tags": []
          },
          "execution_count": 14
        }
      ]
    }
  ]
}
