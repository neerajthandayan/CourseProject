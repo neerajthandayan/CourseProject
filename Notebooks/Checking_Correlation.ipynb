{
  "nbformat": 4,
  "nbformat_minor": 0,
  "metadata": {
    "colab": {
      "name": "Checking_Correlation.ipynb",
      "provenance": [],
      "toc_visible": true,
      "authorship_tag": "ABX9TyOkW3nwUhySYOrCrNeg+lCs",
      "include_colab_link": true
    },
    "kernelspec": {
      "name": "python3",
      "display_name": "Python 3"
    },
    "language_info": {
      "name": "python"
    }
  },
  "cells": [
    {
      "cell_type": "markdown",
      "metadata": {
        "id": "view-in-github",
        "colab_type": "text"
      },
      "source": [
        "<a href=\"https://colab.research.google.com/github/neerajthandayan/CourseProject/blob/main/Notebooks/Checking_Correlation.ipynb\" target=\"_parent\"><img src=\"https://colab.research.google.com/assets/colab-badge.svg\" alt=\"Open In Colab\"/></a>"
      ]
    },
    {
      "cell_type": "code",
      "metadata": {
        "id": "QD86d24tc-uJ"
      },
      "source": [
        "# Libraries\n",
        "\n",
        "import pandas as pd\n",
        "import numpy as np\n",
        "from sklearn.preprocessing import StandardScaler\n",
        "from plotnine import *"
      ],
      "execution_count": 1,
      "outputs": []
    },
    {
      "cell_type": "code",
      "metadata": {
        "id": "2XJOgDFytI8D"
      },
      "source": [
        "# Fetching Data\n",
        "\n",
        "ed = pd.read_csv('https://raw.githubusercontent.com/neerajthandayan/CourseProject/main/Data/ethnicdiversity.csv', index_col=0)\n",
        "pdiv = pd.read_csv('https://raw.githubusercontent.com/neerajthandayan/CourseProject/main/Data/police_diversity.csv', index_col=0)\n",
        "ehcr = pd.read_csv('https://raw.githubusercontent.com/neerajthandayan/CourseProject/main/Data/ethnichatecrime_rate.csv', index_col=0)\n",
        "bias = pd.read_csv('https://raw.githubusercontent.com/neerajthandayan/CourseProject/main/Data/Police_Bias.csv', index_col=0)"
      ],
      "execution_count": 2,
      "outputs": []
    },
    {
      "cell_type": "code",
      "metadata": {
        "colab": {
          "base_uri": "https://localhost:8080/",
          "height": 166
        },
        "id": "wlYUFFgdzlvZ",
        "outputId": "eb5e7ef4-6792-458a-f24d-08b54a5c033e"
      },
      "source": [
        "mrg = ed.merge(pdiv.merge(ehcr.merge(bias, on='Geography'), on='Geography'), on='Geography')\n",
        "scaler = StandardScaler()\n",
        "ms = pd.DataFrame(scaler.fit_transform(mrg.iloc[:,1:]))\n",
        "mrg_scl = pd.concat([mrg['Geography'],ms], axis=1)\n",
        "mrg_scl.columns = mrg.columns\n",
        "mrg_scl.corr()"
      ],
      "execution_count": 3,
      "outputs": [
        {
          "output_type": "execute_result",
          "data": {
            "text/html": [
              "<div>\n",
              "<style scoped>\n",
              "    .dataframe tbody tr th:only-of-type {\n",
              "        vertical-align: middle;\n",
              "    }\n",
              "\n",
              "    .dataframe tbody tr th {\n",
              "        vertical-align: top;\n",
              "    }\n",
              "\n",
              "    .dataframe thead th {\n",
              "        text-align: right;\n",
              "    }\n",
              "</style>\n",
              "<table border=\"1\" class=\"dataframe\">\n",
              "  <thead>\n",
              "    <tr style=\"text-align: right;\">\n",
              "      <th></th>\n",
              "      <th>Diversity_Score</th>\n",
              "      <th>PD_Diversity</th>\n",
              "      <th>RI_Rate</th>\n",
              "      <th>Bias</th>\n",
              "    </tr>\n",
              "  </thead>\n",
              "  <tbody>\n",
              "    <tr>\n",
              "      <th>Diversity_Score</th>\n",
              "      <td>1.000000</td>\n",
              "      <td>0.946550</td>\n",
              "      <td>0.437188</td>\n",
              "      <td>-0.180331</td>\n",
              "    </tr>\n",
              "    <tr>\n",
              "      <th>PD_Diversity</th>\n",
              "      <td>0.946550</td>\n",
              "      <td>1.000000</td>\n",
              "      <td>0.431857</td>\n",
              "      <td>-0.203567</td>\n",
              "    </tr>\n",
              "    <tr>\n",
              "      <th>RI_Rate</th>\n",
              "      <td>0.437188</td>\n",
              "      <td>0.431857</td>\n",
              "      <td>1.000000</td>\n",
              "      <td>-0.045852</td>\n",
              "    </tr>\n",
              "    <tr>\n",
              "      <th>Bias</th>\n",
              "      <td>-0.180331</td>\n",
              "      <td>-0.203567</td>\n",
              "      <td>-0.045852</td>\n",
              "      <td>1.000000</td>\n",
              "    </tr>\n",
              "  </tbody>\n",
              "</table>\n",
              "</div>"
            ],
            "text/plain": [
              "                 Diversity_Score  PD_Diversity   RI_Rate      Bias\n",
              "Diversity_Score         1.000000      0.946550  0.437188 -0.180331\n",
              "PD_Diversity            0.946550      1.000000  0.431857 -0.203567\n",
              "RI_Rate                 0.437188      0.431857  1.000000 -0.045852\n",
              "Bias                   -0.180331     -0.203567 -0.045852  1.000000"
            ]
          },
          "metadata": {
            "tags": []
          },
          "execution_count": 3
        }
      ]
    },
    {
      "cell_type": "code",
      "metadata": {
        "colab": {
          "base_uri": "https://localhost:8080/",
          "height": 1000
        },
        "id": "RyktlhMCWdx2",
        "outputId": "3bef1853-6fcf-48f4-8193-13b8eeaad892"
      },
      "source": [
        "mrg_scl"
      ],
      "execution_count": 4,
      "outputs": [
        {
          "output_type": "execute_result",
          "data": {
            "text/html": [
              "<div>\n",
              "<style scoped>\n",
              "    .dataframe tbody tr th:only-of-type {\n",
              "        vertical-align: middle;\n",
              "    }\n",
              "\n",
              "    .dataframe tbody tr th {\n",
              "        vertical-align: top;\n",
              "    }\n",
              "\n",
              "    .dataframe thead th {\n",
              "        text-align: right;\n",
              "    }\n",
              "</style>\n",
              "<table border=\"1\" class=\"dataframe\">\n",
              "  <thead>\n",
              "    <tr style=\"text-align: right;\">\n",
              "      <th></th>\n",
              "      <th>Geography</th>\n",
              "      <th>Diversity_Score</th>\n",
              "      <th>PD_Diversity</th>\n",
              "      <th>RI_Rate</th>\n",
              "      <th>Bias</th>\n",
              "    </tr>\n",
              "  </thead>\n",
              "  <tbody>\n",
              "    <tr>\n",
              "      <th>0</th>\n",
              "      <td>Bedfordshire</td>\n",
              "      <td>1.940406</td>\n",
              "      <td>1.510866</td>\n",
              "      <td>-0.107157</td>\n",
              "      <td>-0.367604</td>\n",
              "    </tr>\n",
              "    <tr>\n",
              "      <th>1</th>\n",
              "      <td>Cambridgeshire</td>\n",
              "      <td>0.313615</td>\n",
              "      <td>-0.260857</td>\n",
              "      <td>-1.039629</td>\n",
              "      <td>-0.307235</td>\n",
              "    </tr>\n",
              "    <tr>\n",
              "      <th>2</th>\n",
              "      <td>Cheshire</td>\n",
              "      <td>-0.897730</td>\n",
              "      <td>-0.959511</td>\n",
              "      <td>-1.176941</td>\n",
              "      <td>-0.086797</td>\n",
              "    </tr>\n",
              "    <tr>\n",
              "      <th>3</th>\n",
              "      <td>Cleveland</td>\n",
              "      <td>-0.414823</td>\n",
              "      <td>-0.579611</td>\n",
              "      <td>0.401420</td>\n",
              "      <td>-0.533469</td>\n",
              "    </tr>\n",
              "    <tr>\n",
              "      <th>4</th>\n",
              "      <td>Cumbria</td>\n",
              "      <td>-1.227497</td>\n",
              "      <td>-0.977774</td>\n",
              "      <td>-0.847318</td>\n",
              "      <td>-0.314055</td>\n",
              "    </tr>\n",
              "    <tr>\n",
              "      <th>5</th>\n",
              "      <td>Derbyshire</td>\n",
              "      <td>-0.192314</td>\n",
              "      <td>0.162158</td>\n",
              "      <td>0.689345</td>\n",
              "      <td>-0.318060</td>\n",
              "    </tr>\n",
              "    <tr>\n",
              "      <th>6</th>\n",
              "      <td>Dorset</td>\n",
              "      <td>-0.723578</td>\n",
              "      <td>-0.885386</td>\n",
              "      <td>0.210323</td>\n",
              "      <td>5.726699</td>\n",
              "    </tr>\n",
              "    <tr>\n",
              "      <th>7</th>\n",
              "      <td>Durham</td>\n",
              "      <td>-1.088044</td>\n",
              "      <td>-0.566539</td>\n",
              "      <td>-1.110732</td>\n",
              "      <td>-0.444639</td>\n",
              "    </tr>\n",
              "    <tr>\n",
              "      <th>8</th>\n",
              "      <td>Dyfed-Powys</td>\n",
              "      <td>-1.120474</td>\n",
              "      <td>-1.201941</td>\n",
              "      <td>-1.218319</td>\n",
              "      <td>-0.387302</td>\n",
              "    </tr>\n",
              "    <tr>\n",
              "      <th>9</th>\n",
              "      <td>Essex</td>\n",
              "      <td>-0.196440</td>\n",
              "      <td>-0.233495</td>\n",
              "      <td>-0.940076</td>\n",
              "      <td>-0.296602</td>\n",
              "    </tr>\n",
              "    <tr>\n",
              "      <th>10</th>\n",
              "      <td>Gloucestershire</td>\n",
              "      <td>-0.600369</td>\n",
              "      <td>-0.563281</td>\n",
              "      <td>-0.128951</td>\n",
              "      <td>0.372894</td>\n",
              "    </tr>\n",
              "    <tr>\n",
              "      <th>11</th>\n",
              "      <td>Greater Manchester</td>\n",
              "      <td>1.240956</td>\n",
              "      <td>0.863447</td>\n",
              "      <td>0.615035</td>\n",
              "      <td>-0.390154</td>\n",
              "    </tr>\n",
              "    <tr>\n",
              "      <th>12</th>\n",
              "      <td>Gwent</td>\n",
              "      <td>-0.737252</td>\n",
              "      <td>-0.796537</td>\n",
              "      <td>-0.979742</td>\n",
              "      <td>-0.062188</td>\n",
              "    </tr>\n",
              "    <tr>\n",
              "      <th>13</th>\n",
              "      <td>Hampshire</td>\n",
              "      <td>-0.209096</td>\n",
              "      <td>-0.236051</td>\n",
              "      <td>-0.138181</td>\n",
              "      <td>0.053039</td>\n",
              "    </tr>\n",
              "    <tr>\n",
              "      <th>14</th>\n",
              "      <td>Hertfordshire</td>\n",
              "      <td>0.713738</td>\n",
              "      <td>0.455207</td>\n",
              "      <td>1.220194</td>\n",
              "      <td>-0.499004</td>\n",
              "    </tr>\n",
              "    <tr>\n",
              "      <th>15</th>\n",
              "      <td>Humberside</td>\n",
              "      <td>-0.808763</td>\n",
              "      <td>-1.059862</td>\n",
              "      <td>-0.952358</td>\n",
              "      <td>-0.479259</td>\n",
              "    </tr>\n",
              "    <tr>\n",
              "      <th>16</th>\n",
              "      <td>Kent</td>\n",
              "      <td>-0.160405</td>\n",
              "      <td>0.069656</td>\n",
              "      <td>0.249007</td>\n",
              "      <td>-0.243987</td>\n",
              "    </tr>\n",
              "    <tr>\n",
              "      <th>17</th>\n",
              "      <td>Lancashire</td>\n",
              "      <td>0.351812</td>\n",
              "      <td>0.337244</td>\n",
              "      <td>1.191017</td>\n",
              "      <td>-0.267744</td>\n",
              "    </tr>\n",
              "    <tr>\n",
              "      <th>18</th>\n",
              "      <td>Leicestershire</td>\n",
              "      <td>1.947043</td>\n",
              "      <td>1.885163</td>\n",
              "      <td>1.625258</td>\n",
              "      <td>-0.110723</td>\n",
              "    </tr>\n",
              "    <tr>\n",
              "      <th>19</th>\n",
              "      <td>Lincolnshire</td>\n",
              "      <td>-1.039039</td>\n",
              "      <td>-0.706115</td>\n",
              "      <td>-1.295186</td>\n",
              "      <td>-0.340457</td>\n",
              "    </tr>\n",
              "    <tr>\n",
              "      <th>20</th>\n",
              "      <td>Merseyside</td>\n",
              "      <td>-0.428693</td>\n",
              "      <td>0.242625</td>\n",
              "      <td>0.311204</td>\n",
              "      <td>-0.479155</td>\n",
              "    </tr>\n",
              "    <tr>\n",
              "      <th>21</th>\n",
              "      <td>Metropolitan Police</td>\n",
              "      <td>2.717464</td>\n",
              "      <td>3.190002</td>\n",
              "      <td>-0.076679</td>\n",
              "      <td>-0.372064</td>\n",
              "    </tr>\n",
              "    <tr>\n",
              "      <th>22</th>\n",
              "      <td>Norfolk</td>\n",
              "      <td>-0.817958</td>\n",
              "      <td>-0.778601</td>\n",
              "      <td>0.514890</td>\n",
              "      <td>0.317098</td>\n",
              "    </tr>\n",
              "    <tr>\n",
              "      <th>23</th>\n",
              "      <td>North Wales</td>\n",
              "      <td>-1.018173</td>\n",
              "      <td>-1.108413</td>\n",
              "      <td>-0.913318</td>\n",
              "      <td>-0.493562</td>\n",
              "    </tr>\n",
              "    <tr>\n",
              "      <th>24</th>\n",
              "      <td>North Yorkshire</td>\n",
              "      <td>-0.830844</td>\n",
              "      <td>-0.936486</td>\n",
              "      <td>-1.547631</td>\n",
              "      <td>-0.390574</td>\n",
              "    </tr>\n",
              "    <tr>\n",
              "      <th>25</th>\n",
              "      <td>Northamptonshire</td>\n",
              "      <td>0.112684</td>\n",
              "      <td>0.461860</td>\n",
              "      <td>1.035212</td>\n",
              "      <td>-0.459951</td>\n",
              "    </tr>\n",
              "    <tr>\n",
              "      <th>26</th>\n",
              "      <td>Northumbria</td>\n",
              "      <td>-0.436282</td>\n",
              "      <td>-0.726982</td>\n",
              "      <td>0.164315</td>\n",
              "      <td>-0.530006</td>\n",
              "    </tr>\n",
              "    <tr>\n",
              "      <th>27</th>\n",
              "      <td>Nottinghamshire</td>\n",
              "      <td>0.524982</td>\n",
              "      <td>0.408280</td>\n",
              "      <td>0.724552</td>\n",
              "      <td>0.368016</td>\n",
              "    </tr>\n",
              "    <tr>\n",
              "      <th>28</th>\n",
              "      <td>South Wales</td>\n",
              "      <td>-0.217059</td>\n",
              "      <td>-0.363408</td>\n",
              "      <td>2.142337</td>\n",
              "      <td>-0.244603</td>\n",
              "    </tr>\n",
              "    <tr>\n",
              "      <th>29</th>\n",
              "      <td>South Yorkshire</td>\n",
              "      <td>0.248333</td>\n",
              "      <td>0.092840</td>\n",
              "      <td>1.820094</td>\n",
              "      <td>-0.334286</td>\n",
              "    </tr>\n",
              "    <tr>\n",
              "      <th>30</th>\n",
              "      <td>Staffordshire</td>\n",
              "      <td>-0.338162</td>\n",
              "      <td>-0.370935</td>\n",
              "      <td>1.692815</td>\n",
              "      <td>-0.237617</td>\n",
              "    </tr>\n",
              "    <tr>\n",
              "      <th>31</th>\n",
              "      <td>Suffolk</td>\n",
              "      <td>-0.558033</td>\n",
              "      <td>-0.393912</td>\n",
              "      <td>-1.252378</td>\n",
              "      <td>0.187379</td>\n",
              "    </tr>\n",
              "    <tr>\n",
              "      <th>32</th>\n",
              "      <td>Surrey</td>\n",
              "      <td>0.292265</td>\n",
              "      <td>0.408387</td>\n",
              "      <td>0.835381</td>\n",
              "      <td>0.222033</td>\n",
              "    </tr>\n",
              "    <tr>\n",
              "      <th>33</th>\n",
              "      <td>Sussex</td>\n",
              "      <td>-0.274487</td>\n",
              "      <td>-0.472701</td>\n",
              "      <td>-1.207298</td>\n",
              "      <td>0.588972</td>\n",
              "    </tr>\n",
              "    <tr>\n",
              "      <th>34</th>\n",
              "      <td>Thames Valley</td>\n",
              "      <td>1.140606</td>\n",
              "      <td>1.077214</td>\n",
              "      <td>0.589228</td>\n",
              "      <td>-0.336245</td>\n",
              "    </tr>\n",
              "    <tr>\n",
              "      <th>35</th>\n",
              "      <td>Warwickshire</td>\n",
              "      <td>-0.089450</td>\n",
              "      <td>0.991144</td>\n",
              "      <td>-0.135577</td>\n",
              "      <td>0.221721</td>\n",
              "    </tr>\n",
              "    <tr>\n",
              "      <th>36</th>\n",
              "      <td>West Mercia</td>\n",
              "      <td>-0.761339</td>\n",
              "      <td>-0.598200</td>\n",
              "      <td>-0.268487</td>\n",
              "      <td>1.036710</td>\n",
              "    </tr>\n",
              "    <tr>\n",
              "      <th>37</th>\n",
              "      <td>West Midlands</td>\n",
              "      <td>2.510655</td>\n",
              "      <td>2.537548</td>\n",
              "      <td>0.120012</td>\n",
              "      <td>-0.390867</td>\n",
              "    </tr>\n",
              "    <tr>\n",
              "      <th>38</th>\n",
              "      <td>West Yorkshire</td>\n",
              "      <td>1.558649</td>\n",
              "      <td>1.023699</td>\n",
              "      <td>0.700219</td>\n",
              "      <td>-0.486793</td>\n",
              "    </tr>\n",
              "    <tr>\n",
              "      <th>39</th>\n",
              "      <td>Wiltshire</td>\n",
              "      <td>-0.426902</td>\n",
              "      <td>-0.940741</td>\n",
              "      <td>-1.515903</td>\n",
              "      <td>1.110438</td>\n",
              "    </tr>\n",
              "  </tbody>\n",
              "</table>\n",
              "</div>"
            ],
            "text/plain": [
              "              Geography  Diversity_Score  PD_Diversity   RI_Rate      Bias\n",
              "0          Bedfordshire         1.940406      1.510866 -0.107157 -0.367604\n",
              "1        Cambridgeshire         0.313615     -0.260857 -1.039629 -0.307235\n",
              "2              Cheshire        -0.897730     -0.959511 -1.176941 -0.086797\n",
              "3             Cleveland        -0.414823     -0.579611  0.401420 -0.533469\n",
              "4               Cumbria        -1.227497     -0.977774 -0.847318 -0.314055\n",
              "5            Derbyshire        -0.192314      0.162158  0.689345 -0.318060\n",
              "6                Dorset        -0.723578     -0.885386  0.210323  5.726699\n",
              "7                Durham        -1.088044     -0.566539 -1.110732 -0.444639\n",
              "8           Dyfed-Powys        -1.120474     -1.201941 -1.218319 -0.387302\n",
              "9                 Essex        -0.196440     -0.233495 -0.940076 -0.296602\n",
              "10      Gloucestershire        -0.600369     -0.563281 -0.128951  0.372894\n",
              "11   Greater Manchester         1.240956      0.863447  0.615035 -0.390154\n",
              "12                Gwent        -0.737252     -0.796537 -0.979742 -0.062188\n",
              "13            Hampshire        -0.209096     -0.236051 -0.138181  0.053039\n",
              "14        Hertfordshire         0.713738      0.455207  1.220194 -0.499004\n",
              "15           Humberside        -0.808763     -1.059862 -0.952358 -0.479259\n",
              "16                 Kent        -0.160405      0.069656  0.249007 -0.243987\n",
              "17           Lancashire         0.351812      0.337244  1.191017 -0.267744\n",
              "18       Leicestershire         1.947043      1.885163  1.625258 -0.110723\n",
              "19         Lincolnshire        -1.039039     -0.706115 -1.295186 -0.340457\n",
              "20           Merseyside        -0.428693      0.242625  0.311204 -0.479155\n",
              "21  Metropolitan Police         2.717464      3.190002 -0.076679 -0.372064\n",
              "22              Norfolk        -0.817958     -0.778601  0.514890  0.317098\n",
              "23          North Wales        -1.018173     -1.108413 -0.913318 -0.493562\n",
              "24      North Yorkshire        -0.830844     -0.936486 -1.547631 -0.390574\n",
              "25     Northamptonshire         0.112684      0.461860  1.035212 -0.459951\n",
              "26          Northumbria        -0.436282     -0.726982  0.164315 -0.530006\n",
              "27      Nottinghamshire         0.524982      0.408280  0.724552  0.368016\n",
              "28          South Wales        -0.217059     -0.363408  2.142337 -0.244603\n",
              "29      South Yorkshire         0.248333      0.092840  1.820094 -0.334286\n",
              "30        Staffordshire        -0.338162     -0.370935  1.692815 -0.237617\n",
              "31              Suffolk        -0.558033     -0.393912 -1.252378  0.187379\n",
              "32               Surrey         0.292265      0.408387  0.835381  0.222033\n",
              "33               Sussex        -0.274487     -0.472701 -1.207298  0.588972\n",
              "34        Thames Valley         1.140606      1.077214  0.589228 -0.336245\n",
              "35         Warwickshire        -0.089450      0.991144 -0.135577  0.221721\n",
              "36          West Mercia        -0.761339     -0.598200 -0.268487  1.036710\n",
              "37        West Midlands         2.510655      2.537548  0.120012 -0.390867\n",
              "38       West Yorkshire         1.558649      1.023699  0.700219 -0.486793\n",
              "39            Wiltshire        -0.426902     -0.940741 -1.515903  1.110438"
            ]
          },
          "metadata": {
            "tags": []
          },
          "execution_count": 4
        }
      ]
    },
    {
      "cell_type": "markdown",
      "metadata": {
        "id": "oDOqK09rBd4Q"
      },
      "source": [
        "## Region-wise Check for Correlation"
      ]
    },
    {
      "cell_type": "markdown",
      "metadata": {
        "id": "rEZOx-fwBllM"
      },
      "source": [
        "#### Northeast Region"
      ]
    },
    {
      "cell_type": "code",
      "metadata": {
        "colab": {
          "base_uri": "https://localhost:8080/",
          "height": 166
        },
        "id": "I7pCF6rHBOv5",
        "outputId": "9de0f465-8c69-4dab-f571-52db6dd39b23"
      },
      "source": [
        "ner = mrg.loc[mrg['Geography'].isin(['Durham',\n",
        "                                     'Cleveland',\n",
        "                                     'Northumbria'])].copy()\n",
        "scaler_ner = StandardScaler()\n",
        "ner.iloc[:,1:] = scaler_ner.fit_transform(ner.iloc[:,1:])\n",
        "ner.corr()"
      ],
      "execution_count": 5,
      "outputs": [
        {
          "output_type": "execute_result",
          "data": {
            "text/html": [
              "<div>\n",
              "<style scoped>\n",
              "    .dataframe tbody tr th:only-of-type {\n",
              "        vertical-align: middle;\n",
              "    }\n",
              "\n",
              "    .dataframe tbody tr th {\n",
              "        vertical-align: top;\n",
              "    }\n",
              "\n",
              "    .dataframe thead th {\n",
              "        text-align: right;\n",
              "    }\n",
              "</style>\n",
              "<table border=\"1\" class=\"dataframe\">\n",
              "  <thead>\n",
              "    <tr style=\"text-align: right;\">\n",
              "      <th></th>\n",
              "      <th>Diversity_Score</th>\n",
              "      <th>PD_Diversity</th>\n",
              "      <th>RI_Rate</th>\n",
              "      <th>Bias</th>\n",
              "    </tr>\n",
              "  </thead>\n",
              "  <tbody>\n",
              "    <tr>\n",
              "      <th>Diversity_Score</th>\n",
              "      <td>1.000000</td>\n",
              "      <td>-0.538772</td>\n",
              "      <td>0.993017</td>\n",
              "      <td>-0.999980</td>\n",
              "    </tr>\n",
              "    <tr>\n",
              "      <th>PD_Diversity</th>\n",
              "      <td>-0.538772</td>\n",
              "      <td>1.000000</td>\n",
              "      <td>-0.435624</td>\n",
              "      <td>0.533393</td>\n",
              "    </tr>\n",
              "    <tr>\n",
              "      <th>RI_Rate</th>\n",
              "      <td>0.993017</td>\n",
              "      <td>-0.435624</td>\n",
              "      <td>1.000000</td>\n",
              "      <td>-0.993748</td>\n",
              "    </tr>\n",
              "    <tr>\n",
              "      <th>Bias</th>\n",
              "      <td>-0.999980</td>\n",
              "      <td>0.533393</td>\n",
              "      <td>-0.993748</td>\n",
              "      <td>1.000000</td>\n",
              "    </tr>\n",
              "  </tbody>\n",
              "</table>\n",
              "</div>"
            ],
            "text/plain": [
              "                 Diversity_Score  PD_Diversity   RI_Rate      Bias\n",
              "Diversity_Score         1.000000     -0.538772  0.993017 -0.999980\n",
              "PD_Diversity           -0.538772      1.000000 -0.435624  0.533393\n",
              "RI_Rate                 0.993017     -0.435624  1.000000 -0.993748\n",
              "Bias                   -0.999980      0.533393 -0.993748  1.000000"
            ]
          },
          "metadata": {
            "tags": []
          },
          "execution_count": 5
        }
      ]
    },
    {
      "cell_type": "markdown",
      "metadata": {
        "id": "CsN-5lFdD4hD"
      },
      "source": [
        "#### Northwest Region"
      ]
    },
    {
      "cell_type": "code",
      "metadata": {
        "colab": {
          "base_uri": "https://localhost:8080/",
          "height": 166
        },
        "id": "V9B6VJDaD30q",
        "outputId": "69ba975f-00d8-4810-ff04-545cfa4e97e6"
      },
      "source": [
        "nwr = mrg.loc[mrg['Geography'].isin(['Cheshire',\n",
        "                                     'Cumbria',\n",
        "                                     'Greater Manchester',\n",
        "                                     'Lancashire',\n",
        "                                     'Merseyside'])].copy()\n",
        "scaler_nwr = StandardScaler()\n",
        "nwr.iloc[:,1:] = scaler_nwr.fit_transform(nwr.iloc[:,1:])\n",
        "nwr.corr()"
      ],
      "execution_count": 6,
      "outputs": [
        {
          "output_type": "execute_result",
          "data": {
            "text/html": [
              "<div>\n",
              "<style scoped>\n",
              "    .dataframe tbody tr th:only-of-type {\n",
              "        vertical-align: middle;\n",
              "    }\n",
              "\n",
              "    .dataframe tbody tr th {\n",
              "        vertical-align: top;\n",
              "    }\n",
              "\n",
              "    .dataframe thead th {\n",
              "        text-align: right;\n",
              "    }\n",
              "</style>\n",
              "<table border=\"1\" class=\"dataframe\">\n",
              "  <thead>\n",
              "    <tr style=\"text-align: right;\">\n",
              "      <th></th>\n",
              "      <th>Diversity_Score</th>\n",
              "      <th>PD_Diversity</th>\n",
              "      <th>RI_Rate</th>\n",
              "      <th>Bias</th>\n",
              "    </tr>\n",
              "  </thead>\n",
              "  <tbody>\n",
              "    <tr>\n",
              "      <th>Diversity_Score</th>\n",
              "      <td>1.000000</td>\n",
              "      <td>0.923952</td>\n",
              "      <td>0.793774</td>\n",
              "      <td>-0.349594</td>\n",
              "    </tr>\n",
              "    <tr>\n",
              "      <th>PD_Diversity</th>\n",
              "      <td>0.923952</td>\n",
              "      <td>1.000000</td>\n",
              "      <td>0.898253</td>\n",
              "      <td>-0.625343</td>\n",
              "    </tr>\n",
              "    <tr>\n",
              "      <th>RI_Rate</th>\n",
              "      <td>0.793774</td>\n",
              "      <td>0.898253</td>\n",
              "      <td>1.000000</td>\n",
              "      <td>-0.528811</td>\n",
              "    </tr>\n",
              "    <tr>\n",
              "      <th>Bias</th>\n",
              "      <td>-0.349594</td>\n",
              "      <td>-0.625343</td>\n",
              "      <td>-0.528811</td>\n",
              "      <td>1.000000</td>\n",
              "    </tr>\n",
              "  </tbody>\n",
              "</table>\n",
              "</div>"
            ],
            "text/plain": [
              "                 Diversity_Score  PD_Diversity   RI_Rate      Bias\n",
              "Diversity_Score         1.000000      0.923952  0.793774 -0.349594\n",
              "PD_Diversity            0.923952      1.000000  0.898253 -0.625343\n",
              "RI_Rate                 0.793774      0.898253  1.000000 -0.528811\n",
              "Bias                   -0.349594     -0.625343 -0.528811  1.000000"
            ]
          },
          "metadata": {
            "tags": []
          },
          "execution_count": 6
        }
      ]
    },
    {
      "cell_type": "markdown",
      "metadata": {
        "id": "v7s37fB6FWJr"
      },
      "source": [
        "#### Yorkshire and the Humber Region"
      ]
    },
    {
      "cell_type": "code",
      "metadata": {
        "colab": {
          "base_uri": "https://localhost:8080/",
          "height": 166
        },
        "id": "Gui2RUJyFcs1",
        "outputId": "09a4d785-8fd4-4953-ed2f-654042cda8a9"
      },
      "source": [
        "york = mrg.loc[mrg['Geography'].isin(['Humberside',\n",
        "                                      'North Yorkshire',\n",
        "                                      'South Yorkshire',\n",
        "                                      'West Yorkshire'])].copy()\n",
        "scaler_york = StandardScaler()\n",
        "york.iloc[:,1:] = scaler_york.fit_transform(york.iloc[:,1:])\n",
        "york.corr()"
      ],
      "execution_count": 7,
      "outputs": [
        {
          "output_type": "execute_result",
          "data": {
            "text/html": [
              "<div>\n",
              "<style scoped>\n",
              "    .dataframe tbody tr th:only-of-type {\n",
              "        vertical-align: middle;\n",
              "    }\n",
              "\n",
              "    .dataframe tbody tr th {\n",
              "        vertical-align: top;\n",
              "    }\n",
              "\n",
              "    .dataframe thead th {\n",
              "        text-align: right;\n",
              "    }\n",
              "</style>\n",
              "<table border=\"1\" class=\"dataframe\">\n",
              "  <thead>\n",
              "    <tr style=\"text-align: right;\">\n",
              "      <th></th>\n",
              "      <th>Diversity_Score</th>\n",
              "      <th>PD_Diversity</th>\n",
              "      <th>RI_Rate</th>\n",
              "      <th>Bias</th>\n",
              "    </tr>\n",
              "  </thead>\n",
              "  <tbody>\n",
              "    <tr>\n",
              "      <th>Diversity_Score</th>\n",
              "      <td>1.000000</td>\n",
              "      <td>0.993891</td>\n",
              "      <td>0.689982</td>\n",
              "      <td>-0.236778</td>\n",
              "    </tr>\n",
              "    <tr>\n",
              "      <th>PD_Diversity</th>\n",
              "      <td>0.993891</td>\n",
              "      <td>1.000000</td>\n",
              "      <td>0.742483</td>\n",
              "      <td>-0.128180</td>\n",
              "    </tr>\n",
              "    <tr>\n",
              "      <th>RI_Rate</th>\n",
              "      <td>0.689982</td>\n",
              "      <td>0.742483</td>\n",
              "      <td>1.000000</td>\n",
              "      <td>0.354741</td>\n",
              "    </tr>\n",
              "    <tr>\n",
              "      <th>Bias</th>\n",
              "      <td>-0.236778</td>\n",
              "      <td>-0.128180</td>\n",
              "      <td>0.354741</td>\n",
              "      <td>1.000000</td>\n",
              "    </tr>\n",
              "  </tbody>\n",
              "</table>\n",
              "</div>"
            ],
            "text/plain": [
              "                 Diversity_Score  PD_Diversity   RI_Rate      Bias\n",
              "Diversity_Score         1.000000      0.993891  0.689982 -0.236778\n",
              "PD_Diversity            0.993891      1.000000  0.742483 -0.128180\n",
              "RI_Rate                 0.689982      0.742483  1.000000  0.354741\n",
              "Bias                   -0.236778     -0.128180  0.354741  1.000000"
            ]
          },
          "metadata": {
            "tags": []
          },
          "execution_count": 7
        }
      ]
    },
    {
      "cell_type": "markdown",
      "metadata": {
        "id": "35PExTMsH5do"
      },
      "source": [
        "#### East Midlands Region"
      ]
    },
    {
      "cell_type": "code",
      "metadata": {
        "colab": {
          "base_uri": "https://localhost:8080/",
          "height": 166
        },
        "id": "b722_MlaHzR9",
        "outputId": "3821ee21-2b44-4fe6-c8b9-f8289ce4dec9"
      },
      "source": [
        "emr = mrg.loc[mrg['Geography'].isin(['Derbyshire',\n",
        "                                     'Leicestershire',\n",
        "                                     'Lincolnshire',\n",
        "                                     'Northamptonshire',\n",
        "                                     'Nottinghamshire'])].copy()\n",
        "scaler_emr = StandardScaler()\n",
        "emr.iloc[:,1:] = scaler_emr.fit_transform(emr.iloc[:,1:])\n",
        "emr.corr()"
      ],
      "execution_count": 8,
      "outputs": [
        {
          "output_type": "execute_result",
          "data": {
            "text/html": [
              "<div>\n",
              "<style scoped>\n",
              "    .dataframe tbody tr th:only-of-type {\n",
              "        vertical-align: middle;\n",
              "    }\n",
              "\n",
              "    .dataframe tbody tr th {\n",
              "        vertical-align: top;\n",
              "    }\n",
              "\n",
              "    .dataframe thead th {\n",
              "        text-align: right;\n",
              "    }\n",
              "</style>\n",
              "<table border=\"1\" class=\"dataframe\">\n",
              "  <thead>\n",
              "    <tr style=\"text-align: right;\">\n",
              "      <th></th>\n",
              "      <th>Diversity_Score</th>\n",
              "      <th>PD_Diversity</th>\n",
              "      <th>RI_Rate</th>\n",
              "      <th>Bias</th>\n",
              "    </tr>\n",
              "  </thead>\n",
              "  <tbody>\n",
              "    <tr>\n",
              "      <th>Diversity_Score</th>\n",
              "      <td>1.000000</td>\n",
              "      <td>0.985556</td>\n",
              "      <td>0.852127</td>\n",
              "      <td>0.399105</td>\n",
              "    </tr>\n",
              "    <tr>\n",
              "      <th>PD_Diversity</th>\n",
              "      <td>0.985556</td>\n",
              "      <td>1.000000</td>\n",
              "      <td>0.885068</td>\n",
              "      <td>0.244797</td>\n",
              "    </tr>\n",
              "    <tr>\n",
              "      <th>RI_Rate</th>\n",
              "      <td>0.852127</td>\n",
              "      <td>0.885068</td>\n",
              "      <td>1.000000</td>\n",
              "      <td>0.215892</td>\n",
              "    </tr>\n",
              "    <tr>\n",
              "      <th>Bias</th>\n",
              "      <td>0.399105</td>\n",
              "      <td>0.244797</td>\n",
              "      <td>0.215892</td>\n",
              "      <td>1.000000</td>\n",
              "    </tr>\n",
              "  </tbody>\n",
              "</table>\n",
              "</div>"
            ],
            "text/plain": [
              "                 Diversity_Score  PD_Diversity   RI_Rate      Bias\n",
              "Diversity_Score         1.000000      0.985556  0.852127  0.399105\n",
              "PD_Diversity            0.985556      1.000000  0.885068  0.244797\n",
              "RI_Rate                 0.852127      0.885068  1.000000  0.215892\n",
              "Bias                    0.399105      0.244797  0.215892  1.000000"
            ]
          },
          "metadata": {
            "tags": []
          },
          "execution_count": 8
        }
      ]
    },
    {
      "cell_type": "markdown",
      "metadata": {
        "id": "gbtvG5_cJOoI"
      },
      "source": [
        "#### West Midlands Region"
      ]
    },
    {
      "cell_type": "code",
      "metadata": {
        "colab": {
          "base_uri": "https://localhost:8080/",
          "height": 166
        },
        "id": "tKCw-r0kJfXi",
        "outputId": "7ce05a77-4c92-47bd-a6e5-bc3fa4668740"
      },
      "source": [
        "wmr = mrg.loc[mrg['Geography'].isin(['Staffordshire',\n",
        "                                     'Warwickshire',\n",
        "                                     'West Mercia',\n",
        "                                     'West Midlands'])].copy()\n",
        "scaler_wmr = StandardScaler()\n",
        "wmr.iloc[:,1:] = scaler_wmr.fit_transform(wmr.iloc[:,1:])\n",
        "wmr.corr()"
      ],
      "execution_count": 9,
      "outputs": [
        {
          "output_type": "execute_result",
          "data": {
            "text/html": [
              "<div>\n",
              "<style scoped>\n",
              "    .dataframe tbody tr th:only-of-type {\n",
              "        vertical-align: middle;\n",
              "    }\n",
              "\n",
              "    .dataframe tbody tr th {\n",
              "        vertical-align: top;\n",
              "    }\n",
              "\n",
              "    .dataframe thead th {\n",
              "        text-align: right;\n",
              "    }\n",
              "</style>\n",
              "<table border=\"1\" class=\"dataframe\">\n",
              "  <thead>\n",
              "    <tr style=\"text-align: right;\">\n",
              "      <th></th>\n",
              "      <th>Diversity_Score</th>\n",
              "      <th>PD_Diversity</th>\n",
              "      <th>RI_Rate</th>\n",
              "      <th>Bias</th>\n",
              "    </tr>\n",
              "  </thead>\n",
              "  <tbody>\n",
              "    <tr>\n",
              "      <th>Diversity_Score</th>\n",
              "      <td>1.000000</td>\n",
              "      <td>0.936957</td>\n",
              "      <td>-0.129007</td>\n",
              "      <td>-0.673778</td>\n",
              "    </tr>\n",
              "    <tr>\n",
              "      <th>PD_Diversity</th>\n",
              "      <td>0.936957</td>\n",
              "      <td>1.000000</td>\n",
              "      <td>-0.304088</td>\n",
              "      <td>-0.613317</td>\n",
              "    </tr>\n",
              "    <tr>\n",
              "      <th>RI_Rate</th>\n",
              "      <td>-0.129007</td>\n",
              "      <td>-0.304088</td>\n",
              "      <td>1.000000</td>\n",
              "      <td>-0.560514</td>\n",
              "    </tr>\n",
              "    <tr>\n",
              "      <th>Bias</th>\n",
              "      <td>-0.673778</td>\n",
              "      <td>-0.613317</td>\n",
              "      <td>-0.560514</td>\n",
              "      <td>1.000000</td>\n",
              "    </tr>\n",
              "  </tbody>\n",
              "</table>\n",
              "</div>"
            ],
            "text/plain": [
              "                 Diversity_Score  PD_Diversity   RI_Rate      Bias\n",
              "Diversity_Score         1.000000      0.936957 -0.129007 -0.673778\n",
              "PD_Diversity            0.936957      1.000000 -0.304088 -0.613317\n",
              "RI_Rate                -0.129007     -0.304088  1.000000 -0.560514\n",
              "Bias                   -0.673778     -0.613317 -0.560514  1.000000"
            ]
          },
          "metadata": {
            "tags": []
          },
          "execution_count": 9
        }
      ]
    },
    {
      "cell_type": "markdown",
      "metadata": {
        "id": "Gix7K78SKd14"
      },
      "source": [
        "#### East of England Region"
      ]
    },
    {
      "cell_type": "code",
      "metadata": {
        "colab": {
          "base_uri": "https://localhost:8080/",
          "height": 166
        },
        "id": "VzpgI8ZKKfB2",
        "outputId": "d483d4fe-5d11-44f9-fbd9-69886fb22fa5"
      },
      "source": [
        "eer = mrg.loc[mrg['Geography'].isin(['Bedfordshire',\n",
        "                                     'Cambridgeshire',\n",
        "                                     'Essex',\n",
        "                                     'Hertfordshire',\n",
        "                                     'Norfolk',\n",
        "                                     'Suffolk'])].copy()\n",
        "scaler_eer = StandardScaler()\n",
        "eer.iloc[:,1:] = scaler_eer.fit_transform(eer.iloc[:,1:])\n",
        "eer.corr()"
      ],
      "execution_count": 10,
      "outputs": [
        {
          "output_type": "execute_result",
          "data": {
            "text/html": [
              "<div>\n",
              "<style scoped>\n",
              "    .dataframe tbody tr th:only-of-type {\n",
              "        vertical-align: middle;\n",
              "    }\n",
              "\n",
              "    .dataframe tbody tr th {\n",
              "        vertical-align: top;\n",
              "    }\n",
              "\n",
              "    .dataframe thead th {\n",
              "        text-align: right;\n",
              "    }\n",
              "</style>\n",
              "<table border=\"1\" class=\"dataframe\">\n",
              "  <thead>\n",
              "    <tr style=\"text-align: right;\">\n",
              "      <th></th>\n",
              "      <th>Diversity_Score</th>\n",
              "      <th>PD_Diversity</th>\n",
              "      <th>RI_Rate</th>\n",
              "      <th>Bias</th>\n",
              "    </tr>\n",
              "  </thead>\n",
              "  <tbody>\n",
              "    <tr>\n",
              "      <th>Diversity_Score</th>\n",
              "      <td>1.000000</td>\n",
              "      <td>0.971406</td>\n",
              "      <td>0.236003</td>\n",
              "      <td>-0.749136</td>\n",
              "    </tr>\n",
              "    <tr>\n",
              "      <th>PD_Diversity</th>\n",
              "      <td>0.971406</td>\n",
              "      <td>1.000000</td>\n",
              "      <td>0.261270</td>\n",
              "      <td>-0.668374</td>\n",
              "    </tr>\n",
              "    <tr>\n",
              "      <th>RI_Rate</th>\n",
              "      <td>0.236003</td>\n",
              "      <td>0.261270</td>\n",
              "      <td>1.000000</td>\n",
              "      <td>-0.184432</td>\n",
              "    </tr>\n",
              "    <tr>\n",
              "      <th>Bias</th>\n",
              "      <td>-0.749136</td>\n",
              "      <td>-0.668374</td>\n",
              "      <td>-0.184432</td>\n",
              "      <td>1.000000</td>\n",
              "    </tr>\n",
              "  </tbody>\n",
              "</table>\n",
              "</div>"
            ],
            "text/plain": [
              "                 Diversity_Score  PD_Diversity   RI_Rate      Bias\n",
              "Diversity_Score         1.000000      0.971406  0.236003 -0.749136\n",
              "PD_Diversity            0.971406      1.000000  0.261270 -0.668374\n",
              "RI_Rate                 0.236003      0.261270  1.000000 -0.184432\n",
              "Bias                   -0.749136     -0.668374 -0.184432  1.000000"
            ]
          },
          "metadata": {
            "tags": []
          },
          "execution_count": 10
        }
      ]
    },
    {
      "cell_type": "markdown",
      "metadata": {
        "id": "bAWBmfjPPM5G"
      },
      "source": [
        "#### London Region\n"
      ]
    },
    {
      "cell_type": "code",
      "metadata": {
        "colab": {
          "base_uri": "https://localhost:8080/",
          "height": 77
        },
        "id": "rsBLeBDAOray",
        "outputId": "1ad8133d-27b1-463c-9f23-680517afa007"
      },
      "source": [
        "lon = mrg.loc[mrg['Geography'].isin(['Metropolitan Police'])].copy()\n",
        "lon"
      ],
      "execution_count": 11,
      "outputs": [
        {
          "output_type": "execute_result",
          "data": {
            "text/html": [
              "<div>\n",
              "<style scoped>\n",
              "    .dataframe tbody tr th:only-of-type {\n",
              "        vertical-align: middle;\n",
              "    }\n",
              "\n",
              "    .dataframe tbody tr th {\n",
              "        vertical-align: top;\n",
              "    }\n",
              "\n",
              "    .dataframe thead th {\n",
              "        text-align: right;\n",
              "    }\n",
              "</style>\n",
              "<table border=\"1\" class=\"dataframe\">\n",
              "  <thead>\n",
              "    <tr style=\"text-align: right;\">\n",
              "      <th></th>\n",
              "      <th>Geography</th>\n",
              "      <th>Diversity_Score</th>\n",
              "      <th>PD_Diversity</th>\n",
              "      <th>RI_Rate</th>\n",
              "      <th>Bias</th>\n",
              "    </tr>\n",
              "  </thead>\n",
              "  <tbody>\n",
              "    <tr>\n",
              "      <th>21</th>\n",
              "      <td>Metropolitan Police</td>\n",
              "      <td>0.750924</td>\n",
              "      <td>0.339262</td>\n",
              "      <td>0.011435</td>\n",
              "      <td>0.57625</td>\n",
              "    </tr>\n",
              "  </tbody>\n",
              "</table>\n",
              "</div>"
            ],
            "text/plain": [
              "              Geography  Diversity_Score  PD_Diversity   RI_Rate     Bias\n",
              "21  Metropolitan Police         0.750924      0.339262  0.011435  0.57625"
            ]
          },
          "metadata": {
            "tags": []
          },
          "execution_count": 11
        }
      ]
    },
    {
      "cell_type": "markdown",
      "metadata": {
        "id": "5wYnj5BdPlvK"
      },
      "source": [
        "#### South East Region"
      ]
    },
    {
      "cell_type": "code",
      "metadata": {
        "colab": {
          "base_uri": "https://localhost:8080/",
          "height": 166
        },
        "id": "Y483AqoWPnCK",
        "outputId": "ed4db793-4b22-4fc4-e3dd-64f3cf8ca2cc"
      },
      "source": [
        "ser = mrg.loc[mrg['Geography'].isin(['Hampshire',\n",
        "                                     'Kent',\n",
        "                                     'Surrey',\n",
        "                                     'Sussex',\n",
        "                                     'Thames Valley'])].copy()\n",
        "scaler_ser = StandardScaler()\n",
        "ser.iloc[:,1:] = scaler_ser.fit_transform(ser.iloc[:,1:])\n",
        "ser.corr()"
      ],
      "execution_count": 12,
      "outputs": [
        {
          "output_type": "execute_result",
          "data": {
            "text/html": [
              "<div>\n",
              "<style scoped>\n",
              "    .dataframe tbody tr th:only-of-type {\n",
              "        vertical-align: middle;\n",
              "    }\n",
              "\n",
              "    .dataframe tbody tr th {\n",
              "        vertical-align: top;\n",
              "    }\n",
              "\n",
              "    .dataframe thead th {\n",
              "        text-align: right;\n",
              "    }\n",
              "</style>\n",
              "<table border=\"1\" class=\"dataframe\">\n",
              "  <thead>\n",
              "    <tr style=\"text-align: right;\">\n",
              "      <th></th>\n",
              "      <th>Diversity_Score</th>\n",
              "      <th>PD_Diversity</th>\n",
              "      <th>RI_Rate</th>\n",
              "      <th>Bias</th>\n",
              "    </tr>\n",
              "  </thead>\n",
              "  <tbody>\n",
              "    <tr>\n",
              "      <th>Diversity_Score</th>\n",
              "      <td>1.000000</td>\n",
              "      <td>0.962027</td>\n",
              "      <td>0.624070</td>\n",
              "      <td>-0.562266</td>\n",
              "    </tr>\n",
              "    <tr>\n",
              "      <th>PD_Diversity</th>\n",
              "      <td>0.962027</td>\n",
              "      <td>1.000000</td>\n",
              "      <td>0.794600</td>\n",
              "      <td>-0.694926</td>\n",
              "    </tr>\n",
              "    <tr>\n",
              "      <th>RI_Rate</th>\n",
              "      <td>0.624070</td>\n",
              "      <td>0.794600</td>\n",
              "      <td>1.000000</td>\n",
              "      <td>-0.679312</td>\n",
              "    </tr>\n",
              "    <tr>\n",
              "      <th>Bias</th>\n",
              "      <td>-0.562266</td>\n",
              "      <td>-0.694926</td>\n",
              "      <td>-0.679312</td>\n",
              "      <td>1.000000</td>\n",
              "    </tr>\n",
              "  </tbody>\n",
              "</table>\n",
              "</div>"
            ],
            "text/plain": [
              "                 Diversity_Score  PD_Diversity   RI_Rate      Bias\n",
              "Diversity_Score         1.000000      0.962027  0.624070 -0.562266\n",
              "PD_Diversity            0.962027      1.000000  0.794600 -0.694926\n",
              "RI_Rate                 0.624070      0.794600  1.000000 -0.679312\n",
              "Bias                   -0.562266     -0.694926 -0.679312  1.000000"
            ]
          },
          "metadata": {
            "tags": []
          },
          "execution_count": 12
        }
      ]
    },
    {
      "cell_type": "markdown",
      "metadata": {
        "id": "2RDqPMLkS_K2"
      },
      "source": [
        "#### South West Region"
      ]
    },
    {
      "cell_type": "code",
      "metadata": {
        "colab": {
          "base_uri": "https://localhost:8080/",
          "height": 166
        },
        "id": "gJ4BTHMqTAcL",
        "outputId": "c9c79478-45c9-4d8a-be8b-4b8292208217"
      },
      "source": [
        "swr = mrg.loc[mrg['Geography'].isin(['Avon and Somerset',\n",
        "                                     'Devon and Cornwall',\n",
        "                                     'Dorset',\n",
        "                                     'Gloucestershire',\n",
        "                                     'Wiltshire'])].copy()\n",
        "scaler_swr = StandardScaler()\n",
        "swr.iloc[:,1:] = scaler_swr.fit_transform(swr.iloc[:,1:])\n",
        "swr.corr()"
      ],
      "execution_count": 13,
      "outputs": [
        {
          "output_type": "execute_result",
          "data": {
            "text/html": [
              "<div>\n",
              "<style scoped>\n",
              "    .dataframe tbody tr th:only-of-type {\n",
              "        vertical-align: middle;\n",
              "    }\n",
              "\n",
              "    .dataframe tbody tr th {\n",
              "        vertical-align: top;\n",
              "    }\n",
              "\n",
              "    .dataframe thead th {\n",
              "        text-align: right;\n",
              "    }\n",
              "</style>\n",
              "<table border=\"1\" class=\"dataframe\">\n",
              "  <thead>\n",
              "    <tr style=\"text-align: right;\">\n",
              "      <th></th>\n",
              "      <th>Diversity_Score</th>\n",
              "      <th>PD_Diversity</th>\n",
              "      <th>RI_Rate</th>\n",
              "      <th>Bias</th>\n",
              "    </tr>\n",
              "  </thead>\n",
              "  <tbody>\n",
              "    <tr>\n",
              "      <th>Diversity_Score</th>\n",
              "      <td>1.000000</td>\n",
              "      <td>-0.231577</td>\n",
              "      <td>-0.971447</td>\n",
              "      <td>-0.732692</td>\n",
              "    </tr>\n",
              "    <tr>\n",
              "      <th>PD_Diversity</th>\n",
              "      <td>-0.231577</td>\n",
              "      <td>1.000000</td>\n",
              "      <td>0.455773</td>\n",
              "      <td>-0.492386</td>\n",
              "    </tr>\n",
              "    <tr>\n",
              "      <th>RI_Rate</th>\n",
              "      <td>-0.971447</td>\n",
              "      <td>0.455773</td>\n",
              "      <td>1.000000</td>\n",
              "      <td>0.550303</td>\n",
              "    </tr>\n",
              "    <tr>\n",
              "      <th>Bias</th>\n",
              "      <td>-0.732692</td>\n",
              "      <td>-0.492386</td>\n",
              "      <td>0.550303</td>\n",
              "      <td>1.000000</td>\n",
              "    </tr>\n",
              "  </tbody>\n",
              "</table>\n",
              "</div>"
            ],
            "text/plain": [
              "                 Diversity_Score  PD_Diversity   RI_Rate      Bias\n",
              "Diversity_Score         1.000000     -0.231577 -0.971447 -0.732692\n",
              "PD_Diversity           -0.231577      1.000000  0.455773 -0.492386\n",
              "RI_Rate                -0.971447      0.455773  1.000000  0.550303\n",
              "Bias                   -0.732692     -0.492386  0.550303  1.000000"
            ]
          },
          "metadata": {
            "tags": []
          },
          "execution_count": 13
        }
      ]
    },
    {
      "cell_type": "markdown",
      "metadata": {
        "id": "sVAxnsdKTxdt"
      },
      "source": [
        "#### Country of Wales"
      ]
    },
    {
      "cell_type": "code",
      "metadata": {
        "colab": {
          "base_uri": "https://localhost:8080/",
          "height": 166
        },
        "id": "3J3yjjqkTq2C",
        "outputId": "370f1184-f031-4414-9e19-bba69433dd8c"
      },
      "source": [
        "wales = mrg.loc[mrg['Geography'].isin(['Dyfed-Powys',\n",
        "                                       'Gwent',\n",
        "                                       'North Wales',\n",
        "                                       'South Wales'])].copy()\n",
        "scaler_wales = StandardScaler()\n",
        "wales.iloc[:,1:] = scaler_wales.fit_transform(wales.iloc[:,1:])\n",
        "wales.corr()"
      ],
      "execution_count": 14,
      "outputs": [
        {
          "output_type": "execute_result",
          "data": {
            "text/html": [
              "<div>\n",
              "<style scoped>\n",
              "    .dataframe tbody tr th:only-of-type {\n",
              "        vertical-align: middle;\n",
              "    }\n",
              "\n",
              "    .dataframe tbody tr th {\n",
              "        vertical-align: top;\n",
              "    }\n",
              "\n",
              "    .dataframe thead th {\n",
              "        text-align: right;\n",
              "    }\n",
              "</style>\n",
              "<table border=\"1\" class=\"dataframe\">\n",
              "  <thead>\n",
              "    <tr style=\"text-align: right;\">\n",
              "      <th></th>\n",
              "      <th>Diversity_Score</th>\n",
              "      <th>PD_Diversity</th>\n",
              "      <th>RI_Rate</th>\n",
              "      <th>Bias</th>\n",
              "    </tr>\n",
              "  </thead>\n",
              "  <tbody>\n",
              "    <tr>\n",
              "      <th>Diversity_Score</th>\n",
              "      <td>1.000000</td>\n",
              "      <td>0.997806</td>\n",
              "      <td>0.931147</td>\n",
              "      <td>0.516401</td>\n",
              "    </tr>\n",
              "    <tr>\n",
              "      <th>PD_Diversity</th>\n",
              "      <td>0.997806</td>\n",
              "      <td>1.000000</td>\n",
              "      <td>0.905040</td>\n",
              "      <td>0.569241</td>\n",
              "    </tr>\n",
              "    <tr>\n",
              "      <th>RI_Rate</th>\n",
              "      <td>0.931147</td>\n",
              "      <td>0.905040</td>\n",
              "      <td>1.000000</td>\n",
              "      <td>0.192224</td>\n",
              "    </tr>\n",
              "    <tr>\n",
              "      <th>Bias</th>\n",
              "      <td>0.516401</td>\n",
              "      <td>0.569241</td>\n",
              "      <td>0.192224</td>\n",
              "      <td>1.000000</td>\n",
              "    </tr>\n",
              "  </tbody>\n",
              "</table>\n",
              "</div>"
            ],
            "text/plain": [
              "                 Diversity_Score  PD_Diversity   RI_Rate      Bias\n",
              "Diversity_Score         1.000000      0.997806  0.931147  0.516401\n",
              "PD_Diversity            0.997806      1.000000  0.905040  0.569241\n",
              "RI_Rate                 0.931147      0.905040  1.000000  0.192224\n",
              "Bias                    0.516401      0.569241  0.192224  1.000000"
            ]
          },
          "metadata": {
            "tags": []
          },
          "execution_count": 14
        }
      ]
    }
  ]
}